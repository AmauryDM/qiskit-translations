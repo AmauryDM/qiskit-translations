{
 "cells": [
  {
   "cell_type": "code",
   "execution_count": 1,
   "id": "38398951",
   "metadata": {
    "execution": {
     "iopub.execute_input": "2021-06-23T22:18:42.713986Z",
     "iopub.status.busy": "2021-06-23T22:18:42.713394Z",
     "iopub.status.idle": "2021-06-23T22:18:43.443798Z",
     "shell.execute_reply": "2021-06-23T22:18:43.444306Z"
    }
   },
   "outputs": [
    {
     "data": {
      "text/html": [
       "<pre style=\"word-wrap: normal;white-space: pre;background: #fff0;line-height: 1.1;font-family: &quot;Courier New&quot;,Courier,monospace\">     ┌───┐          \n",
       "q_0: ┤ H ├──■────■──\n",
       "     └───┘┌─┴─┐  │  \n",
       "q_1: ─────┤ X ├──┼──\n",
       "          └───┘┌─┴─┐\n",
       "q_2: ──────────┤ X ├\n",
       "               └───┘</pre>"
      ],
      "text/plain": [
       "     ┌───┐          \n",
       "q_0: ┤ H ├──■────■──\n",
       "     └───┘┌─┴─┐  │  \n",
       "q_1: ─────┤ X ├──┼──\n",
       "          └───┘┌─┴─┐\n",
       "q_2: ──────────┤ X ├\n",
       "               └───┘"
      ]
     },
     "execution_count": 1,
     "metadata": {},
     "output_type": "execute_result"
    }
   ],
   "source": [
    "from qiskit import QuantumCircuit\n",
    "# Create a circuit with a register of three qubits\n",
    "circ = QuantumCircuit(3)\n",
    "# H gate on qubit 0, putting this qubit in a superposition of |0> + |1>.\n",
    "circ.h(0)\n",
    "# A CX (CNOT) gate on control qubit 0 and target qubit 1 generating a Bell state.\n",
    "circ.cx(0, 1)\n",
    "# CX (CNOT) gate on control qubit 0 and target qubit 2 resulting in a GHZ state.\n",
    "circ.cx(0, 2)\n",
    "# Draw the circuit\n",
    "circ.draw()"
   ]
  },
  {
   "cell_type": "code",
   "execution_count": 2,
   "id": "621a4c4c",
   "metadata": {
    "execution": {
     "iopub.execute_input": "2021-06-23T22:18:43.457703Z",
     "iopub.status.busy": "2021-06-23T22:18:43.456274Z",
     "iopub.status.idle": "2021-06-23T22:18:43.475644Z",
     "shell.execute_reply": "2021-06-23T22:18:43.475129Z"
    }
   },
   "outputs": [
    {
     "data": {
      "text/html": [
       "<pre style=\"word-wrap: normal;white-space: pre;background: #fff0;line-height: 1.1;font-family: &quot;Courier New&quot;,Courier,monospace\">      ┌───┐                                                           \n",
       " q_0: ┤ H ├──■────────────────────────────────────────────────────────\n",
       "      ├───┤  │                                                        \n",
       " q_1: ┤ H ├──┼────■───────────────────■────■─────────■────────────────\n",
       "      ├───┤  │    │                   │    │         │                \n",
       " q_2: ┤ H ├──┼────┼────■──────────────┼────┼─────────┼────────────────\n",
       "      ├───┤  │    │    │              │    │         │                \n",
       " q_3: ┤ H ├──┼────┼────┼────■─────────┼────┼─────────┼────────────────\n",
       "      ├───┤  │    │    │    │         │    │         │                \n",
       " q_4: ┤ H ├──┼────┼────┼────┼────■────┼────┼─────────┼────────────────\n",
       "      └───┘┌─┴─┐  │    │    │    │    │    │         │                \n",
       " q_5: ─────┤ X ├──┼────┼────┼────┼────┼────┼─────────┼────────────────\n",
       "           └───┘┌─┴─┐  │    │    │    │    │         │           ┌───┐\n",
       " q_6: ──────────┤ X ├──┼────┼────┼────┼────┼─────────┼───X──X──X─┤ X ├\n",
       "                └───┘┌─┴─┐  │    │  ┌─┴─┐  │  ┌───┐  │   │  │  │ └───┘\n",
       " q_7: ───────────────┤ X ├──┼────┼──┤ X ├──┼──┤ X ├──┼───┼──┼──┼──────\n",
       "                     └───┘┌─┴─┐  │  ├───┤  │  └───┘  │   │  │  │      \n",
       " q_8: ────────────────────┤ X ├──┼──┤ X ├──┼─────────┼───┼──┼──┼──────\n",
       "                          └───┘┌─┴─┐└───┘┌─┴─┐       │   │  │  │      \n",
       " q_9: ─────────────────────────┤ X ├─────┤ X ├───────┼───┼──X──┼──────\n",
       "                               └───┘     └───┘       │   │     │      \n",
       "q_10: ───────────────────────────────────────────────┼───┼─────X──────\n",
       "                                                   ┌─┴─┐ │            \n",
       "q_11: ─────────────────────────────────────────────┤ X ├─X────────────\n",
       "                                                   └───┘              </pre>"
      ],
      "text/plain": [
       "      ┌───┐                                                           \n",
       " q_0: ┤ H ├──■────────────────────────────────────────────────────────\n",
       "      ├───┤  │                                                        \n",
       " q_1: ┤ H ├──┼────■───────────────────■────■─────────■────────────────\n",
       "      ├───┤  │    │                   │    │         │                \n",
       " q_2: ┤ H ├──┼────┼────■──────────────┼────┼─────────┼────────────────\n",
       "      ├───┤  │    │    │              │    │         │                \n",
       " q_3: ┤ H ├──┼────┼────┼────■─────────┼────┼─────────┼────────────────\n",
       "      ├───┤  │    │    │    │         │    │         │                \n",
       " q_4: ┤ H ├──┼────┼────┼────┼────■────┼────┼─────────┼────────────────\n",
       "      └───┘┌─┴─┐  │    │    │    │    │    │         │                \n",
       " q_5: ─────┤ X ├──┼────┼────┼────┼────┼────┼─────────┼────────────────\n",
       "           └───┘┌─┴─┐  │    │    │    │    │         │           ┌───┐\n",
       " q_6: ──────────┤ X ├──┼────┼────┼────┼────┼─────────┼───X──X──X─┤ X ├\n",
       "                └───┘┌─┴─┐  │    │  ┌─┴─┐  │  ┌───┐  │   │  │  │ └───┘\n",
       " q_7: ───────────────┤ X ├──┼────┼──┤ X ├──┼──┤ X ├──┼───┼──┼──┼──────\n",
       "                     └───┘┌─┴─┐  │  ├───┤  │  └───┘  │   │  │  │      \n",
       " q_8: ────────────────────┤ X ├──┼──┤ X ├──┼─────────┼───┼──┼──┼──────\n",
       "                          └───┘┌─┴─┐└───┘┌─┴─┐       │   │  │  │      \n",
       " q_9: ─────────────────────────┤ X ├─────┤ X ├───────┼───┼──X──┼──────\n",
       "                               └───┘     └───┘       │   │     │      \n",
       "q_10: ───────────────────────────────────────────────┼───┼─────X──────\n",
       "                                                   ┌─┴─┐ │            \n",
       "q_11: ─────────────────────────────────────────────┤ X ├─X────────────\n",
       "                                                   └───┘              "
      ]
     },
     "execution_count": 2,
     "metadata": {},
     "output_type": "execute_result"
    }
   ],
   "source": [
    "from qiskit import QuantumCircuit\n",
    "qc = QuantumCircuit(12)\n",
    "for idx in range(5):\n",
    "   qc.h(idx)\n",
    "   qc.cx(idx, idx+5)\n",
    "\n",
    "qc.cx(1, 7)\n",
    "qc.x(8)\n",
    "qc.cx(1, 9)\n",
    "qc.x(7)\n",
    "qc.cx(1, 11)\n",
    "qc.swap(6, 11)\n",
    "qc.swap(6, 9)\n",
    "qc.swap(6, 10)\n",
    "qc.x(6)\n",
    "qc.draw()"
   ]
  },
  {
   "cell_type": "code",
   "execution_count": 3,
   "id": "e037e053",
   "metadata": {
    "execution": {
     "iopub.execute_input": "2021-06-23T22:18:43.481202Z",
     "iopub.status.busy": "2021-06-23T22:18:43.480088Z",
     "iopub.status.idle": "2021-06-23T22:18:43.483218Z",
     "shell.execute_reply": "2021-06-23T22:18:43.483690Z"
    }
   },
   "outputs": [
    {
     "data": {
      "text/plain": [
       "12"
      ]
     },
     "execution_count": 3,
     "metadata": {},
     "output_type": "execute_result"
    }
   ],
   "source": [
    "qc.width()"
   ]
  },
  {
   "cell_type": "code",
   "execution_count": 4,
   "id": "25483a6d",
   "metadata": {
    "execution": {
     "iopub.execute_input": "2021-06-23T22:18:43.488176Z",
     "iopub.status.busy": "2021-06-23T22:18:43.486048Z",
     "iopub.status.idle": "2021-06-23T22:18:43.490468Z",
     "shell.execute_reply": "2021-06-23T22:18:43.490960Z"
    }
   },
   "outputs": [
    {
     "data": {
      "text/plain": [
       "12"
      ]
     },
     "execution_count": 4,
     "metadata": {},
     "output_type": "execute_result"
    }
   ],
   "source": [
    "qc.num_qubits"
   ]
  },
  {
   "cell_type": "code",
   "execution_count": 5,
   "id": "21b11b97",
   "metadata": {
    "execution": {
     "iopub.execute_input": "2021-06-23T22:18:43.497089Z",
     "iopub.status.busy": "2021-06-23T22:18:43.496016Z",
     "iopub.status.idle": "2021-06-23T22:18:43.500262Z",
     "shell.execute_reply": "2021-06-23T22:18:43.499597Z"
    }
   },
   "outputs": [
    {
     "data": {
      "text/plain": [
       "OrderedDict([('cx', 8), ('h', 5), ('x', 3), ('swap', 3)])"
      ]
     },
     "execution_count": 5,
     "metadata": {},
     "output_type": "execute_result"
    }
   ],
   "source": [
    "qc.count_ops()"
   ]
  },
  {
   "cell_type": "code",
   "execution_count": 6,
   "id": "3e75b56a",
   "metadata": {
    "execution": {
     "iopub.execute_input": "2021-06-23T22:18:43.504501Z",
     "iopub.status.busy": "2021-06-23T22:18:43.503916Z",
     "iopub.status.idle": "2021-06-23T22:18:43.508102Z",
     "shell.execute_reply": "2021-06-23T22:18:43.508512Z"
    }
   },
   "outputs": [
    {
     "data": {
      "text/plain": [
       "19"
      ]
     },
     "execution_count": 6,
     "metadata": {},
     "output_type": "execute_result"
    }
   ],
   "source": [
    "qc.size()"
   ]
  },
  {
   "cell_type": "code",
   "execution_count": 7,
   "id": "e71b5593",
   "metadata": {
    "execution": {
     "iopub.execute_input": "2021-06-23T22:18:43.514457Z",
     "iopub.status.busy": "2021-06-23T22:18:43.512509Z",
     "iopub.status.idle": "2021-06-23T22:18:43.516609Z",
     "shell.execute_reply": "2021-06-23T22:18:43.517135Z"
    }
   },
   "outputs": [
    {
     "data": {
      "text/plain": [
       "9"
      ]
     },
     "execution_count": 7,
     "metadata": {},
     "output_type": "execute_result"
    }
   ],
   "source": [
    "qc.depth()"
   ]
  }
 ],
 "metadata": {
  "kernelspec": {
   "display_name": "Python 3",
   "language": "python",
   "name": "python3"
  },
  "language_info": {
   "codemirror_mode": {
    "name": "ipython",
    "version": 3
   },
   "file_extension": ".py",
   "mimetype": "text/x-python",
   "name": "python",
   "nbconvert_exporter": "python",
   "pygments_lexer": "ipython3",
   "version": "3.8.10"
  }
 },
 "nbformat": 4,
 "nbformat_minor": 5
}