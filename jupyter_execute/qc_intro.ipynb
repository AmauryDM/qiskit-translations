{
 "cells": [
  {
   "cell_type": "code",
   "execution_count": 1,
   "id": "2c3be11d",
   "metadata": {
    "execution": {
     "iopub.execute_input": "2021-06-24T12:04:04.780588Z",
     "iopub.status.busy": "2021-06-24T12:04:04.774915Z",
     "iopub.status.idle": "2021-06-24T12:04:05.442557Z",
     "shell.execute_reply": "2021-06-24T12:04:05.441467Z"
    }
   },
   "outputs": [],
   "source": [
    "from qiskit import *"
   ]
  },
  {
   "cell_type": "code",
   "execution_count": 2,
   "id": "200761e5",
   "metadata": {
    "execution": {
     "iopub.execute_input": "2021-06-24T12:04:05.457517Z",
     "iopub.status.busy": "2021-06-24T12:04:05.457008Z",
     "iopub.status.idle": "2021-06-24T12:04:05.462002Z",
     "shell.execute_reply": "2021-06-24T12:04:05.462392Z"
    }
   },
   "outputs": [
    {
     "data": {
      "text/plain": [
       "<qiskit.circuit.instructionset.InstructionSet at 0x7f8d16190bb0>"
      ]
     },
     "execution_count": 2,
     "metadata": {},
     "output_type": "execute_result"
    }
   ],
   "source": [
    "qr = QuantumRegister(3, 'q')\n",
    "cr = ClassicalRegister(2, 'zx_meas')\n",
    "qc = QuantumCircuit(qr,cr)\n",
    "qc.reset(range(3))\n",
    "qc.barrier()\n",
    "qc.h(1)\n",
    "qc.cx([1,0],[2,1])\n",
    "qc.h(0)\n",
    "qc.barrier()\n",
    "qc.measure([0,1], [0,1])\n",
    "qc.barrier()\n",
    "qc.z(2).c_if(cr, 1)\n",
    "qc.x(2).c_if(cr, 2)"
   ]
  }
 ],
 "metadata": {
  "kernelspec": {
   "display_name": "Python 3",
   "language": "python",
   "name": "python3"
  },
  "language_info": {
   "codemirror_mode": {
    "name": "ipython",
    "version": 3
   },
   "file_extension": ".py",
   "mimetype": "text/x-python",
   "name": "python",
   "nbconvert_exporter": "python",
   "pygments_lexer": "ipython3",
   "version": "3.8.10"
  }
 },
 "nbformat": 4,
 "nbformat_minor": 5
}