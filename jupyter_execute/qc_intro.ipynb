{
 "cells": [
  {
   "cell_type": "code",
   "execution_count": 1,
   "id": "5503bfe3",
   "metadata": {
    "execution": {
     "iopub.execute_input": "2021-06-24T14:44:27.386369Z",
     "iopub.status.busy": "2021-06-24T14:44:27.382860Z",
     "iopub.status.idle": "2021-06-24T14:44:28.105220Z",
     "shell.execute_reply": "2021-06-24T14:44:28.104210Z"
    }
   },
   "outputs": [],
   "source": [
    "from qiskit import *"
   ]
  },
  {
   "cell_type": "code",
   "execution_count": 2,
   "id": "63c437c8",
   "metadata": {
    "execution": {
     "iopub.execute_input": "2021-06-24T14:44:28.119176Z",
     "iopub.status.busy": "2021-06-24T14:44:28.117873Z",
     "iopub.status.idle": "2021-06-24T14:44:28.123943Z",
     "shell.execute_reply": "2021-06-24T14:44:28.124447Z"
    }
   },
   "outputs": [
    {
     "data": {
      "text/plain": [
       "<qiskit.circuit.instructionset.InstructionSet at 0x7f17749afb50>"
      ]
     },
     "execution_count": 2,
     "metadata": {},
     "output_type": "execute_result"
    }
   ],
   "source": [
    "qr = QuantumRegister(3, 'q')\n",
    "cr = ClassicalRegister(2, 'zx_meas')\n",
    "qc = QuantumCircuit(qr,cr)\n",
    "qc.reset(range(3))\n",
    "qc.barrier()\n",
    "qc.h(1)\n",
    "qc.cx([1,0],[2,1])\n",
    "qc.h(0)\n",
    "qc.barrier()\n",
    "qc.measure([0,1], [0,1])\n",
    "qc.barrier()\n",
    "qc.z(2).c_if(cr, 1)\n",
    "qc.x(2).c_if(cr, 2)"
   ]
  }
 ],
 "metadata": {
  "kernelspec": {
   "display_name": "Python 3",
   "language": "python",
   "name": "python3"
  },
  "language_info": {
   "codemirror_mode": {
    "name": "ipython",
    "version": 3
   },
   "file_extension": ".py",
   "mimetype": "text/x-python",
   "name": "python",
   "nbconvert_exporter": "python",
   "pygments_lexer": "ipython3",
   "version": "3.8.10"
  }
 },
 "nbformat": 4,
 "nbformat_minor": 5
}