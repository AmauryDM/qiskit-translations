{
 "cells": [
  {
   "cell_type": "code",
   "execution_count": 1,
   "id": "a8e3f221",
   "metadata": {
    "execution": {
     "iopub.execute_input": "2021-07-28T13:13:49.299655Z",
     "iopub.status.busy": "2021-07-28T13:13:49.299115Z",
     "iopub.status.idle": "2021-07-28T13:13:50.104886Z",
     "shell.execute_reply": "2021-07-28T13:13:50.103926Z"
    }
   },
   "outputs": [],
   "source": [
    "from qiskit import *"
   ]
  },
  {
   "cell_type": "code",
   "execution_count": 2,
   "id": "5229cfd6",
   "metadata": {
    "execution": {
     "iopub.execute_input": "2021-07-28T13:13:50.117748Z",
     "iopub.status.busy": "2021-07-28T13:13:50.117283Z",
     "iopub.status.idle": "2021-07-28T13:13:50.121707Z",
     "shell.execute_reply": "2021-07-28T13:13:50.122063Z"
    }
   },
   "outputs": [
    {
     "data": {
      "text/plain": [
       "<qiskit.circuit.instructionset.InstructionSet at 0x7ffb6399d580>"
      ]
     },
     "execution_count": 2,
     "metadata": {},
     "output_type": "execute_result"
    }
   ],
   "source": [
    "qr = QuantumRegister(3, 'q')\n",
    "cr = ClassicalRegister(2, 'zx_meas')\n",
    "qc = QuantumCircuit(qr,cr)\n",
    "qc.reset(range(3))\n",
    "qc.barrier()\n",
    "qc.h(1)\n",
    "qc.cx([1,0],[2,1])\n",
    "qc.h(0)\n",
    "qc.barrier()\n",
    "qc.measure([0,1], [0,1])\n",
    "qc.barrier()\n",
    "qc.z(2).c_if(cr, 1)\n",
    "qc.x(2).c_if(cr, 2)"
   ]
  }
 ],
 "metadata": {
  "kernelspec": {
   "display_name": "Python 3 (ipykernel)",
   "language": "python",
   "name": "python3"
  },
  "language_info": {
   "codemirror_mode": {
    "name": "ipython",
    "version": 3
   },
   "file_extension": ".py",
   "mimetype": "text/x-python",
   "name": "python",
   "nbconvert_exporter": "python",
   "pygments_lexer": "ipython3",
   "version": "3.8.11"
  }
 },
 "nbformat": 4,
 "nbformat_minor": 5
}