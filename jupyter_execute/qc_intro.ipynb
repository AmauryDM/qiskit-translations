{
 "cells": [
  {
   "cell_type": "code",
   "execution_count": 1,
   "id": "f26af060",
   "metadata": {
    "execution": {
     "iopub.execute_input": "2021-07-08T18:15:32.994276Z",
     "iopub.status.busy": "2021-07-08T18:15:32.993112Z",
     "iopub.status.idle": "2021-07-08T18:15:33.795467Z",
     "shell.execute_reply": "2021-07-08T18:15:33.794773Z"
    }
   },
   "outputs": [],
   "source": [
    "from qiskit import *"
   ]
  },
  {
   "cell_type": "code",
   "execution_count": 2,
   "id": "a8b07db8",
   "metadata": {
    "execution": {
     "iopub.execute_input": "2021-07-08T18:15:33.806636Z",
     "iopub.status.busy": "2021-07-08T18:15:33.801218Z",
     "iopub.status.idle": "2021-07-08T18:15:33.816508Z",
     "shell.execute_reply": "2021-07-08T18:15:33.817034Z"
    }
   },
   "outputs": [
    {
     "data": {
      "text/plain": [
       "<qiskit.circuit.instructionset.InstructionSet at 0x7f7def547b50>"
      ]
     },
     "execution_count": 2,
     "metadata": {},
     "output_type": "execute_result"
    }
   ],
   "source": [
    "qr = QuantumRegister(3, 'q')\n",
    "cr = ClassicalRegister(2, 'zx_meas')\n",
    "qc = QuantumCircuit(qr,cr)\n",
    "qc.reset(range(3))\n",
    "qc.barrier()\n",
    "qc.h(1)\n",
    "qc.cx([1,0],[2,1])\n",
    "qc.h(0)\n",
    "qc.barrier()\n",
    "qc.measure([0,1], [0,1])\n",
    "qc.barrier()\n",
    "qc.z(2).c_if(cr, 1)\n",
    "qc.x(2).c_if(cr, 2)"
   ]
  }
 ],
 "metadata": {
  "kernelspec": {
   "display_name": "Python 3 (ipykernel)",
   "language": "python",
   "name": "python3"
  },
  "language_info": {
   "codemirror_mode": {
    "name": "ipython",
    "version": 3
   },
   "file_extension": ".py",
   "mimetype": "text/x-python",
   "name": "python",
   "nbconvert_exporter": "python",
   "pygments_lexer": "ipython3",
   "version": "3.8.10"
  }
 },
 "nbformat": 4,
 "nbformat_minor": 5
}