{
 "cells": [
  {
   "cell_type": "code",
   "execution_count": 1,
   "id": "e2743962",
   "metadata": {
    "execution": {
     "iopub.execute_input": "2021-06-22T21:46:38.050322Z",
     "iopub.status.busy": "2021-06-22T21:46:38.049587Z",
     "iopub.status.idle": "2021-06-22T21:46:38.820023Z",
     "shell.execute_reply": "2021-06-22T21:46:38.819353Z"
    }
   },
   "outputs": [
    {
     "name": "stdout",
     "output_type": "stream",
     "text": [
      "PauliTable: ['Y', 'Z', 'Z', 'Y']\n"
     ]
    }
   ],
   "source": [
    "from qiskit.quantum_info.operators import PauliTable\n",
    "\n",
    "current = PauliTable.from_labels(['I', 'X'])\n",
    "other =  PauliTable.from_labels(['Y', 'Z'])\n",
    "print(current.compose(other))"
   ]
  },
  {
   "cell_type": "code",
   "execution_count": 2,
   "id": "25972bfd",
   "metadata": {
    "execution": {
     "iopub.execute_input": "2021-06-22T21:46:38.825393Z",
     "iopub.status.busy": "2021-06-22T21:46:38.824780Z",
     "iopub.status.idle": "2021-06-22T21:46:38.830445Z",
     "shell.execute_reply": "2021-06-22T21:46:38.829915Z"
    }
   },
   "outputs": [
    {
     "name": "stdout",
     "output_type": "stream",
     "text": [
      "PauliTable: ['Y', 'Z', 'Z', 'Y']\n"
     ]
    }
   ],
   "source": [
    "from qiskit.quantum_info.operators import PauliTable\n",
    "\n",
    "current = PauliTable.from_labels(['I', 'X'])\n",
    "other =  PauliTable.from_labels(['Y', 'Z'])\n",
    "print(current.dot(other))"
   ]
  },
  {
   "cell_type": "code",
   "execution_count": 3,
   "id": "67175a6c",
   "metadata": {
    "execution": {
     "iopub.execute_input": "2021-06-22T21:46:38.836024Z",
     "iopub.status.busy": "2021-06-22T21:46:38.834845Z",
     "iopub.status.idle": "2021-06-22T21:46:38.840290Z",
     "shell.execute_reply": "2021-06-22T21:46:38.839617Z"
    }
   },
   "outputs": [
    {
     "name": "stdout",
     "output_type": "stream",
     "text": [
      "PauliTable: ['YI', 'YX', 'ZI', 'ZX']\n"
     ]
    }
   ],
   "source": [
    "from qiskit.quantum_info.operators import PauliTable\n",
    "\n",
    "current = PauliTable.from_labels(['I', 'X'])\n",
    "other =  PauliTable.from_labels(['Y', 'Z'])\n",
    "print(current.expand(other))"
   ]
  },
  {
   "cell_type": "code",
   "execution_count": 4,
   "id": "3eddc42d",
   "metadata": {
    "execution": {
     "iopub.execute_input": "2021-06-22T21:46:38.848425Z",
     "iopub.status.busy": "2021-06-22T21:46:38.845397Z",
     "iopub.status.idle": "2021-06-22T21:46:38.850893Z",
     "shell.execute_reply": "2021-06-22T21:46:38.851462Z"
    }
   },
   "outputs": [
    {
     "name": "stdout",
     "output_type": "stream",
     "text": [
      "Initial Ordering\n",
      "PauliTable: ['ZI', 'IZ', 'XX', 'II', 'YZ', 'YY', 'XZ', 'ZY', 'IX', 'ZZ', 'ZX', 'YI', 'YX', 'XY', 'XI', 'IY']\n",
      "Lexicographically sorted\n",
      "PauliTable: ['II', 'IX', 'IY', 'IZ', 'XI', 'XX', 'XY', 'XZ', 'YI', 'YX', 'YY', 'YZ', 'ZI', 'ZX', 'ZY', 'ZZ']\n",
      "Weight sorted\n",
      "PauliTable: ['II', 'IX', 'IY', 'IZ', 'XI', 'YI', 'ZI', 'XX', 'XY', 'XZ', 'YX', 'YY', 'YZ', 'ZX', 'ZY', 'ZZ']\n"
     ]
    }
   ],
   "source": [
    "from numpy.random import shuffle\n",
    "from qiskit.quantum_info.operators import PauliTable\n",
    "\n",
    "# 2-qubit labels\n",
    "labels = ['II', 'IX', 'IY', 'IZ', 'XI', 'XX', 'XY', 'XZ',\n",
    "          'YI', 'YX', 'YY', 'YZ', 'ZI', 'ZX', 'ZY', 'ZZ']\n",
    "# Shuffle Labels\n",
    "shuffle(labels)\n",
    "pt = PauliTable.from_labels(labels)\n",
    "print('Initial Ordering')\n",
    "print(pt)\n",
    "\n",
    "# Lexicographic Ordering\n",
    "srt = pt.sort()\n",
    "print('Lexicographically sorted')\n",
    "print(srt)\n",
    "\n",
    "# Weight Ordering\n",
    "srt = pt.sort(weight=True)\n",
    "print('Weight sorted')\n",
    "print(srt)"
   ]
  },
  {
   "cell_type": "code",
   "execution_count": 5,
   "id": "dfedd2b9",
   "metadata": {
    "execution": {
     "iopub.execute_input": "2021-06-22T21:46:38.857973Z",
     "iopub.status.busy": "2021-06-22T21:46:38.856300Z",
     "iopub.status.idle": "2021-06-22T21:46:38.859939Z",
     "shell.execute_reply": "2021-06-22T21:46:38.859429Z"
    }
   },
   "outputs": [
    {
     "name": "stdout",
     "output_type": "stream",
     "text": [
      "PauliTable: ['IY', 'IZ', 'XY', 'XZ']\n"
     ]
    }
   ],
   "source": [
    "from qiskit.quantum_info.operators import PauliTable\n",
    "\n",
    "current = PauliTable.from_labels(['I', 'X'])\n",
    "other =  PauliTable.from_labels(['Y', 'Z'])\n",
    "print(current.tensor(other))"
   ]
  },
  {
   "cell_type": "code",
   "execution_count": 6,
   "id": "f5f21412",
   "metadata": {
    "execution": {
     "iopub.execute_input": "2021-06-22T21:46:38.866460Z",
     "iopub.status.busy": "2021-06-22T21:46:38.864783Z",
     "iopub.status.idle": "2021-06-22T21:46:38.868415Z",
     "shell.execute_reply": "2021-06-22T21:46:38.867877Z"
    }
   },
   "outputs": [
    {
     "name": "stdout",
     "output_type": "stream",
     "text": [
      "PauliTable: ['X', 'Y', 'I', 'Z']\n"
     ]
    }
   ],
   "source": [
    "from qiskit.quantum_info.operators import PauliTable\n",
    "\n",
    "pt = PauliTable.from_labels(['X', 'Y', 'X', 'I', 'I', 'Z', 'X', 'Z'])\n",
    "unique = pt.unique()\n",
    "print(unique)"
   ]
  }
 ],
 "metadata": {
  "kernelspec": {
   "display_name": "Python 3",
   "language": "python",
   "name": "python3"
  },
  "language_info": {
   "codemirror_mode": {
    "name": "ipython",
    "version": 3
   },
   "file_extension": ".py",
   "mimetype": "text/x-python",
   "name": "python",
   "nbconvert_exporter": "python",
   "pygments_lexer": "ipython3",
   "version": "3.8.10"
  }
 },
 "nbformat": 4,
 "nbformat_minor": 5
}