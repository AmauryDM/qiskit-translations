{
 "cells": [
  {
   "cell_type": "code",
   "execution_count": 1,
   "id": "1c769c46",
   "metadata": {
    "execution": {
     "iopub.execute_input": "2021-06-24T16:42:43.209506Z",
     "iopub.status.busy": "2021-06-24T16:42:43.208837Z",
     "iopub.status.idle": "2021-06-24T16:42:43.936240Z",
     "shell.execute_reply": "2021-06-24T16:42:43.936725Z"
    }
   },
   "outputs": [
    {
     "name": "stdout",
     "output_type": "stream",
     "text": [
      "PauliTable: ['Y', 'Z', 'Z', 'Y']\n"
     ]
    }
   ],
   "source": [
    "from qiskit.quantum_info.operators import PauliTable\n",
    "\n",
    "current = PauliTable.from_labels(['I', 'X'])\n",
    "other =  PauliTable.from_labels(['Y', 'Z'])\n",
    "print(current.compose(other))"
   ]
  },
  {
   "cell_type": "code",
   "execution_count": 2,
   "id": "cae783f4",
   "metadata": {
    "execution": {
     "iopub.execute_input": "2021-06-24T16:42:43.941474Z",
     "iopub.status.busy": "2021-06-24T16:42:43.940380Z",
     "iopub.status.idle": "2021-06-24T16:42:43.946044Z",
     "shell.execute_reply": "2021-06-24T16:42:43.945272Z"
    }
   },
   "outputs": [
    {
     "name": "stdout",
     "output_type": "stream",
     "text": [
      "PauliTable: ['Y', 'Z', 'Z', 'Y']\n"
     ]
    }
   ],
   "source": [
    "from qiskit.quantum_info.operators import PauliTable\n",
    "\n",
    "current = PauliTable.from_labels(['I', 'X'])\n",
    "other =  PauliTable.from_labels(['Y', 'Z'])\n",
    "print(current.dot(other))"
   ]
  },
  {
   "cell_type": "code",
   "execution_count": 3,
   "id": "3bca4297",
   "metadata": {
    "execution": {
     "iopub.execute_input": "2021-06-24T16:42:43.950311Z",
     "iopub.status.busy": "2021-06-24T16:42:43.949783Z",
     "iopub.status.idle": "2021-06-24T16:42:43.954943Z",
     "shell.execute_reply": "2021-06-24T16:42:43.954474Z"
    }
   },
   "outputs": [
    {
     "name": "stdout",
     "output_type": "stream",
     "text": [
      "PauliTable: ['YI', 'YX', 'ZI', 'ZX']\n"
     ]
    }
   ],
   "source": [
    "from qiskit.quantum_info.operators import PauliTable\n",
    "\n",
    "current = PauliTable.from_labels(['I', 'X'])\n",
    "other =  PauliTable.from_labels(['Y', 'Z'])\n",
    "print(current.expand(other))"
   ]
  },
  {
   "cell_type": "code",
   "execution_count": 4,
   "id": "0c0dcc78",
   "metadata": {
    "execution": {
     "iopub.execute_input": "2021-06-24T16:42:43.961205Z",
     "iopub.status.busy": "2021-06-24T16:42:43.959435Z",
     "iopub.status.idle": "2021-06-24T16:42:43.965018Z",
     "shell.execute_reply": "2021-06-24T16:42:43.965431Z"
    }
   },
   "outputs": [
    {
     "name": "stdout",
     "output_type": "stream",
     "text": [
      "Initial Ordering\n",
      "PauliTable: ['XZ', 'YZ', 'YI', 'IY', 'XI', 'YX', 'IX', 'YY', 'II', 'ZX', 'ZI', 'IZ', 'XY', 'ZY', 'ZZ', 'XX']\n",
      "Lexicographically sorted\n",
      "PauliTable: ['II', 'IX', 'IY', 'IZ', 'XI', 'XX', 'XY', 'XZ', 'YI', 'YX', 'YY', 'YZ', 'ZI', 'ZX', 'ZY', 'ZZ']\n",
      "Weight sorted\n",
      "PauliTable: ['II', 'IX', 'IY', 'IZ', 'XI', 'YI', 'ZI', 'XX', 'XY', 'XZ', 'YX', 'YY', 'YZ', 'ZX', 'ZY', 'ZZ']\n"
     ]
    }
   ],
   "source": [
    "from numpy.random import shuffle\n",
    "from qiskit.quantum_info.operators import PauliTable\n",
    "\n",
    "# 2-qubit labels\n",
    "labels = ['II', 'IX', 'IY', 'IZ', 'XI', 'XX', 'XY', 'XZ',\n",
    "          'YI', 'YX', 'YY', 'YZ', 'ZI', 'ZX', 'ZY', 'ZZ']\n",
    "# Shuffle Labels\n",
    "shuffle(labels)\n",
    "pt = PauliTable.from_labels(labels)\n",
    "print('Initial Ordering')\n",
    "print(pt)\n",
    "\n",
    "# Lexicographic Ordering\n",
    "srt = pt.sort()\n",
    "print('Lexicographically sorted')\n",
    "print(srt)\n",
    "\n",
    "# Weight Ordering\n",
    "srt = pt.sort(weight=True)\n",
    "print('Weight sorted')\n",
    "print(srt)"
   ]
  },
  {
   "cell_type": "code",
   "execution_count": 5,
   "id": "92a39957",
   "metadata": {
    "execution": {
     "iopub.execute_input": "2021-06-24T16:42:43.970059Z",
     "iopub.status.busy": "2021-06-24T16:42:43.969540Z",
     "iopub.status.idle": "2021-06-24T16:42:43.973620Z",
     "shell.execute_reply": "2021-06-24T16:42:43.973157Z"
    }
   },
   "outputs": [
    {
     "name": "stdout",
     "output_type": "stream",
     "text": [
      "PauliTable: ['IY', 'IZ', 'XY', 'XZ']\n"
     ]
    }
   ],
   "source": [
    "from qiskit.quantum_info.operators import PauliTable\n",
    "\n",
    "current = PauliTable.from_labels(['I', 'X'])\n",
    "other =  PauliTable.from_labels(['Y', 'Z'])\n",
    "print(current.tensor(other))"
   ]
  },
  {
   "cell_type": "code",
   "execution_count": 6,
   "id": "b8869f1c",
   "metadata": {
    "execution": {
     "iopub.execute_input": "2021-06-24T16:42:43.980268Z",
     "iopub.status.busy": "2021-06-24T16:42:43.978807Z",
     "iopub.status.idle": "2021-06-24T16:42:43.982199Z",
     "shell.execute_reply": "2021-06-24T16:42:43.981710Z"
    }
   },
   "outputs": [
    {
     "name": "stdout",
     "output_type": "stream",
     "text": [
      "PauliTable: ['X', 'Y', 'I', 'Z']\n"
     ]
    }
   ],
   "source": [
    "from qiskit.quantum_info.operators import PauliTable\n",
    "\n",
    "pt = PauliTable.from_labels(['X', 'Y', 'X', 'I', 'I', 'Z', 'X', 'Z'])\n",
    "unique = pt.unique()\n",
    "print(unique)"
   ]
  }
 ],
 "metadata": {
  "kernelspec": {
   "display_name": "Python 3",
   "language": "python",
   "name": "python3"
  },
  "language_info": {
   "codemirror_mode": {
    "name": "ipython",
    "version": 3
   },
   "file_extension": ".py",
   "mimetype": "text/x-python",
   "name": "python",
   "nbconvert_exporter": "python",
   "pygments_lexer": "ipython3",
   "version": "3.8.10"
  }
 },
 "nbformat": 4,
 "nbformat_minor": 5
}