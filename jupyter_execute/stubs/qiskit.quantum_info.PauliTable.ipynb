{
 "cells": [
  {
   "cell_type": "code",
   "execution_count": 1,
   "id": "7952d592",
   "metadata": {
    "execution": {
     "iopub.execute_input": "2021-06-22T17:15:26.659121Z",
     "iopub.status.busy": "2021-06-22T17:15:26.655361Z",
     "iopub.status.idle": "2021-06-22T17:15:27.457531Z",
     "shell.execute_reply": "2021-06-22T17:15:27.458048Z"
    }
   },
   "outputs": [
    {
     "name": "stdout",
     "output_type": "stream",
     "text": [
      "PauliTable: ['Y', 'Z', 'Z', 'Y']\n"
     ]
    }
   ],
   "source": [
    "from qiskit.quantum_info.operators import PauliTable\n",
    "\n",
    "current = PauliTable.from_labels(['I', 'X'])\n",
    "other =  PauliTable.from_labels(['Y', 'Z'])\n",
    "print(current.compose(other))"
   ]
  },
  {
   "cell_type": "code",
   "execution_count": 2,
   "id": "5535cb92",
   "metadata": {
    "execution": {
     "iopub.execute_input": "2021-06-22T17:15:27.463281Z",
     "iopub.status.busy": "2021-06-22T17:15:27.462226Z",
     "iopub.status.idle": "2021-06-22T17:15:27.469602Z",
     "shell.execute_reply": "2021-06-22T17:15:27.469007Z"
    }
   },
   "outputs": [
    {
     "name": "stdout",
     "output_type": "stream",
     "text": [
      "PauliTable: ['Y', 'Z', 'Z', 'Y']\n"
     ]
    }
   ],
   "source": [
    "from qiskit.quantum_info.operators import PauliTable\n",
    "\n",
    "current = PauliTable.from_labels(['I', 'X'])\n",
    "other =  PauliTable.from_labels(['Y', 'Z'])\n",
    "print(current.dot(other))"
   ]
  },
  {
   "cell_type": "code",
   "execution_count": 3,
   "id": "cf55ca9e",
   "metadata": {
    "execution": {
     "iopub.execute_input": "2021-06-22T17:15:27.474884Z",
     "iopub.status.busy": "2021-06-22T17:15:27.474224Z",
     "iopub.status.idle": "2021-06-22T17:15:27.478939Z",
     "shell.execute_reply": "2021-06-22T17:15:27.479395Z"
    }
   },
   "outputs": [
    {
     "name": "stdout",
     "output_type": "stream",
     "text": [
      "PauliTable: ['YI', 'YX', 'ZI', 'ZX']\n"
     ]
    }
   ],
   "source": [
    "from qiskit.quantum_info.operators import PauliTable\n",
    "\n",
    "current = PauliTable.from_labels(['I', 'X'])\n",
    "other =  PauliTable.from_labels(['Y', 'Z'])\n",
    "print(current.expand(other))"
   ]
  },
  {
   "cell_type": "code",
   "execution_count": 4,
   "id": "4b35f8d3",
   "metadata": {
    "execution": {
     "iopub.execute_input": "2021-06-22T17:15:27.488515Z",
     "iopub.status.busy": "2021-06-22T17:15:27.486482Z",
     "iopub.status.idle": "2021-06-22T17:15:27.493118Z",
     "shell.execute_reply": "2021-06-22T17:15:27.492516Z"
    }
   },
   "outputs": [
    {
     "name": "stdout",
     "output_type": "stream",
     "text": [
      "Initial Ordering\n",
      "PauliTable: ['IX', 'IY', 'ZX', 'YX', 'YY', 'ZI', 'IZ', 'YZ', 'ZZ', 'YI', 'XI', 'II', 'ZY', 'XX', 'XZ', 'XY']\n",
      "Lexicographically sorted\n",
      "PauliTable: ['II', 'IX', 'IY', 'IZ', 'XI', 'XX', 'XY', 'XZ', 'YI', 'YX', 'YY', 'YZ', 'ZI', 'ZX', 'ZY', 'ZZ']\n",
      "Weight sorted\n",
      "PauliTable: ['II', 'IX', 'IY', 'IZ', 'XI', 'YI', 'ZI', 'XX', 'XY', 'XZ', 'YX', 'YY', 'YZ', 'ZX', 'ZY', 'ZZ']\n"
     ]
    }
   ],
   "source": [
    "from numpy.random import shuffle\n",
    "from qiskit.quantum_info.operators import PauliTable\n",
    "\n",
    "# 2-qubit labels\n",
    "labels = ['II', 'IX', 'IY', 'IZ', 'XI', 'XX', 'XY', 'XZ',\n",
    "          'YI', 'YX', 'YY', 'YZ', 'ZI', 'ZX', 'ZY', 'ZZ']\n",
    "# Shuffle Labels\n",
    "shuffle(labels)\n",
    "pt = PauliTable.from_labels(labels)\n",
    "print('Initial Ordering')\n",
    "print(pt)\n",
    "\n",
    "# Lexicographic Ordering\n",
    "srt = pt.sort()\n",
    "print('Lexicographically sorted')\n",
    "print(srt)\n",
    "\n",
    "# Weight Ordering\n",
    "srt = pt.sort(weight=True)\n",
    "print('Weight sorted')\n",
    "print(srt)"
   ]
  },
  {
   "cell_type": "code",
   "execution_count": 5,
   "id": "fd03bf9a",
   "metadata": {
    "execution": {
     "iopub.execute_input": "2021-06-22T17:15:27.498533Z",
     "iopub.status.busy": "2021-06-22T17:15:27.497895Z",
     "iopub.status.idle": "2021-06-22T17:15:27.502633Z",
     "shell.execute_reply": "2021-06-22T17:15:27.503148Z"
    }
   },
   "outputs": [
    {
     "name": "stdout",
     "output_type": "stream",
     "text": [
      "PauliTable: ['IY', 'IZ', 'XY', 'XZ']\n"
     ]
    }
   ],
   "source": [
    "from qiskit.quantum_info.operators import PauliTable\n",
    "\n",
    "current = PauliTable.from_labels(['I', 'X'])\n",
    "other =  PauliTable.from_labels(['Y', 'Z'])\n",
    "print(current.tensor(other))"
   ]
  },
  {
   "cell_type": "code",
   "execution_count": 6,
   "id": "dc0b26bb",
   "metadata": {
    "execution": {
     "iopub.execute_input": "2021-06-22T17:15:27.508283Z",
     "iopub.status.busy": "2021-06-22T17:15:27.507577Z",
     "iopub.status.idle": "2021-06-22T17:15:27.513152Z",
     "shell.execute_reply": "2021-06-22T17:15:27.512591Z"
    }
   },
   "outputs": [
    {
     "name": "stdout",
     "output_type": "stream",
     "text": [
      "PauliTable: ['X', 'Y', 'I', 'Z']\n"
     ]
    }
   ],
   "source": [
    "from qiskit.quantum_info.operators import PauliTable\n",
    "\n",
    "pt = PauliTable.from_labels(['X', 'Y', 'X', 'I', 'I', 'Z', 'X', 'Z'])\n",
    "unique = pt.unique()\n",
    "print(unique)"
   ]
  }
 ],
 "metadata": {
  "kernelspec": {
   "display_name": "Python 3",
   "language": "python",
   "name": "python3"
  },
  "language_info": {
   "codemirror_mode": {
    "name": "ipython",
    "version": 3
   },
   "file_extension": ".py",
   "mimetype": "text/x-python",
   "name": "python",
   "nbconvert_exporter": "python",
   "pygments_lexer": "ipython3",
   "version": "3.8.10"
  }
 },
 "nbformat": 4,
 "nbformat_minor": 5
}