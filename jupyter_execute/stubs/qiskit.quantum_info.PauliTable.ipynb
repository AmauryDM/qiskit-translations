{
 "cells": [
  {
   "cell_type": "code",
   "execution_count": 1,
   "id": "1541a67b",
   "metadata": {
    "execution": {
     "iopub.execute_input": "2021-06-23T16:57:44.972255Z",
     "iopub.status.busy": "2021-06-23T16:57:44.971435Z",
     "iopub.status.idle": "2021-06-23T16:57:45.813143Z",
     "shell.execute_reply": "2021-06-23T16:57:45.813685Z"
    }
   },
   "outputs": [
    {
     "name": "stdout",
     "output_type": "stream",
     "text": [
      "PauliTable: ['Y', 'Z', 'Z', 'Y']\n"
     ]
    }
   ],
   "source": [
    "from qiskit.quantum_info.operators import PauliTable\n",
    "\n",
    "current = PauliTable.from_labels(['I', 'X'])\n",
    "other =  PauliTable.from_labels(['Y', 'Z'])\n",
    "print(current.compose(other))"
   ]
  },
  {
   "cell_type": "code",
   "execution_count": 2,
   "id": "f0151c30",
   "metadata": {
    "execution": {
     "iopub.execute_input": "2021-06-23T16:57:45.820238Z",
     "iopub.status.busy": "2021-06-23T16:57:45.819499Z",
     "iopub.status.idle": "2021-06-23T16:57:45.825588Z",
     "shell.execute_reply": "2021-06-23T16:57:45.824829Z"
    }
   },
   "outputs": [
    {
     "name": "stdout",
     "output_type": "stream",
     "text": [
      "PauliTable: ['Y', 'Z', 'Z', 'Y']\n"
     ]
    }
   ],
   "source": [
    "from qiskit.quantum_info.operators import PauliTable\n",
    "\n",
    "current = PauliTable.from_labels(['I', 'X'])\n",
    "other =  PauliTable.from_labels(['Y', 'Z'])\n",
    "print(current.dot(other))"
   ]
  },
  {
   "cell_type": "code",
   "execution_count": 3,
   "id": "f98a87e1",
   "metadata": {
    "execution": {
     "iopub.execute_input": "2021-06-23T16:57:45.832234Z",
     "iopub.status.busy": "2021-06-23T16:57:45.830516Z",
     "iopub.status.idle": "2021-06-23T16:57:45.834562Z",
     "shell.execute_reply": "2021-06-23T16:57:45.834045Z"
    }
   },
   "outputs": [
    {
     "name": "stdout",
     "output_type": "stream",
     "text": [
      "PauliTable: ['YI', 'YX', 'ZI', 'ZX']\n"
     ]
    }
   ],
   "source": [
    "from qiskit.quantum_info.operators import PauliTable\n",
    "\n",
    "current = PauliTable.from_labels(['I', 'X'])\n",
    "other =  PauliTable.from_labels(['Y', 'Z'])\n",
    "print(current.expand(other))"
   ]
  },
  {
   "cell_type": "code",
   "execution_count": 4,
   "id": "7c0d78cd",
   "metadata": {
    "execution": {
     "iopub.execute_input": "2021-06-23T16:57:45.841997Z",
     "iopub.status.busy": "2021-06-23T16:57:45.841401Z",
     "iopub.status.idle": "2021-06-23T16:57:45.845913Z",
     "shell.execute_reply": "2021-06-23T16:57:45.846340Z"
    }
   },
   "outputs": [
    {
     "name": "stdout",
     "output_type": "stream",
     "text": [
      "Initial Ordering\n",
      "PauliTable: ['YX', 'ZY', 'YY', 'IX', 'YI', 'XI', 'II', 'XZ', 'ZI', 'XX', 'IY', 'YZ', 'XY', 'ZX', 'ZZ', 'IZ']\n",
      "Lexicographically sorted\n",
      "PauliTable: ['II', 'IX', 'IY', 'IZ', 'XI', 'XX', 'XY', 'XZ', 'YI', 'YX', 'YY', 'YZ', 'ZI', 'ZX', 'ZY', 'ZZ']\n",
      "Weight sorted\n",
      "PauliTable: ['II', 'IX', 'IY', 'IZ', 'XI', 'YI', 'ZI', 'XX', 'XY', 'XZ', 'YX', 'YY', 'YZ', 'ZX', 'ZY', 'ZZ']\n"
     ]
    }
   ],
   "source": [
    "from numpy.random import shuffle\n",
    "from qiskit.quantum_info.operators import PauliTable\n",
    "\n",
    "# 2-qubit labels\n",
    "labels = ['II', 'IX', 'IY', 'IZ', 'XI', 'XX', 'XY', 'XZ',\n",
    "          'YI', 'YX', 'YY', 'YZ', 'ZI', 'ZX', 'ZY', 'ZZ']\n",
    "# Shuffle Labels\n",
    "shuffle(labels)\n",
    "pt = PauliTable.from_labels(labels)\n",
    "print('Initial Ordering')\n",
    "print(pt)\n",
    "\n",
    "# Lexicographic Ordering\n",
    "srt = pt.sort()\n",
    "print('Lexicographically sorted')\n",
    "print(srt)\n",
    "\n",
    "# Weight Ordering\n",
    "srt = pt.sort(weight=True)\n",
    "print('Weight sorted')\n",
    "print(srt)"
   ]
  },
  {
   "cell_type": "code",
   "execution_count": 5,
   "id": "47f4995e",
   "metadata": {
    "execution": {
     "iopub.execute_input": "2021-06-23T16:57:45.851550Z",
     "iopub.status.busy": "2021-06-23T16:57:45.850832Z",
     "iopub.status.idle": "2021-06-23T16:57:45.857244Z",
     "shell.execute_reply": "2021-06-23T16:57:45.857828Z"
    }
   },
   "outputs": [
    {
     "name": "stdout",
     "output_type": "stream",
     "text": [
      "PauliTable: ['IY', 'IZ', 'XY', 'XZ']\n"
     ]
    }
   ],
   "source": [
    "from qiskit.quantum_info.operators import PauliTable\n",
    "\n",
    "current = PauliTable.from_labels(['I', 'X'])\n",
    "other =  PauliTable.from_labels(['Y', 'Z'])\n",
    "print(current.tensor(other))"
   ]
  },
  {
   "cell_type": "code",
   "execution_count": 6,
   "id": "edbbca5e",
   "metadata": {
    "execution": {
     "iopub.execute_input": "2021-06-23T16:57:45.863425Z",
     "iopub.status.busy": "2021-06-23T16:57:45.862395Z",
     "iopub.status.idle": "2021-06-23T16:57:45.866474Z",
     "shell.execute_reply": "2021-06-23T16:57:45.866960Z"
    }
   },
   "outputs": [
    {
     "name": "stdout",
     "output_type": "stream",
     "text": [
      "PauliTable: ['X', 'Y', 'I', 'Z']\n"
     ]
    }
   ],
   "source": [
    "from qiskit.quantum_info.operators import PauliTable\n",
    "\n",
    "pt = PauliTable.from_labels(['X', 'Y', 'X', 'I', 'I', 'Z', 'X', 'Z'])\n",
    "unique = pt.unique()\n",
    "print(unique)"
   ]
  }
 ],
 "metadata": {
  "kernelspec": {
   "display_name": "Python 3",
   "language": "python",
   "name": "python3"
  },
  "language_info": {
   "codemirror_mode": {
    "name": "ipython",
    "version": 3
   },
   "file_extension": ".py",
   "mimetype": "text/x-python",
   "name": "python",
   "nbconvert_exporter": "python",
   "pygments_lexer": "ipython3",
   "version": "3.8.10"
  }
 },
 "nbformat": 4,
 "nbformat_minor": 5
}