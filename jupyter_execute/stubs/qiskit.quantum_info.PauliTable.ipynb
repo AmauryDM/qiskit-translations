{
 "cells": [
  {
   "cell_type": "code",
   "execution_count": 1,
   "id": "c4f12333",
   "metadata": {
    "execution": {
     "iopub.execute_input": "2021-07-12T16:14:48.349302Z",
     "iopub.status.busy": "2021-07-12T16:14:48.348725Z",
     "iopub.status.idle": "2021-07-12T16:14:49.103514Z",
     "shell.execute_reply": "2021-07-12T16:14:49.103985Z"
    }
   },
   "outputs": [
    {
     "name": "stdout",
     "output_type": "stream",
     "text": [
      "PauliTable: ['Y', 'Z', 'Z', 'Y']\n"
     ]
    }
   ],
   "source": [
    "from qiskit.quantum_info.operators import PauliTable\n",
    "\n",
    "current = PauliTable.from_labels(['I', 'X'])\n",
    "other =  PauliTable.from_labels(['Y', 'Z'])\n",
    "print(current.compose(other))"
   ]
  },
  {
   "cell_type": "code",
   "execution_count": 2,
   "id": "41c48b0d",
   "metadata": {
    "execution": {
     "iopub.execute_input": "2021-07-12T16:14:49.109870Z",
     "iopub.status.busy": "2021-07-12T16:14:49.109129Z",
     "iopub.status.idle": "2021-07-12T16:14:49.113703Z",
     "shell.execute_reply": "2021-07-12T16:14:49.112920Z"
    }
   },
   "outputs": [
    {
     "name": "stdout",
     "output_type": "stream",
     "text": [
      "PauliTable: ['Y', 'Z', 'Z', 'Y']\n"
     ]
    }
   ],
   "source": [
    "from qiskit.quantum_info.operators import PauliTable\n",
    "\n",
    "current = PauliTable.from_labels(['I', 'X'])\n",
    "other =  PauliTable.from_labels(['Y', 'Z'])\n",
    "print(current.dot(other))"
   ]
  },
  {
   "cell_type": "code",
   "execution_count": 3,
   "id": "939e4644",
   "metadata": {
    "execution": {
     "iopub.execute_input": "2021-07-12T16:14:49.120261Z",
     "iopub.status.busy": "2021-07-12T16:14:49.118735Z",
     "iopub.status.idle": "2021-07-12T16:14:49.122177Z",
     "shell.execute_reply": "2021-07-12T16:14:49.121642Z"
    }
   },
   "outputs": [
    {
     "name": "stdout",
     "output_type": "stream",
     "text": [
      "PauliTable: ['YI', 'YX', 'ZI', 'ZX']\n"
     ]
    }
   ],
   "source": [
    "from qiskit.quantum_info.operators import PauliTable\n",
    "\n",
    "current = PauliTable.from_labels(['I', 'X'])\n",
    "other =  PauliTable.from_labels(['Y', 'Z'])\n",
    "print(current.expand(other))"
   ]
  },
  {
   "cell_type": "code",
   "execution_count": 4,
   "id": "d91aba37",
   "metadata": {
    "execution": {
     "iopub.execute_input": "2021-07-12T16:14:49.130222Z",
     "iopub.status.busy": "2021-07-12T16:14:49.128018Z",
     "iopub.status.idle": "2021-07-12T16:14:49.132444Z",
     "shell.execute_reply": "2021-07-12T16:14:49.132927Z"
    }
   },
   "outputs": [
    {
     "name": "stdout",
     "output_type": "stream",
     "text": [
      "Initial Ordering\n",
      "PauliTable: ['YY', 'IX', 'IY', 'YX', 'ZI', 'ZZ', 'XX', 'XZ', 'IZ', 'YZ', 'YI', 'XY', 'ZX', 'II', 'XI', 'ZY']\n",
      "Lexicographically sorted\n",
      "PauliTable: ['II', 'IX', 'IY', 'IZ', 'XI', 'XX', 'XY', 'XZ', 'YI', 'YX', 'YY', 'YZ', 'ZI', 'ZX', 'ZY', 'ZZ']\n",
      "Weight sorted\n",
      "PauliTable: ['II', 'IX', 'IY', 'IZ', 'XI', 'YI', 'ZI', 'XX', 'XY', 'XZ', 'YX', 'YY', 'YZ', 'ZX', 'ZY', 'ZZ']\n"
     ]
    }
   ],
   "source": [
    "from numpy.random import shuffle\n",
    "from qiskit.quantum_info.operators import PauliTable\n",
    "\n",
    "# 2-qubit labels\n",
    "labels = ['II', 'IX', 'IY', 'IZ', 'XI', 'XX', 'XY', 'XZ',\n",
    "          'YI', 'YX', 'YY', 'YZ', 'ZI', 'ZX', 'ZY', 'ZZ']\n",
    "# Shuffle Labels\n",
    "shuffle(labels)\n",
    "pt = PauliTable.from_labels(labels)\n",
    "print('Initial Ordering')\n",
    "print(pt)\n",
    "\n",
    "# Lexicographic Ordering\n",
    "srt = pt.sort()\n",
    "print('Lexicographically sorted')\n",
    "print(srt)\n",
    "\n",
    "# Weight Ordering\n",
    "srt = pt.sort(weight=True)\n",
    "print('Weight sorted')\n",
    "print(srt)"
   ]
  },
  {
   "cell_type": "code",
   "execution_count": 5,
   "id": "f907a36f",
   "metadata": {
    "execution": {
     "iopub.execute_input": "2021-07-12T16:14:49.139259Z",
     "iopub.status.busy": "2021-07-12T16:14:49.137886Z",
     "iopub.status.idle": "2021-07-12T16:14:49.141128Z",
     "shell.execute_reply": "2021-07-12T16:14:49.140613Z"
    }
   },
   "outputs": [
    {
     "name": "stdout",
     "output_type": "stream",
     "text": [
      "PauliTable: ['IY', 'IZ', 'XY', 'XZ']\n"
     ]
    }
   ],
   "source": [
    "from qiskit.quantum_info.operators import PauliTable\n",
    "\n",
    "current = PauliTable.from_labels(['I', 'X'])\n",
    "other =  PauliTable.from_labels(['Y', 'Z'])\n",
    "print(current.tensor(other))"
   ]
  },
  {
   "cell_type": "code",
   "execution_count": 6,
   "id": "d33e19b0",
   "metadata": {
    "execution": {
     "iopub.execute_input": "2021-07-12T16:14:49.147613Z",
     "iopub.status.busy": "2021-07-12T16:14:49.146119Z",
     "iopub.status.idle": "2021-07-12T16:14:49.149477Z",
     "shell.execute_reply": "2021-07-12T16:14:49.148973Z"
    }
   },
   "outputs": [
    {
     "name": "stdout",
     "output_type": "stream",
     "text": [
      "PauliTable: ['X', 'Y', 'I', 'Z']\n"
     ]
    }
   ],
   "source": [
    "from qiskit.quantum_info.operators import PauliTable\n",
    "\n",
    "pt = PauliTable.from_labels(['X', 'Y', 'X', 'I', 'I', 'Z', 'X', 'Z'])\n",
    "unique = pt.unique()\n",
    "print(unique)"
   ]
  }
 ],
 "metadata": {
  "kernelspec": {
   "display_name": "Python 3 (ipykernel)",
   "language": "python",
   "name": "python3"
  },
  "language_info": {
   "codemirror_mode": {
    "name": "ipython",
    "version": 3
   },
   "file_extension": ".py",
   "mimetype": "text/x-python",
   "name": "python",
   "nbconvert_exporter": "python",
   "pygments_lexer": "ipython3",
   "version": "3.8.10"
  }
 },
 "nbformat": 4,
 "nbformat_minor": 5
}