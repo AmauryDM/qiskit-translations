{
 "cells": [
  {
   "cell_type": "code",
   "execution_count": 1,
   "id": "5e19d5e8",
   "metadata": {
    "execution": {
     "iopub.execute_input": "2021-06-24T12:17:01.775482Z",
     "iopub.status.busy": "2021-06-24T12:17:01.774986Z",
     "iopub.status.idle": "2021-06-24T12:17:02.460224Z",
     "shell.execute_reply": "2021-06-24T12:17:02.459646Z"
    }
   },
   "outputs": [
    {
     "name": "stdout",
     "output_type": "stream",
     "text": [
      "PauliTable: ['Y', 'Z', 'Z', 'Y']\n"
     ]
    }
   ],
   "source": [
    "from qiskit.quantum_info.operators import PauliTable\n",
    "\n",
    "current = PauliTable.from_labels(['I', 'X'])\n",
    "other =  PauliTable.from_labels(['Y', 'Z'])\n",
    "print(current.compose(other))"
   ]
  },
  {
   "cell_type": "code",
   "execution_count": 2,
   "id": "a0eec29e",
   "metadata": {
    "execution": {
     "iopub.execute_input": "2021-06-24T12:17:02.464658Z",
     "iopub.status.busy": "2021-06-24T12:17:02.464177Z",
     "iopub.status.idle": "2021-06-24T12:17:02.467504Z",
     "shell.execute_reply": "2021-06-24T12:17:02.467099Z"
    }
   },
   "outputs": [
    {
     "name": "stdout",
     "output_type": "stream",
     "text": [
      "PauliTable: ['Y', 'Z', 'Z', 'Y']\n"
     ]
    }
   ],
   "source": [
    "from qiskit.quantum_info.operators import PauliTable\n",
    "\n",
    "current = PauliTable.from_labels(['I', 'X'])\n",
    "other =  PauliTable.from_labels(['Y', 'Z'])\n",
    "print(current.dot(other))"
   ]
  },
  {
   "cell_type": "code",
   "execution_count": 3,
   "id": "83be1b2d",
   "metadata": {
    "execution": {
     "iopub.execute_input": "2021-06-24T12:17:02.472196Z",
     "iopub.status.busy": "2021-06-24T12:17:02.471393Z",
     "iopub.status.idle": "2021-06-24T12:17:02.473941Z",
     "shell.execute_reply": "2021-06-24T12:17:02.473546Z"
    }
   },
   "outputs": [
    {
     "name": "stdout",
     "output_type": "stream",
     "text": [
      "PauliTable: ['YI', 'YX', 'ZI', 'ZX']\n"
     ]
    }
   ],
   "source": [
    "from qiskit.quantum_info.operators import PauliTable\n",
    "\n",
    "current = PauliTable.from_labels(['I', 'X'])\n",
    "other =  PauliTable.from_labels(['Y', 'Z'])\n",
    "print(current.expand(other))"
   ]
  },
  {
   "cell_type": "code",
   "execution_count": 4,
   "id": "703bd22c",
   "metadata": {
    "execution": {
     "iopub.execute_input": "2021-06-24T12:17:02.479778Z",
     "iopub.status.busy": "2021-06-24T12:17:02.478026Z",
     "iopub.status.idle": "2021-06-24T12:17:02.481688Z",
     "shell.execute_reply": "2021-06-24T12:17:02.482042Z"
    }
   },
   "outputs": [
    {
     "name": "stdout",
     "output_type": "stream",
     "text": [
      "Initial Ordering\n",
      "PauliTable: ['YX', 'IZ', 'XY', 'YZ', 'ZX', 'XI', 'ZY', 'XZ', 'YI', 'IX', 'IY', 'ZI', 'YY', 'II', 'ZZ', 'XX']\n",
      "Lexicographically sorted\n",
      "PauliTable: ['II', 'IX', 'IY', 'IZ', 'XI', 'XX', 'XY', 'XZ', 'YI', 'YX', 'YY', 'YZ', 'ZI', 'ZX', 'ZY', 'ZZ']\n",
      "Weight sorted\n",
      "PauliTable: ['II', 'IX', 'IY', 'IZ', 'XI', 'YI', 'ZI', 'XX', 'XY', 'XZ', 'YX', 'YY', 'YZ', 'ZX', 'ZY', 'ZZ']\n"
     ]
    }
   ],
   "source": [
    "from numpy.random import shuffle\n",
    "from qiskit.quantum_info.operators import PauliTable\n",
    "\n",
    "# 2-qubit labels\n",
    "labels = ['II', 'IX', 'IY', 'IZ', 'XI', 'XX', 'XY', 'XZ',\n",
    "          'YI', 'YX', 'YY', 'YZ', 'ZI', 'ZX', 'ZY', 'ZZ']\n",
    "# Shuffle Labels\n",
    "shuffle(labels)\n",
    "pt = PauliTable.from_labels(labels)\n",
    "print('Initial Ordering')\n",
    "print(pt)\n",
    "\n",
    "# Lexicographic Ordering\n",
    "srt = pt.sort()\n",
    "print('Lexicographically sorted')\n",
    "print(srt)\n",
    "\n",
    "# Weight Ordering\n",
    "srt = pt.sort(weight=True)\n",
    "print('Weight sorted')\n",
    "print(srt)"
   ]
  },
  {
   "cell_type": "code",
   "execution_count": 5,
   "id": "60f0a4d0",
   "metadata": {
    "execution": {
     "iopub.execute_input": "2021-06-24T12:17:02.486741Z",
     "iopub.status.busy": "2021-06-24T12:17:02.485937Z",
     "iopub.status.idle": "2021-06-24T12:17:02.488541Z",
     "shell.execute_reply": "2021-06-24T12:17:02.488103Z"
    }
   },
   "outputs": [
    {
     "name": "stdout",
     "output_type": "stream",
     "text": [
      "PauliTable: ['IY', 'IZ', 'XY', 'XZ']\n"
     ]
    }
   ],
   "source": [
    "from qiskit.quantum_info.operators import PauliTable\n",
    "\n",
    "current = PauliTable.from_labels(['I', 'X'])\n",
    "other =  PauliTable.from_labels(['Y', 'Z'])\n",
    "print(current.tensor(other))"
   ]
  },
  {
   "cell_type": "code",
   "execution_count": 6,
   "id": "a51f8f57",
   "metadata": {
    "execution": {
     "iopub.execute_input": "2021-06-24T12:17:02.493593Z",
     "iopub.status.busy": "2021-06-24T12:17:02.492672Z",
     "iopub.status.idle": "2021-06-24T12:17:02.495354Z",
     "shell.execute_reply": "2021-06-24T12:17:02.494951Z"
    }
   },
   "outputs": [
    {
     "name": "stdout",
     "output_type": "stream",
     "text": [
      "PauliTable: ['X', 'Y', 'I', 'Z']\n"
     ]
    }
   ],
   "source": [
    "from qiskit.quantum_info.operators import PauliTable\n",
    "\n",
    "pt = PauliTable.from_labels(['X', 'Y', 'X', 'I', 'I', 'Z', 'X', 'Z'])\n",
    "unique = pt.unique()\n",
    "print(unique)"
   ]
  }
 ],
 "metadata": {
  "kernelspec": {
   "display_name": "Python 3",
   "language": "python",
   "name": "python3"
  },
  "language_info": {
   "codemirror_mode": {
    "name": "ipython",
    "version": 3
   },
   "file_extension": ".py",
   "mimetype": "text/x-python",
   "name": "python",
   "nbconvert_exporter": "python",
   "pygments_lexer": "ipython3",
   "version": "3.8.10"
  }
 },
 "nbformat": 4,
 "nbformat_minor": 5
}