{
 "cells": [
  {
   "cell_type": "code",
   "execution_count": 1,
   "id": "aea026d5",
   "metadata": {
    "execution": {
     "iopub.execute_input": "2021-07-01T16:57:52.826533Z",
     "iopub.status.busy": "2021-07-01T16:57:52.825286Z",
     "iopub.status.idle": "2021-07-01T16:57:53.501978Z",
     "shell.execute_reply": "2021-07-01T16:57:53.502421Z"
    }
   },
   "outputs": [
    {
     "name": "stdout",
     "output_type": "stream",
     "text": [
      "PauliTable: ['Y', 'Z', 'Z', 'Y']\n"
     ]
    }
   ],
   "source": [
    "from qiskit.quantum_info.operators import PauliTable\n",
    "\n",
    "current = PauliTable.from_labels(['I', 'X'])\n",
    "other =  PauliTable.from_labels(['Y', 'Z'])\n",
    "print(current.compose(other))"
   ]
  },
  {
   "cell_type": "code",
   "execution_count": 2,
   "id": "7a6f245b",
   "metadata": {
    "execution": {
     "iopub.execute_input": "2021-07-01T16:57:53.508793Z",
     "iopub.status.busy": "2021-07-01T16:57:53.508268Z",
     "iopub.status.idle": "2021-07-01T16:57:53.511493Z",
     "shell.execute_reply": "2021-07-01T16:57:53.510812Z"
    }
   },
   "outputs": [
    {
     "name": "stdout",
     "output_type": "stream",
     "text": [
      "PauliTable: ['Y', 'Z', 'Z', 'Y']\n"
     ]
    }
   ],
   "source": [
    "from qiskit.quantum_info.operators import PauliTable\n",
    "\n",
    "current = PauliTable.from_labels(['I', 'X'])\n",
    "other =  PauliTable.from_labels(['Y', 'Z'])\n",
    "print(current.dot(other))"
   ]
  },
  {
   "cell_type": "code",
   "execution_count": 3,
   "id": "a830f9c7",
   "metadata": {
    "execution": {
     "iopub.execute_input": "2021-07-01T16:57:53.517573Z",
     "iopub.status.busy": "2021-07-01T16:57:53.516244Z",
     "iopub.status.idle": "2021-07-01T16:57:53.519395Z",
     "shell.execute_reply": "2021-07-01T16:57:53.518888Z"
    }
   },
   "outputs": [
    {
     "name": "stdout",
     "output_type": "stream",
     "text": [
      "PauliTable: ['YI', 'YX', 'ZI', 'ZX']\n"
     ]
    }
   ],
   "source": [
    "from qiskit.quantum_info.operators import PauliTable\n",
    "\n",
    "current = PauliTable.from_labels(['I', 'X'])\n",
    "other =  PauliTable.from_labels(['Y', 'Z'])\n",
    "print(current.expand(other))"
   ]
  },
  {
   "cell_type": "code",
   "execution_count": 4,
   "id": "b292396c",
   "metadata": {
    "execution": {
     "iopub.execute_input": "2021-07-01T16:57:53.526938Z",
     "iopub.status.busy": "2021-07-01T16:57:53.524484Z",
     "iopub.status.idle": "2021-07-01T16:57:53.529582Z",
     "shell.execute_reply": "2021-07-01T16:57:53.529115Z"
    }
   },
   "outputs": [
    {
     "name": "stdout",
     "output_type": "stream",
     "text": [
      "Initial Ordering\n",
      "PauliTable: ['IY', 'YY', 'IX', 'ZX', 'YI', 'ZZ', 'XI', 'YX', 'XZ', 'YZ', 'XY', 'II', 'XX', 'ZY', 'IZ', 'ZI']\n",
      "Lexicographically sorted\n",
      "PauliTable: ['II', 'IX', 'IY', 'IZ', 'XI', 'XX', 'XY', 'XZ', 'YI', 'YX', 'YY', 'YZ', 'ZI', 'ZX', 'ZY', 'ZZ']\n",
      "Weight sorted\n",
      "PauliTable: ['II', 'IX', 'IY', 'IZ', 'XI', 'YI', 'ZI', 'XX', 'XY', 'XZ', 'YX', 'YY', 'YZ', 'ZX', 'ZY', 'ZZ']\n"
     ]
    }
   ],
   "source": [
    "from numpy.random import shuffle\n",
    "from qiskit.quantum_info.operators import PauliTable\n",
    "\n",
    "# 2-qubit labels\n",
    "labels = ['II', 'IX', 'IY', 'IZ', 'XI', 'XX', 'XY', 'XZ',\n",
    "          'YI', 'YX', 'YY', 'YZ', 'ZI', 'ZX', 'ZY', 'ZZ']\n",
    "# Shuffle Labels\n",
    "shuffle(labels)\n",
    "pt = PauliTable.from_labels(labels)\n",
    "print('Initial Ordering')\n",
    "print(pt)\n",
    "\n",
    "# Lexicographic Ordering\n",
    "srt = pt.sort()\n",
    "print('Lexicographically sorted')\n",
    "print(srt)\n",
    "\n",
    "# Weight Ordering\n",
    "srt = pt.sort(weight=True)\n",
    "print('Weight sorted')\n",
    "print(srt)"
   ]
  },
  {
   "cell_type": "code",
   "execution_count": 5,
   "id": "0609462b",
   "metadata": {
    "execution": {
     "iopub.execute_input": "2021-07-01T16:57:53.535516Z",
     "iopub.status.busy": "2021-07-01T16:57:53.534297Z",
     "iopub.status.idle": "2021-07-01T16:57:53.537246Z",
     "shell.execute_reply": "2021-07-01T16:57:53.536766Z"
    }
   },
   "outputs": [
    {
     "name": "stdout",
     "output_type": "stream",
     "text": [
      "PauliTable: ['IY', 'IZ', 'XY', 'XZ']\n"
     ]
    }
   ],
   "source": [
    "from qiskit.quantum_info.operators import PauliTable\n",
    "\n",
    "current = PauliTable.from_labels(['I', 'X'])\n",
    "other =  PauliTable.from_labels(['Y', 'Z'])\n",
    "print(current.tensor(other))"
   ]
  },
  {
   "cell_type": "code",
   "execution_count": 6,
   "id": "de7bfbce",
   "metadata": {
    "execution": {
     "iopub.execute_input": "2021-07-01T16:57:53.543805Z",
     "iopub.status.busy": "2021-07-01T16:57:53.542120Z",
     "iopub.status.idle": "2021-07-01T16:57:53.545661Z",
     "shell.execute_reply": "2021-07-01T16:57:53.545179Z"
    }
   },
   "outputs": [
    {
     "name": "stdout",
     "output_type": "stream",
     "text": [
      "PauliTable: ['X', 'Y', 'I', 'Z']\n"
     ]
    }
   ],
   "source": [
    "from qiskit.quantum_info.operators import PauliTable\n",
    "\n",
    "pt = PauliTable.from_labels(['X', 'Y', 'X', 'I', 'I', 'Z', 'X', 'Z'])\n",
    "unique = pt.unique()\n",
    "print(unique)"
   ]
  }
 ],
 "metadata": {
  "kernelspec": {
   "display_name": "Python 3 (ipykernel)",
   "language": "python",
   "name": "python3"
  },
  "language_info": {
   "codemirror_mode": {
    "name": "ipython",
    "version": 3
   },
   "file_extension": ".py",
   "mimetype": "text/x-python",
   "name": "python",
   "nbconvert_exporter": "python",
   "pygments_lexer": "ipython3",
   "version": "3.8.10"
  }
 },
 "nbformat": 4,
 "nbformat_minor": 5
}