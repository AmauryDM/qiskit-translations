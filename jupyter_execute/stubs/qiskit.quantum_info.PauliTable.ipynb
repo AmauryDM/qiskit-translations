{
 "cells": [
  {
   "cell_type": "code",
   "execution_count": 1,
   "id": "203c9b0f",
   "metadata": {
    "execution": {
     "iopub.execute_input": "2021-06-22T18:13:59.129965Z",
     "iopub.status.busy": "2021-06-22T18:13:59.129403Z",
     "iopub.status.idle": "2021-06-22T18:13:59.945063Z",
     "shell.execute_reply": "2021-06-22T18:13:59.944190Z"
    }
   },
   "outputs": [
    {
     "name": "stdout",
     "output_type": "stream",
     "text": [
      "PauliTable: ['Y', 'Z', 'Z', 'Y']\n"
     ]
    }
   ],
   "source": [
    "from qiskit.quantum_info.operators import PauliTable\n",
    "\n",
    "current = PauliTable.from_labels(['I', 'X'])\n",
    "other =  PauliTable.from_labels(['Y', 'Z'])\n",
    "print(current.compose(other))"
   ]
  },
  {
   "cell_type": "code",
   "execution_count": 2,
   "id": "d85b489f",
   "metadata": {
    "execution": {
     "iopub.execute_input": "2021-06-22T18:13:59.949838Z",
     "iopub.status.busy": "2021-06-22T18:13:59.949145Z",
     "iopub.status.idle": "2021-06-22T18:13:59.952437Z",
     "shell.execute_reply": "2021-06-22T18:13:59.952016Z"
    }
   },
   "outputs": [
    {
     "name": "stdout",
     "output_type": "stream",
     "text": [
      "PauliTable: ['Y', 'Z', 'Z', 'Y']\n"
     ]
    }
   ],
   "source": [
    "from qiskit.quantum_info.operators import PauliTable\n",
    "\n",
    "current = PauliTable.from_labels(['I', 'X'])\n",
    "other =  PauliTable.from_labels(['Y', 'Z'])\n",
    "print(current.dot(other))"
   ]
  },
  {
   "cell_type": "code",
   "execution_count": 3,
   "id": "b7188bc9",
   "metadata": {
    "execution": {
     "iopub.execute_input": "2021-06-22T18:13:59.958618Z",
     "iopub.status.busy": "2021-06-22T18:13:59.957433Z",
     "iopub.status.idle": "2021-06-22T18:13:59.960451Z",
     "shell.execute_reply": "2021-06-22T18:13:59.960906Z"
    }
   },
   "outputs": [
    {
     "name": "stdout",
     "output_type": "stream",
     "text": [
      "PauliTable: ['YI', 'YX', 'ZI', 'ZX']\n"
     ]
    }
   ],
   "source": [
    "from qiskit.quantum_info.operators import PauliTable\n",
    "\n",
    "current = PauliTable.from_labels(['I', 'X'])\n",
    "other =  PauliTable.from_labels(['Y', 'Z'])\n",
    "print(current.expand(other))"
   ]
  },
  {
   "cell_type": "code",
   "execution_count": 4,
   "id": "3ce15e21",
   "metadata": {
    "execution": {
     "iopub.execute_input": "2021-06-22T18:13:59.969839Z",
     "iopub.status.busy": "2021-06-22T18:13:59.968337Z",
     "iopub.status.idle": "2021-06-22T18:13:59.971875Z",
     "shell.execute_reply": "2021-06-22T18:13:59.971220Z"
    }
   },
   "outputs": [
    {
     "name": "stdout",
     "output_type": "stream",
     "text": [
      "Initial Ordering\n",
      "PauliTable: ['YZ', 'YX', 'XI', 'IZ', 'IY', 'YY', 'ZZ', 'ZY', 'II', 'IX', 'XZ', 'XY', 'YI', 'ZI', 'XX', 'ZX']\n",
      "Lexicographically sorted\n",
      "PauliTable: ['II', 'IX', 'IY', 'IZ', 'XI', 'XX', 'XY', 'XZ', 'YI', 'YX', 'YY', 'YZ', 'ZI', 'ZX', 'ZY', 'ZZ']\n",
      "Weight sorted\n",
      "PauliTable: ['II', 'IX', 'IY', 'IZ', 'XI', 'YI', 'ZI', 'XX', 'XY', 'XZ', 'YX', 'YY', 'YZ', 'ZX', 'ZY', 'ZZ']\n"
     ]
    }
   ],
   "source": [
    "from numpy.random import shuffle\n",
    "from qiskit.quantum_info.operators import PauliTable\n",
    "\n",
    "# 2-qubit labels\n",
    "labels = ['II', 'IX', 'IY', 'IZ', 'XI', 'XX', 'XY', 'XZ',\n",
    "          'YI', 'YX', 'YY', 'YZ', 'ZI', 'ZX', 'ZY', 'ZZ']\n",
    "# Shuffle Labels\n",
    "shuffle(labels)\n",
    "pt = PauliTable.from_labels(labels)\n",
    "print('Initial Ordering')\n",
    "print(pt)\n",
    "\n",
    "# Lexicographic Ordering\n",
    "srt = pt.sort()\n",
    "print('Lexicographically sorted')\n",
    "print(srt)\n",
    "\n",
    "# Weight Ordering\n",
    "srt = pt.sort(weight=True)\n",
    "print('Weight sorted')\n",
    "print(srt)"
   ]
  },
  {
   "cell_type": "code",
   "execution_count": 5,
   "id": "a7dd14c3",
   "metadata": {
    "execution": {
     "iopub.execute_input": "2021-06-22T18:13:59.978551Z",
     "iopub.status.busy": "2021-06-22T18:13:59.977191Z",
     "iopub.status.idle": "2021-06-22T18:13:59.980742Z",
     "shell.execute_reply": "2021-06-22T18:13:59.980247Z"
    }
   },
   "outputs": [
    {
     "name": "stdout",
     "output_type": "stream",
     "text": [
      "PauliTable: ['IY', 'IZ', 'XY', 'XZ']\n"
     ]
    }
   ],
   "source": [
    "from qiskit.quantum_info.operators import PauliTable\n",
    "\n",
    "current = PauliTable.from_labels(['I', 'X'])\n",
    "other =  PauliTable.from_labels(['Y', 'Z'])\n",
    "print(current.tensor(other))"
   ]
  },
  {
   "cell_type": "code",
   "execution_count": 6,
   "id": "ef85338e",
   "metadata": {
    "execution": {
     "iopub.execute_input": "2021-06-22T18:13:59.986388Z",
     "iopub.status.busy": "2021-06-22T18:13:59.985678Z",
     "iopub.status.idle": "2021-06-22T18:13:59.989027Z",
     "shell.execute_reply": "2021-06-22T18:13:59.989528Z"
    }
   },
   "outputs": [
    {
     "name": "stdout",
     "output_type": "stream",
     "text": [
      "PauliTable: ['X', 'Y', 'I', 'Z']\n"
     ]
    }
   ],
   "source": [
    "from qiskit.quantum_info.operators import PauliTable\n",
    "\n",
    "pt = PauliTable.from_labels(['X', 'Y', 'X', 'I', 'I', 'Z', 'X', 'Z'])\n",
    "unique = pt.unique()\n",
    "print(unique)"
   ]
  }
 ],
 "metadata": {
  "kernelspec": {
   "display_name": "Python 3",
   "language": "python",
   "name": "python3"
  },
  "language_info": {
   "codemirror_mode": {
    "name": "ipython",
    "version": 3
   },
   "file_extension": ".py",
   "mimetype": "text/x-python",
   "name": "python",
   "nbconvert_exporter": "python",
   "pygments_lexer": "ipython3",
   "version": "3.8.10"
  }
 },
 "nbformat": 4,
 "nbformat_minor": 5
}