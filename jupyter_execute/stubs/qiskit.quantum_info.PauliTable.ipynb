{
 "cells": [
  {
   "cell_type": "code",
   "execution_count": 1,
   "id": "617cd103",
   "metadata": {
    "execution": {
     "iopub.execute_input": "2021-06-23T13:28:53.907659Z",
     "iopub.status.busy": "2021-06-23T13:28:53.907044Z",
     "iopub.status.idle": "2021-06-23T13:28:54.552135Z",
     "shell.execute_reply": "2021-06-23T13:28:54.551623Z"
    }
   },
   "outputs": [
    {
     "name": "stdout",
     "output_type": "stream",
     "text": [
      "PauliTable: ['Y', 'Z', 'Z', 'Y']\n"
     ]
    }
   ],
   "source": [
    "from qiskit.quantum_info.operators import PauliTable\n",
    "\n",
    "current = PauliTable.from_labels(['I', 'X'])\n",
    "other =  PauliTable.from_labels(['Y', 'Z'])\n",
    "print(current.compose(other))"
   ]
  },
  {
   "cell_type": "code",
   "execution_count": 2,
   "id": "9e45aeee",
   "metadata": {
    "execution": {
     "iopub.execute_input": "2021-06-23T13:28:54.556598Z",
     "iopub.status.busy": "2021-06-23T13:28:54.556110Z",
     "iopub.status.idle": "2021-06-23T13:28:54.559808Z",
     "shell.execute_reply": "2021-06-23T13:28:54.559329Z"
    }
   },
   "outputs": [
    {
     "name": "stdout",
     "output_type": "stream",
     "text": [
      "PauliTable: ['Y', 'Z', 'Z', 'Y']\n"
     ]
    }
   ],
   "source": [
    "from qiskit.quantum_info.operators import PauliTable\n",
    "\n",
    "current = PauliTable.from_labels(['I', 'X'])\n",
    "other =  PauliTable.from_labels(['Y', 'Z'])\n",
    "print(current.dot(other))"
   ]
  },
  {
   "cell_type": "code",
   "execution_count": 3,
   "id": "0c8c0283",
   "metadata": {
    "execution": {
     "iopub.execute_input": "2021-06-23T13:28:54.563885Z",
     "iopub.status.busy": "2021-06-23T13:28:54.563345Z",
     "iopub.status.idle": "2021-06-23T13:28:54.567015Z",
     "shell.execute_reply": "2021-06-23T13:28:54.567404Z"
    }
   },
   "outputs": [
    {
     "name": "stdout",
     "output_type": "stream",
     "text": [
      "PauliTable: ['YI', 'YX', 'ZI', 'ZX']\n"
     ]
    }
   ],
   "source": [
    "from qiskit.quantum_info.operators import PauliTable\n",
    "\n",
    "current = PauliTable.from_labels(['I', 'X'])\n",
    "other =  PauliTable.from_labels(['Y', 'Z'])\n",
    "print(current.expand(other))"
   ]
  },
  {
   "cell_type": "code",
   "execution_count": 4,
   "id": "ee7df239",
   "metadata": {
    "execution": {
     "iopub.execute_input": "2021-06-23T13:28:54.572683Z",
     "iopub.status.busy": "2021-06-23T13:28:54.572205Z",
     "iopub.status.idle": "2021-06-23T13:28:54.576957Z",
     "shell.execute_reply": "2021-06-23T13:28:54.577340Z"
    }
   },
   "outputs": [
    {
     "name": "stdout",
     "output_type": "stream",
     "text": [
      "Initial Ordering\n",
      "PauliTable: ['XX', 'YX', 'IX', 'II', 'IY', 'XI', 'ZX', 'XY', 'YI', 'YZ', 'ZZ', 'ZY', 'ZI', 'IZ', 'YY', 'XZ']\n",
      "Lexicographically sorted\n",
      "PauliTable: ['II', 'IX', 'IY', 'IZ', 'XI', 'XX', 'XY', 'XZ', 'YI', 'YX', 'YY', 'YZ', 'ZI', 'ZX', 'ZY', 'ZZ']\n",
      "Weight sorted\n",
      "PauliTable: ['II', 'IX', 'IY', 'IZ', 'XI', 'YI', 'ZI', 'XX', 'XY', 'XZ', 'YX', 'YY', 'YZ', 'ZX', 'ZY', 'ZZ']\n"
     ]
    }
   ],
   "source": [
    "from numpy.random import shuffle\n",
    "from qiskit.quantum_info.operators import PauliTable\n",
    "\n",
    "# 2-qubit labels\n",
    "labels = ['II', 'IX', 'IY', 'IZ', 'XI', 'XX', 'XY', 'XZ',\n",
    "          'YI', 'YX', 'YY', 'YZ', 'ZI', 'ZX', 'ZY', 'ZZ']\n",
    "# Shuffle Labels\n",
    "shuffle(labels)\n",
    "pt = PauliTable.from_labels(labels)\n",
    "print('Initial Ordering')\n",
    "print(pt)\n",
    "\n",
    "# Lexicographic Ordering\n",
    "srt = pt.sort()\n",
    "print('Lexicographically sorted')\n",
    "print(srt)\n",
    "\n",
    "# Weight Ordering\n",
    "srt = pt.sort(weight=True)\n",
    "print('Weight sorted')\n",
    "print(srt)"
   ]
  },
  {
   "cell_type": "code",
   "execution_count": 5,
   "id": "5848ceee",
   "metadata": {
    "execution": {
     "iopub.execute_input": "2021-06-23T13:28:54.581808Z",
     "iopub.status.busy": "2021-06-23T13:28:54.581357Z",
     "iopub.status.idle": "2021-06-23T13:28:54.584760Z",
     "shell.execute_reply": "2021-06-23T13:28:54.584324Z"
    }
   },
   "outputs": [
    {
     "name": "stdout",
     "output_type": "stream",
     "text": [
      "PauliTable: ['IY', 'IZ', 'XY', 'XZ']\n"
     ]
    }
   ],
   "source": [
    "from qiskit.quantum_info.operators import PauliTable\n",
    "\n",
    "current = PauliTable.from_labels(['I', 'X'])\n",
    "other =  PauliTable.from_labels(['Y', 'Z'])\n",
    "print(current.tensor(other))"
   ]
  },
  {
   "cell_type": "code",
   "execution_count": 6,
   "id": "ab393b89",
   "metadata": {
    "execution": {
     "iopub.execute_input": "2021-06-23T13:28:54.589587Z",
     "iopub.status.busy": "2021-06-23T13:28:54.588647Z",
     "iopub.status.idle": "2021-06-23T13:28:54.591608Z",
     "shell.execute_reply": "2021-06-23T13:28:54.591132Z"
    }
   },
   "outputs": [
    {
     "name": "stdout",
     "output_type": "stream",
     "text": [
      "PauliTable: ['X', 'Y', 'I', 'Z']\n"
     ]
    }
   ],
   "source": [
    "from qiskit.quantum_info.operators import PauliTable\n",
    "\n",
    "pt = PauliTable.from_labels(['X', 'Y', 'X', 'I', 'I', 'Z', 'X', 'Z'])\n",
    "unique = pt.unique()\n",
    "print(unique)"
   ]
  }
 ],
 "metadata": {
  "kernelspec": {
   "display_name": "Python 3",
   "language": "python",
   "name": "python3"
  },
  "language_info": {
   "codemirror_mode": {
    "name": "ipython",
    "version": 3
   },
   "file_extension": ".py",
   "mimetype": "text/x-python",
   "name": "python",
   "nbconvert_exporter": "python",
   "pygments_lexer": "ipython3",
   "version": "3.8.10"
  }
 },
 "nbformat": 4,
 "nbformat_minor": 5
}