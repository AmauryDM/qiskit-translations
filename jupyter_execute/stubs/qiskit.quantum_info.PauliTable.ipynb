{
 "cells": [
  {
   "cell_type": "code",
   "execution_count": 1,
   "id": "f19dcb3a",
   "metadata": {
    "execution": {
     "iopub.execute_input": "2021-06-30T21:55:27.176212Z",
     "iopub.status.busy": "2021-06-30T21:55:27.171350Z",
     "iopub.status.idle": "2021-06-30T21:55:27.853882Z",
     "shell.execute_reply": "2021-06-30T21:55:27.853309Z"
    }
   },
   "outputs": [
    {
     "name": "stdout",
     "output_type": "stream",
     "text": [
      "PauliTable: ['Y', 'Z', 'Z', 'Y']\n"
     ]
    }
   ],
   "source": [
    "from qiskit.quantum_info.operators import PauliTable\n",
    "\n",
    "current = PauliTable.from_labels(['I', 'X'])\n",
    "other =  PauliTable.from_labels(['Y', 'Z'])\n",
    "print(current.compose(other))"
   ]
  },
  {
   "cell_type": "code",
   "execution_count": 2,
   "id": "e3fb8937",
   "metadata": {
    "execution": {
     "iopub.execute_input": "2021-06-30T21:55:27.859167Z",
     "iopub.status.busy": "2021-06-30T21:55:27.858521Z",
     "iopub.status.idle": "2021-06-30T21:55:27.862791Z",
     "shell.execute_reply": "2021-06-30T21:55:27.862353Z"
    }
   },
   "outputs": [
    {
     "name": "stdout",
     "output_type": "stream",
     "text": [
      "PauliTable: ['Y', 'Z', 'Z', 'Y']\n"
     ]
    }
   ],
   "source": [
    "from qiskit.quantum_info.operators import PauliTable\n",
    "\n",
    "current = PauliTable.from_labels(['I', 'X'])\n",
    "other =  PauliTable.from_labels(['Y', 'Z'])\n",
    "print(current.dot(other))"
   ]
  },
  {
   "cell_type": "code",
   "execution_count": 3,
   "id": "d9006f72",
   "metadata": {
    "execution": {
     "iopub.execute_input": "2021-06-30T21:55:27.868494Z",
     "iopub.status.busy": "2021-06-30T21:55:27.867549Z",
     "iopub.status.idle": "2021-06-30T21:55:27.870723Z",
     "shell.execute_reply": "2021-06-30T21:55:27.870266Z"
    }
   },
   "outputs": [
    {
     "name": "stdout",
     "output_type": "stream",
     "text": [
      "PauliTable: ['YI', 'YX', 'ZI', 'ZX']\n"
     ]
    }
   ],
   "source": [
    "from qiskit.quantum_info.operators import PauliTable\n",
    "\n",
    "current = PauliTable.from_labels(['I', 'X'])\n",
    "other =  PauliTable.from_labels(['Y', 'Z'])\n",
    "print(current.expand(other))"
   ]
  },
  {
   "cell_type": "code",
   "execution_count": 4,
   "id": "8bc18840",
   "metadata": {
    "execution": {
     "iopub.execute_input": "2021-06-30T21:55:27.878356Z",
     "iopub.status.busy": "2021-06-30T21:55:27.877802Z",
     "iopub.status.idle": "2021-06-30T21:55:27.880356Z",
     "shell.execute_reply": "2021-06-30T21:55:27.880952Z"
    }
   },
   "outputs": [
    {
     "name": "stdout",
     "output_type": "stream",
     "text": [
      "Initial Ordering\n",
      "PauliTable: ['ZX', 'XI', 'YZ', 'IX', 'XY', 'XX', 'ZZ', 'IY', 'ZI', 'ZY', 'YX', 'YI', 'II', 'YY', 'XZ', 'IZ']\n",
      "Lexicographically sorted\n",
      "PauliTable: ['II', 'IX', 'IY', 'IZ', 'XI', 'XX', 'XY', 'XZ', 'YI', 'YX', 'YY', 'YZ', 'ZI', 'ZX', 'ZY', 'ZZ']\n",
      "Weight sorted\n",
      "PauliTable: ['II', 'IX', 'IY', 'IZ', 'XI', 'YI', 'ZI', 'XX', 'XY', 'XZ', 'YX', 'YY', 'YZ', 'ZX', 'ZY', 'ZZ']\n"
     ]
    }
   ],
   "source": [
    "from numpy.random import shuffle\n",
    "from qiskit.quantum_info.operators import PauliTable\n",
    "\n",
    "# 2-qubit labels\n",
    "labels = ['II', 'IX', 'IY', 'IZ', 'XI', 'XX', 'XY', 'XZ',\n",
    "          'YI', 'YX', 'YY', 'YZ', 'ZI', 'ZX', 'ZY', 'ZZ']\n",
    "# Shuffle Labels\n",
    "shuffle(labels)\n",
    "pt = PauliTable.from_labels(labels)\n",
    "print('Initial Ordering')\n",
    "print(pt)\n",
    "\n",
    "# Lexicographic Ordering\n",
    "srt = pt.sort()\n",
    "print('Lexicographically sorted')\n",
    "print(srt)\n",
    "\n",
    "# Weight Ordering\n",
    "srt = pt.sort(weight=True)\n",
    "print('Weight sorted')\n",
    "print(srt)"
   ]
  },
  {
   "cell_type": "code",
   "execution_count": 5,
   "id": "560964db",
   "metadata": {
    "execution": {
     "iopub.execute_input": "2021-06-30T21:55:27.885610Z",
     "iopub.status.busy": "2021-06-30T21:55:27.885084Z",
     "iopub.status.idle": "2021-06-30T21:55:27.887787Z",
     "shell.execute_reply": "2021-06-30T21:55:27.887320Z"
    }
   },
   "outputs": [
    {
     "name": "stdout",
     "output_type": "stream",
     "text": [
      "PauliTable: ['IY', 'IZ', 'XY', 'XZ']\n"
     ]
    }
   ],
   "source": [
    "from qiskit.quantum_info.operators import PauliTable\n",
    "\n",
    "current = PauliTable.from_labels(['I', 'X'])\n",
    "other =  PauliTable.from_labels(['Y', 'Z'])\n",
    "print(current.tensor(other))"
   ]
  },
  {
   "cell_type": "code",
   "execution_count": 6,
   "id": "3603445a",
   "metadata": {
    "execution": {
     "iopub.execute_input": "2021-06-30T21:55:27.893525Z",
     "iopub.status.busy": "2021-06-30T21:55:27.892612Z",
     "iopub.status.idle": "2021-06-30T21:55:27.895147Z",
     "shell.execute_reply": "2021-06-30T21:55:27.895549Z"
    }
   },
   "outputs": [
    {
     "name": "stdout",
     "output_type": "stream",
     "text": [
      "PauliTable: ['X', 'Y', 'I', 'Z']\n"
     ]
    }
   ],
   "source": [
    "from qiskit.quantum_info.operators import PauliTable\n",
    "\n",
    "pt = PauliTable.from_labels(['X', 'Y', 'X', 'I', 'I', 'Z', 'X', 'Z'])\n",
    "unique = pt.unique()\n",
    "print(unique)"
   ]
  }
 ],
 "metadata": {
  "kernelspec": {
   "display_name": "Python 3 (ipykernel)",
   "language": "python",
   "name": "python3"
  },
  "language_info": {
   "codemirror_mode": {
    "name": "ipython",
    "version": 3
   },
   "file_extension": ".py",
   "mimetype": "text/x-python",
   "name": "python",
   "nbconvert_exporter": "python",
   "pygments_lexer": "ipython3",
   "version": "3.8.10"
  }
 },
 "nbformat": 4,
 "nbformat_minor": 5
}