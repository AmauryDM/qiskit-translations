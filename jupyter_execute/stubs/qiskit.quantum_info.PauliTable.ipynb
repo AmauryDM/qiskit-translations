{
 "cells": [
  {
   "cell_type": "code",
   "execution_count": 1,
   "id": "ed08efc9",
   "metadata": {
    "execution": {
     "iopub.execute_input": "2021-07-06T16:37:02.837116Z",
     "iopub.status.busy": "2021-07-06T16:37:02.836231Z",
     "iopub.status.idle": "2021-07-06T16:37:03.479605Z",
     "shell.execute_reply": "2021-07-06T16:37:03.479023Z"
    }
   },
   "outputs": [
    {
     "name": "stdout",
     "output_type": "stream",
     "text": [
      "PauliTable: ['Y', 'Z', 'Z', 'Y']\n"
     ]
    }
   ],
   "source": [
    "from qiskit.quantum_info.operators import PauliTable\n",
    "\n",
    "current = PauliTable.from_labels(['I', 'X'])\n",
    "other =  PauliTable.from_labels(['Y', 'Z'])\n",
    "print(current.compose(other))"
   ]
  },
  {
   "cell_type": "code",
   "execution_count": 2,
   "id": "3bf1929d",
   "metadata": {
    "execution": {
     "iopub.execute_input": "2021-07-06T16:37:03.484516Z",
     "iopub.status.busy": "2021-07-06T16:37:03.484005Z",
     "iopub.status.idle": "2021-07-06T16:37:03.487874Z",
     "shell.execute_reply": "2021-07-06T16:37:03.488284Z"
    }
   },
   "outputs": [
    {
     "name": "stdout",
     "output_type": "stream",
     "text": [
      "PauliTable: ['Y', 'Z', 'Z', 'Y']\n"
     ]
    }
   ],
   "source": [
    "from qiskit.quantum_info.operators import PauliTable\n",
    "\n",
    "current = PauliTable.from_labels(['I', 'X'])\n",
    "other =  PauliTable.from_labels(['Y', 'Z'])\n",
    "print(current.dot(other))"
   ]
  },
  {
   "cell_type": "code",
   "execution_count": 3,
   "id": "ba1fef6f",
   "metadata": {
    "execution": {
     "iopub.execute_input": "2021-07-06T16:37:03.492691Z",
     "iopub.status.busy": "2021-07-06T16:37:03.492230Z",
     "iopub.status.idle": "2021-07-06T16:37:03.496214Z",
     "shell.execute_reply": "2021-07-06T16:37:03.495683Z"
    }
   },
   "outputs": [
    {
     "name": "stdout",
     "output_type": "stream",
     "text": [
      "PauliTable: ['YI', 'YX', 'ZI', 'ZX']\n"
     ]
    }
   ],
   "source": [
    "from qiskit.quantum_info.operators import PauliTable\n",
    "\n",
    "current = PauliTable.from_labels(['I', 'X'])\n",
    "other =  PauliTable.from_labels(['Y', 'Z'])\n",
    "print(current.expand(other))"
   ]
  },
  {
   "cell_type": "code",
   "execution_count": 4,
   "id": "dbb04fc1",
   "metadata": {
    "execution": {
     "iopub.execute_input": "2021-07-06T16:37:03.502562Z",
     "iopub.status.busy": "2021-07-06T16:37:03.500996Z",
     "iopub.status.idle": "2021-07-06T16:37:03.506198Z",
     "shell.execute_reply": "2021-07-06T16:37:03.505731Z"
    }
   },
   "outputs": [
    {
     "name": "stdout",
     "output_type": "stream",
     "text": [
      "Initial Ordering\n",
      "PauliTable: ['XZ', 'YX', 'XY', 'II', 'YY', 'IY', 'YI', 'XX', 'IZ', 'ZI', 'XI', 'IX', 'YZ', 'ZZ', 'ZX', 'ZY']\n",
      "Lexicographically sorted\n",
      "PauliTable: ['II', 'IX', 'IY', 'IZ', 'XI', 'XX', 'XY', 'XZ', 'YI', 'YX', 'YY', 'YZ', 'ZI', 'ZX', 'ZY', 'ZZ']\n",
      "Weight sorted\n",
      "PauliTable: ['II', 'IX', 'IY', 'IZ', 'XI', 'YI', 'ZI', 'XX', 'XY', 'XZ', 'YX', 'YY', 'YZ', 'ZX', 'ZY', 'ZZ']\n"
     ]
    }
   ],
   "source": [
    "from numpy.random import shuffle\n",
    "from qiskit.quantum_info.operators import PauliTable\n",
    "\n",
    "# 2-qubit labels\n",
    "labels = ['II', 'IX', 'IY', 'IZ', 'XI', 'XX', 'XY', 'XZ',\n",
    "          'YI', 'YX', 'YY', 'YZ', 'ZI', 'ZX', 'ZY', 'ZZ']\n",
    "# Shuffle Labels\n",
    "shuffle(labels)\n",
    "pt = PauliTable.from_labels(labels)\n",
    "print('Initial Ordering')\n",
    "print(pt)\n",
    "\n",
    "# Lexicographic Ordering\n",
    "srt = pt.sort()\n",
    "print('Lexicographically sorted')\n",
    "print(srt)\n",
    "\n",
    "# Weight Ordering\n",
    "srt = pt.sort(weight=True)\n",
    "print('Weight sorted')\n",
    "print(srt)"
   ]
  },
  {
   "cell_type": "code",
   "execution_count": 5,
   "id": "e6983860",
   "metadata": {
    "execution": {
     "iopub.execute_input": "2021-07-06T16:37:03.510654Z",
     "iopub.status.busy": "2021-07-06T16:37:03.509969Z",
     "iopub.status.idle": "2021-07-06T16:37:03.512017Z",
     "shell.execute_reply": "2021-07-06T16:37:03.512431Z"
    }
   },
   "outputs": [
    {
     "name": "stdout",
     "output_type": "stream",
     "text": [
      "PauliTable: ['IY', 'IZ', 'XY', 'XZ']\n"
     ]
    }
   ],
   "source": [
    "from qiskit.quantum_info.operators import PauliTable\n",
    "\n",
    "current = PauliTable.from_labels(['I', 'X'])\n",
    "other =  PauliTable.from_labels(['Y', 'Z'])\n",
    "print(current.tensor(other))"
   ]
  },
  {
   "cell_type": "code",
   "execution_count": 6,
   "id": "4ee63bf2",
   "metadata": {
    "execution": {
     "iopub.execute_input": "2021-07-06T16:37:03.517038Z",
     "iopub.status.busy": "2021-07-06T16:37:03.516525Z",
     "iopub.status.idle": "2021-07-06T16:37:03.520066Z",
     "shell.execute_reply": "2021-07-06T16:37:03.520409Z"
    }
   },
   "outputs": [
    {
     "name": "stdout",
     "output_type": "stream",
     "text": [
      "PauliTable: ['X', 'Y', 'I', 'Z']\n"
     ]
    }
   ],
   "source": [
    "from qiskit.quantum_info.operators import PauliTable\n",
    "\n",
    "pt = PauliTable.from_labels(['X', 'Y', 'X', 'I', 'I', 'Z', 'X', 'Z'])\n",
    "unique = pt.unique()\n",
    "print(unique)"
   ]
  }
 ],
 "metadata": {
  "kernelspec": {
   "display_name": "Python 3 (ipykernel)",
   "language": "python",
   "name": "python3"
  },
  "language_info": {
   "codemirror_mode": {
    "name": "ipython",
    "version": 3
   },
   "file_extension": ".py",
   "mimetype": "text/x-python",
   "name": "python",
   "nbconvert_exporter": "python",
   "pygments_lexer": "ipython3",
   "version": "3.8.10"
  }
 },
 "nbformat": 4,
 "nbformat_minor": 5
}