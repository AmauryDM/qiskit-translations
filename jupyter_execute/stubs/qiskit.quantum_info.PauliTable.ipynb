{
 "cells": [
  {
   "cell_type": "code",
   "execution_count": 1,
   "id": "387efe4d",
   "metadata": {
    "execution": {
     "iopub.execute_input": "2021-06-23T21:11:17.448646Z",
     "iopub.status.busy": "2021-06-23T21:11:17.447683Z",
     "iopub.status.idle": "2021-06-23T21:11:18.109128Z",
     "shell.execute_reply": "2021-06-23T21:11:18.109515Z"
    }
   },
   "outputs": [
    {
     "name": "stdout",
     "output_type": "stream",
     "text": [
      "PauliTable: ['Y', 'Z', 'Z', 'Y']\n"
     ]
    }
   ],
   "source": [
    "from qiskit.quantum_info.operators import PauliTable\n",
    "\n",
    "current = PauliTable.from_labels(['I', 'X'])\n",
    "other =  PauliTable.from_labels(['Y', 'Z'])\n",
    "print(current.compose(other))"
   ]
  },
  {
   "cell_type": "code",
   "execution_count": 2,
   "id": "ee3ff8f2",
   "metadata": {
    "execution": {
     "iopub.execute_input": "2021-06-23T21:11:18.114277Z",
     "iopub.status.busy": "2021-06-23T21:11:18.113754Z",
     "iopub.status.idle": "2021-06-23T21:11:18.117412Z",
     "shell.execute_reply": "2021-06-23T21:11:18.116965Z"
    }
   },
   "outputs": [
    {
     "name": "stdout",
     "output_type": "stream",
     "text": [
      "PauliTable: ['Y', 'Z', 'Z', 'Y']\n"
     ]
    }
   ],
   "source": [
    "from qiskit.quantum_info.operators import PauliTable\n",
    "\n",
    "current = PauliTable.from_labels(['I', 'X'])\n",
    "other =  PauliTable.from_labels(['Y', 'Z'])\n",
    "print(current.dot(other))"
   ]
  },
  {
   "cell_type": "code",
   "execution_count": 3,
   "id": "faf29e00",
   "metadata": {
    "execution": {
     "iopub.execute_input": "2021-06-23T21:11:18.122790Z",
     "iopub.status.busy": "2021-06-23T21:11:18.121633Z",
     "iopub.status.idle": "2021-06-23T21:11:18.124635Z",
     "shell.execute_reply": "2021-06-23T21:11:18.124149Z"
    }
   },
   "outputs": [
    {
     "name": "stdout",
     "output_type": "stream",
     "text": [
      "PauliTable: ['YI', 'YX', 'ZI', 'ZX']\n"
     ]
    }
   ],
   "source": [
    "from qiskit.quantum_info.operators import PauliTable\n",
    "\n",
    "current = PauliTable.from_labels(['I', 'X'])\n",
    "other =  PauliTable.from_labels(['Y', 'Z'])\n",
    "print(current.expand(other))"
   ]
  },
  {
   "cell_type": "code",
   "execution_count": 4,
   "id": "cf00d092",
   "metadata": {
    "execution": {
     "iopub.execute_input": "2021-06-23T21:11:18.131425Z",
     "iopub.status.busy": "2021-06-23T21:11:18.130071Z",
     "iopub.status.idle": "2021-06-23T21:11:18.133480Z",
     "shell.execute_reply": "2021-06-23T21:11:18.133906Z"
    }
   },
   "outputs": [
    {
     "name": "stdout",
     "output_type": "stream",
     "text": [
      "Initial Ordering\n",
      "PauliTable: ['ZZ', 'IX', 'YI', 'XZ', 'XX', 'XI', 'ZX', 'XY', 'YZ', 'YX', 'ZI', 'IY', 'YY', 'ZY', 'IZ', 'II']\n",
      "Lexicographically sorted\n",
      "PauliTable: ['II', 'IX', 'IY', 'IZ', 'XI', 'XX', 'XY', 'XZ', 'YI', 'YX', 'YY', 'YZ', 'ZI', 'ZX', 'ZY', 'ZZ']\n",
      "Weight sorted\n",
      "PauliTable: ['II', 'IX', 'IY', 'IZ', 'XI', 'YI', 'ZI', 'XX', 'XY', 'XZ', 'YX', 'YY', 'YZ', 'ZX', 'ZY', 'ZZ']\n"
     ]
    }
   ],
   "source": [
    "from numpy.random import shuffle\n",
    "from qiskit.quantum_info.operators import PauliTable\n",
    "\n",
    "# 2-qubit labels\n",
    "labels = ['II', 'IX', 'IY', 'IZ', 'XI', 'XX', 'XY', 'XZ',\n",
    "          'YI', 'YX', 'YY', 'YZ', 'ZI', 'ZX', 'ZY', 'ZZ']\n",
    "# Shuffle Labels\n",
    "shuffle(labels)\n",
    "pt = PauliTable.from_labels(labels)\n",
    "print('Initial Ordering')\n",
    "print(pt)\n",
    "\n",
    "# Lexicographic Ordering\n",
    "srt = pt.sort()\n",
    "print('Lexicographically sorted')\n",
    "print(srt)\n",
    "\n",
    "# Weight Ordering\n",
    "srt = pt.sort(weight=True)\n",
    "print('Weight sorted')\n",
    "print(srt)"
   ]
  },
  {
   "cell_type": "code",
   "execution_count": 5,
   "id": "1a61c0c5",
   "metadata": {
    "execution": {
     "iopub.execute_input": "2021-06-23T21:11:18.138478Z",
     "iopub.status.busy": "2021-06-23T21:11:18.137975Z",
     "iopub.status.idle": "2021-06-23T21:11:18.140429Z",
     "shell.execute_reply": "2021-06-23T21:11:18.140885Z"
    }
   },
   "outputs": [
    {
     "name": "stdout",
     "output_type": "stream",
     "text": [
      "PauliTable: ['IY', 'IZ', 'XY', 'XZ']\n"
     ]
    }
   ],
   "source": [
    "from qiskit.quantum_info.operators import PauliTable\n",
    "\n",
    "current = PauliTable.from_labels(['I', 'X'])\n",
    "other =  PauliTable.from_labels(['Y', 'Z'])\n",
    "print(current.tensor(other))"
   ]
  },
  {
   "cell_type": "code",
   "execution_count": 6,
   "id": "9e3fd944",
   "metadata": {
    "execution": {
     "iopub.execute_input": "2021-06-23T21:11:18.146419Z",
     "iopub.status.busy": "2021-06-23T21:11:18.145183Z",
     "iopub.status.idle": "2021-06-23T21:11:18.148116Z",
     "shell.execute_reply": "2021-06-23T21:11:18.147673Z"
    }
   },
   "outputs": [
    {
     "name": "stdout",
     "output_type": "stream",
     "text": [
      "PauliTable: ['X', 'Y', 'I', 'Z']\n"
     ]
    }
   ],
   "source": [
    "from qiskit.quantum_info.operators import PauliTable\n",
    "\n",
    "pt = PauliTable.from_labels(['X', 'Y', 'X', 'I', 'I', 'Z', 'X', 'Z'])\n",
    "unique = pt.unique()\n",
    "print(unique)"
   ]
  }
 ],
 "metadata": {
  "kernelspec": {
   "display_name": "Python 3",
   "language": "python",
   "name": "python3"
  },
  "language_info": {
   "codemirror_mode": {
    "name": "ipython",
    "version": 3
   },
   "file_extension": ".py",
   "mimetype": "text/x-python",
   "name": "python",
   "nbconvert_exporter": "python",
   "pygments_lexer": "ipython3",
   "version": "3.8.10"
  }
 },
 "nbformat": 4,
 "nbformat_minor": 5
}