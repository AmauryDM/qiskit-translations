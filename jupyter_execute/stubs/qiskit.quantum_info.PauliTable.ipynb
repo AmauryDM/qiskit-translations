{
 "cells": [
  {
   "cell_type": "code",
   "execution_count": 1,
   "id": "0ade1a80",
   "metadata": {
    "execution": {
     "iopub.execute_input": "2021-07-08T18:31:37.548602Z",
     "iopub.status.busy": "2021-07-08T18:31:37.548022Z",
     "iopub.status.idle": "2021-07-08T18:31:38.315829Z",
     "shell.execute_reply": "2021-07-08T18:31:38.316357Z"
    }
   },
   "outputs": [
    {
     "name": "stdout",
     "output_type": "stream",
     "text": [
      "PauliTable: ['Y', 'Z', 'Z', 'Y']\n"
     ]
    }
   ],
   "source": [
    "from qiskit.quantum_info.operators import PauliTable\n",
    "\n",
    "current = PauliTable.from_labels(['I', 'X'])\n",
    "other =  PauliTable.from_labels(['Y', 'Z'])\n",
    "print(current.compose(other))"
   ]
  },
  {
   "cell_type": "code",
   "execution_count": 2,
   "id": "78ff6ee9",
   "metadata": {
    "execution": {
     "iopub.execute_input": "2021-07-08T18:31:38.322714Z",
     "iopub.status.busy": "2021-07-08T18:31:38.322060Z",
     "iopub.status.idle": "2021-07-08T18:31:38.324462Z",
     "shell.execute_reply": "2021-07-08T18:31:38.324940Z"
    }
   },
   "outputs": [
    {
     "name": "stdout",
     "output_type": "stream",
     "text": [
      "PauliTable: ['Y', 'Z', 'Z', 'Y']\n"
     ]
    }
   ],
   "source": [
    "from qiskit.quantum_info.operators import PauliTable\n",
    "\n",
    "current = PauliTable.from_labels(['I', 'X'])\n",
    "other =  PauliTable.from_labels(['Y', 'Z'])\n",
    "print(current.dot(other))"
   ]
  },
  {
   "cell_type": "code",
   "execution_count": 3,
   "id": "c089bd76",
   "metadata": {
    "execution": {
     "iopub.execute_input": "2021-07-08T18:31:38.332368Z",
     "iopub.status.busy": "2021-07-08T18:31:38.331280Z",
     "iopub.status.idle": "2021-07-08T18:31:38.334210Z",
     "shell.execute_reply": "2021-07-08T18:31:38.332913Z"
    }
   },
   "outputs": [
    {
     "name": "stdout",
     "output_type": "stream",
     "text": [
      "PauliTable: ['YI', 'YX', 'ZI', 'ZX']\n"
     ]
    }
   ],
   "source": [
    "from qiskit.quantum_info.operators import PauliTable\n",
    "\n",
    "current = PauliTable.from_labels(['I', 'X'])\n",
    "other =  PauliTable.from_labels(['Y', 'Z'])\n",
    "print(current.expand(other))"
   ]
  },
  {
   "cell_type": "code",
   "execution_count": 4,
   "id": "2813f20e",
   "metadata": {
    "execution": {
     "iopub.execute_input": "2021-07-08T18:31:38.342004Z",
     "iopub.status.busy": "2021-07-08T18:31:38.339879Z",
     "iopub.status.idle": "2021-07-08T18:31:38.344707Z",
     "shell.execute_reply": "2021-07-08T18:31:38.344232Z"
    }
   },
   "outputs": [
    {
     "name": "stdout",
     "output_type": "stream",
     "text": [
      "Initial Ordering\n",
      "PauliTable: ['ZI', 'IY', 'YY', 'YX', 'YZ', 'ZX', 'XX', 'II', 'ZY', 'XI', 'IX', 'XZ', 'ZZ', 'YI', 'XY', 'IZ']\n",
      "Lexicographically sorted\n",
      "PauliTable: ['II', 'IX', 'IY', 'IZ', 'XI', 'XX', 'XY', 'XZ', 'YI', 'YX', 'YY', 'YZ', 'ZI', 'ZX', 'ZY', 'ZZ']\n",
      "Weight sorted\n",
      "PauliTable: ['II', 'IX', 'IY', 'IZ', 'XI', 'YI', 'ZI', 'XX', 'XY', 'XZ', 'YX', 'YY', 'YZ', 'ZX', 'ZY', 'ZZ']\n"
     ]
    }
   ],
   "source": [
    "from numpy.random import shuffle\n",
    "from qiskit.quantum_info.operators import PauliTable\n",
    "\n",
    "# 2-qubit labels\n",
    "labels = ['II', 'IX', 'IY', 'IZ', 'XI', 'XX', 'XY', 'XZ',\n",
    "          'YI', 'YX', 'YY', 'YZ', 'ZI', 'ZX', 'ZY', 'ZZ']\n",
    "# Shuffle Labels\n",
    "shuffle(labels)\n",
    "pt = PauliTable.from_labels(labels)\n",
    "print('Initial Ordering')\n",
    "print(pt)\n",
    "\n",
    "# Lexicographic Ordering\n",
    "srt = pt.sort()\n",
    "print('Lexicographically sorted')\n",
    "print(srt)\n",
    "\n",
    "# Weight Ordering\n",
    "srt = pt.sort(weight=True)\n",
    "print('Weight sorted')\n",
    "print(srt)"
   ]
  },
  {
   "cell_type": "code",
   "execution_count": 5,
   "id": "6323715c",
   "metadata": {
    "execution": {
     "iopub.execute_input": "2021-07-08T18:31:38.351990Z",
     "iopub.status.busy": "2021-07-08T18:31:38.350457Z",
     "iopub.status.idle": "2021-07-08T18:31:38.353937Z",
     "shell.execute_reply": "2021-07-08T18:31:38.353415Z"
    }
   },
   "outputs": [
    {
     "name": "stdout",
     "output_type": "stream",
     "text": [
      "PauliTable: ['IY', 'IZ', 'XY', 'XZ']\n"
     ]
    }
   ],
   "source": [
    "from qiskit.quantum_info.operators import PauliTable\n",
    "\n",
    "current = PauliTable.from_labels(['I', 'X'])\n",
    "other =  PauliTable.from_labels(['Y', 'Z'])\n",
    "print(current.tensor(other))"
   ]
  },
  {
   "cell_type": "code",
   "execution_count": 6,
   "id": "9271a8c7",
   "metadata": {
    "execution": {
     "iopub.execute_input": "2021-07-08T18:31:38.359492Z",
     "iopub.status.busy": "2021-07-08T18:31:38.358896Z",
     "iopub.status.idle": "2021-07-08T18:31:38.361814Z",
     "shell.execute_reply": "2021-07-08T18:31:38.362246Z"
    }
   },
   "outputs": [
    {
     "name": "stdout",
     "output_type": "stream",
     "text": [
      "PauliTable: ['X', 'Y', 'I', 'Z']\n"
     ]
    }
   ],
   "source": [
    "from qiskit.quantum_info.operators import PauliTable\n",
    "\n",
    "pt = PauliTable.from_labels(['X', 'Y', 'X', 'I', 'I', 'Z', 'X', 'Z'])\n",
    "unique = pt.unique()\n",
    "print(unique)"
   ]
  }
 ],
 "metadata": {
  "kernelspec": {
   "display_name": "Python 3 (ipykernel)",
   "language": "python",
   "name": "python3"
  },
  "language_info": {
   "codemirror_mode": {
    "name": "ipython",
    "version": 3
   },
   "file_extension": ".py",
   "mimetype": "text/x-python",
   "name": "python",
   "nbconvert_exporter": "python",
   "pygments_lexer": "ipython3",
   "version": "3.8.10"
  }
 },
 "nbformat": 4,
 "nbformat_minor": 5
}