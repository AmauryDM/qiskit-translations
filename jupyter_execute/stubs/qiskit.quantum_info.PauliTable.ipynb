{
 "cells": [
  {
   "cell_type": "code",
   "execution_count": 1,
   "id": "44c321ed",
   "metadata": {
    "execution": {
     "iopub.execute_input": "2021-07-28T13:27:22.697486Z",
     "iopub.status.busy": "2021-07-28T13:27:22.697039Z",
     "iopub.status.idle": "2021-07-28T13:27:23.504833Z",
     "shell.execute_reply": "2021-07-28T13:27:23.504312Z"
    }
   },
   "outputs": [
    {
     "name": "stdout",
     "output_type": "stream",
     "text": [
      "PauliTable: ['Y', 'Z', 'Z', 'Y']\n"
     ]
    }
   ],
   "source": [
    "from qiskit.quantum_info.operators import PauliTable\n",
    "\n",
    "current = PauliTable.from_labels(['I', 'X'])\n",
    "other =  PauliTable.from_labels(['Y', 'Z'])\n",
    "print(current.compose(other))"
   ]
  },
  {
   "cell_type": "code",
   "execution_count": 2,
   "id": "2c2e810d",
   "metadata": {
    "execution": {
     "iopub.execute_input": "2021-07-28T13:27:23.509342Z",
     "iopub.status.busy": "2021-07-28T13:27:23.508873Z",
     "iopub.status.idle": "2021-07-28T13:27:23.512181Z",
     "shell.execute_reply": "2021-07-28T13:27:23.511768Z"
    }
   },
   "outputs": [
    {
     "name": "stdout",
     "output_type": "stream",
     "text": [
      "PauliTable: ['Y', 'Z', 'Z', 'Y']\n"
     ]
    }
   ],
   "source": [
    "from qiskit.quantum_info.operators import PauliTable\n",
    "\n",
    "current = PauliTable.from_labels(['I', 'X'])\n",
    "other =  PauliTable.from_labels(['Y', 'Z'])\n",
    "print(current.dot(other))"
   ]
  },
  {
   "cell_type": "code",
   "execution_count": 3,
   "id": "1bb97c5e",
   "metadata": {
    "execution": {
     "iopub.execute_input": "2021-07-28T13:27:23.517192Z",
     "iopub.status.busy": "2021-07-28T13:27:23.516063Z",
     "iopub.status.idle": "2021-07-28T13:27:23.518712Z",
     "shell.execute_reply": "2021-07-28T13:27:23.518315Z"
    }
   },
   "outputs": [
    {
     "name": "stdout",
     "output_type": "stream",
     "text": [
      "PauliTable: ['YI', 'YX', 'ZI', 'ZX']\n"
     ]
    }
   ],
   "source": [
    "from qiskit.quantum_info.operators import PauliTable\n",
    "\n",
    "current = PauliTable.from_labels(['I', 'X'])\n",
    "other =  PauliTable.from_labels(['Y', 'Z'])\n",
    "print(current.expand(other))"
   ]
  },
  {
   "cell_type": "code",
   "execution_count": 4,
   "id": "e1b9575a",
   "metadata": {
    "execution": {
     "iopub.execute_input": "2021-07-28T13:27:23.524974Z",
     "iopub.status.busy": "2021-07-28T13:27:23.523666Z",
     "iopub.status.idle": "2021-07-28T13:27:23.526752Z",
     "shell.execute_reply": "2021-07-28T13:27:23.527127Z"
    }
   },
   "outputs": [
    {
     "name": "stdout",
     "output_type": "stream",
     "text": [
      "Initial Ordering\n",
      "PauliTable: ['XY', 'YX', 'YZ', 'XI', 'ZY', 'IY', 'IX', 'YY', 'XX', 'YI', 'ZX', 'ZZ', 'XZ', 'ZI', 'II', 'IZ']\n",
      "Lexicographically sorted\n",
      "PauliTable: ['II', 'IX', 'IY', 'IZ', 'XI', 'XX', 'XY', 'XZ', 'YI', 'YX', 'YY', 'YZ', 'ZI', 'ZX', 'ZY', 'ZZ']\n",
      "Weight sorted\n",
      "PauliTable: ['II', 'IX', 'IY', 'IZ', 'XI', 'YI', 'ZI', 'XX', 'XY', 'XZ', 'YX', 'YY', 'YZ', 'ZX', 'ZY', 'ZZ']\n"
     ]
    }
   ],
   "source": [
    "from numpy.random import shuffle\n",
    "from qiskit.quantum_info.operators import PauliTable\n",
    "\n",
    "# 2-qubit labels\n",
    "labels = ['II', 'IX', 'IY', 'IZ', 'XI', 'XX', 'XY', 'XZ',\n",
    "          'YI', 'YX', 'YY', 'YZ', 'ZI', 'ZX', 'ZY', 'ZZ']\n",
    "# Shuffle Labels\n",
    "shuffle(labels)\n",
    "pt = PauliTable.from_labels(labels)\n",
    "print('Initial Ordering')\n",
    "print(pt)\n",
    "\n",
    "# Lexicographic Ordering\n",
    "srt = pt.sort()\n",
    "print('Lexicographically sorted')\n",
    "print(srt)\n",
    "\n",
    "# Weight Ordering\n",
    "srt = pt.sort(weight=True)\n",
    "print('Weight sorted')\n",
    "print(srt)"
   ]
  },
  {
   "cell_type": "code",
   "execution_count": 5,
   "id": "8f7833a4",
   "metadata": {
    "execution": {
     "iopub.execute_input": "2021-07-28T13:27:23.531447Z",
     "iopub.status.busy": "2021-07-28T13:27:23.530948Z",
     "iopub.status.idle": "2021-07-28T13:27:23.532646Z",
     "shell.execute_reply": "2021-07-28T13:27:23.533014Z"
    }
   },
   "outputs": [
    {
     "name": "stdout",
     "output_type": "stream",
     "text": [
      "PauliTable: ['IY', 'IZ', 'XY', 'XZ']\n"
     ]
    }
   ],
   "source": [
    "from qiskit.quantum_info.operators import PauliTable\n",
    "\n",
    "current = PauliTable.from_labels(['I', 'X'])\n",
    "other =  PauliTable.from_labels(['Y', 'Z'])\n",
    "print(current.tensor(other))"
   ]
  },
  {
   "cell_type": "code",
   "execution_count": 6,
   "id": "04d30e52",
   "metadata": {
    "execution": {
     "iopub.execute_input": "2021-07-28T13:27:23.536965Z",
     "iopub.status.busy": "2021-07-28T13:27:23.536516Z",
     "iopub.status.idle": "2021-07-28T13:27:23.540150Z",
     "shell.execute_reply": "2021-07-28T13:27:23.539774Z"
    }
   },
   "outputs": [
    {
     "name": "stdout",
     "output_type": "stream",
     "text": [
      "PauliTable: ['X', 'Y', 'I', 'Z']\n"
     ]
    }
   ],
   "source": [
    "from qiskit.quantum_info.operators import PauliTable\n",
    "\n",
    "pt = PauliTable.from_labels(['X', 'Y', 'X', 'I', 'I', 'Z', 'X', 'Z'])\n",
    "unique = pt.unique()\n",
    "print(unique)"
   ]
  }
 ],
 "metadata": {
  "kernelspec": {
   "display_name": "Python 3 (ipykernel)",
   "language": "python",
   "name": "python3"
  },
  "language_info": {
   "codemirror_mode": {
    "name": "ipython",
    "version": 3
   },
   "file_extension": ".py",
   "mimetype": "text/x-python",
   "name": "python",
   "nbconvert_exporter": "python",
   "pygments_lexer": "ipython3",
   "version": "3.8.11"
  }
 },
 "nbformat": 4,
 "nbformat_minor": 5
}