{
 "cells": [
  {
   "cell_type": "code",
   "execution_count": 1,
   "id": "452d54e0",
   "metadata": {
    "execution": {
     "iopub.execute_input": "2021-06-23T21:10:32.333349Z",
     "iopub.status.busy": "2021-06-23T21:10:32.332312Z",
     "iopub.status.idle": "2021-06-23T21:10:32.998703Z",
     "shell.execute_reply": "2021-06-23T21:10:32.997294Z"
    }
   },
   "outputs": [],
   "source": [
    "from qiskit import pulse\n",
    "\n",
    "d0 = pulse.DriveChannel(0)\n",
    "\n",
    "with pulse.build() as pulse_prog:\n",
    "    pulse.set_frequency(1e9, d0)"
   ]
  }
 ],
 "metadata": {
  "kernelspec": {
   "display_name": "Python 3",
   "language": "python",
   "name": "python3"
  },
  "language_info": {
   "codemirror_mode": {
    "name": "ipython",
    "version": 3
   },
   "file_extension": ".py",
   "mimetype": "text/x-python",
   "name": "python",
   "nbconvert_exporter": "python",
   "pygments_lexer": "ipython3",
   "version": "3.8.10"
  }
 },
 "nbformat": 4,
 "nbformat_minor": 5
}