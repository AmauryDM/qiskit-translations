{
 "cells": [
  {
   "cell_type": "code",
   "execution_count": 1,
   "id": "3af2add2",
   "metadata": {
    "execution": {
     "iopub.execute_input": "2021-07-01T16:56:53.887137Z",
     "iopub.status.busy": "2021-07-01T16:56:53.886551Z",
     "iopub.status.idle": "2021-07-01T16:56:54.545345Z",
     "shell.execute_reply": "2021-07-01T16:56:54.545802Z"
    }
   },
   "outputs": [],
   "source": [
    "import math\n",
    "\n",
    "from qiskit import pulse\n",
    "\n",
    "d0 = pulse.DriveChannel(0)\n",
    "\n",
    "with pulse.build() as pulse_prog:\n",
    "    with pulse.phase_offset(math.pi, d0):\n",
    "        pulse.play(pulse.Constant(10, 1.0), d0)\n",
    "\n",
    "assert len(pulse_prog.instructions) == 3"
   ]
  }
 ],
 "metadata": {
  "kernelspec": {
   "display_name": "Python 3 (ipykernel)",
   "language": "python",
   "name": "python3"
  },
  "language_info": {
   "codemirror_mode": {
    "name": "ipython",
    "version": 3
   },
   "file_extension": ".py",
   "mimetype": "text/x-python",
   "name": "python",
   "nbconvert_exporter": "python",
   "pygments_lexer": "ipython3",
   "version": "3.8.10"
  }
 },
 "nbformat": 4,
 "nbformat_minor": 5
}