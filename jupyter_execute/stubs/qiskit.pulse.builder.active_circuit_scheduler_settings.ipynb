{
 "cells": [
  {
   "cell_type": "code",
   "execution_count": 1,
   "id": "b3212a69",
   "metadata": {
    "execution": {
     "iopub.execute_input": "2021-07-06T16:34:58.652772Z",
     "iopub.status.busy": "2021-07-06T16:34:58.652254Z",
     "iopub.status.idle": "2021-07-06T16:34:59.773798Z",
     "shell.execute_reply": "2021-07-06T16:34:59.773221Z"
    }
   },
   "outputs": [
    {
     "name": "stdout",
     "output_type": "stream",
     "text": [
      "{'method': 'alap'}\n"
     ]
    }
   ],
   "source": [
    "from qiskit import pulse\n",
    "from qiskit.test.mock import FakeOpenPulse2Q\n",
    "\n",
    "backend = FakeOpenPulse2Q()\n",
    "\n",
    "circuit_scheduler_settings = {'method': 'alap'}\n",
    "\n",
    "with pulse.build(\n",
    "        backend,\n",
    "        default_circuit_scheduler_settings=circuit_scheduler_settings):\n",
    "    print(pulse.active_circuit_scheduler_settings())"
   ]
  }
 ],
 "metadata": {
  "kernelspec": {
   "display_name": "Python 3 (ipykernel)",
   "language": "python",
   "name": "python3"
  },
  "language_info": {
   "codemirror_mode": {
    "name": "ipython",
    "version": 3
   },
   "file_extension": ".py",
   "mimetype": "text/x-python",
   "name": "python",
   "nbconvert_exporter": "python",
   "pygments_lexer": "ipython3",
   "version": "3.8.10"
  }
 },
 "nbformat": 4,
 "nbformat_minor": 5
}