{
 "cells": [
  {
   "cell_type": "code",
   "execution_count": 1,
   "id": "aafe668f",
   "metadata": {
    "execution": {
     "iopub.execute_input": "2021-07-09T21:15:54.695213Z",
     "iopub.status.busy": "2021-07-09T21:15:54.694753Z",
     "iopub.status.idle": "2021-07-09T21:15:55.700631Z",
     "shell.execute_reply": "2021-07-09T21:15:55.700103Z"
    }
   },
   "outputs": [
    {
     "name": "stdout",
     "output_type": "stream",
     "text": [
      "{ControlChannel(0), MeasureChannel(0), ControlChannel(1), DriveChannel(0), AcquireChannel(0)}\n"
     ]
    }
   ],
   "source": [
    "from qiskit import pulse\n",
    "from qiskit.test.mock import FakeOpenPulse2Q\n",
    "\n",
    "backend = FakeOpenPulse2Q()\n",
    "\n",
    "with pulse.build(backend):\n",
    "    print(pulse.qubit_channels(0))"
   ]
  }
 ],
 "metadata": {
  "kernelspec": {
   "display_name": "Python 3 (ipykernel)",
   "language": "python",
   "name": "python3"
  },
  "language_info": {
   "codemirror_mode": {
    "name": "ipython",
    "version": 3
   },
   "file_extension": ".py",
   "mimetype": "text/x-python",
   "name": "python",
   "nbconvert_exporter": "python",
   "pygments_lexer": "ipython3",
   "version": "3.8.10"
  }
 },
 "nbformat": 4,
 "nbformat_minor": 5
}