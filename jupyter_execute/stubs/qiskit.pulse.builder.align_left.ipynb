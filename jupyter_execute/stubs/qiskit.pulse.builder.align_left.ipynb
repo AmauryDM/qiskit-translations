{
 "cells": [
  {
   "cell_type": "code",
   "execution_count": 1,
   "id": "8d83c5d4",
   "metadata": {
    "execution": {
     "iopub.execute_input": "2021-07-01T16:56:05.957189Z",
     "iopub.status.busy": "2021-07-01T16:56:05.956096Z",
     "iopub.status.idle": "2021-07-01T16:56:06.646868Z",
     "shell.execute_reply": "2021-07-01T16:56:06.646208Z"
    }
   },
   "outputs": [],
   "source": [
    "from qiskit import pulse\n",
    "\n",
    "d0 = pulse.DriveChannel(0)\n",
    "d1 = pulse.DriveChannel(1)\n",
    "\n",
    "with pulse.build() as pulse_prog:\n",
    "    with pulse.align_left():\n",
    "        # this pulse will start at t=0\n",
    "        pulse.play(pulse.Constant(100, 1.0), d0)\n",
    "        # this pulse will start at t=0\n",
    "        pulse.play(pulse.Constant(20, 1.0), d1)\n",
    "\n",
    "assert pulse_prog.ch_start_time(d0) == pulse_prog.ch_start_time(d1)"
   ]
  }
 ],
 "metadata": {
  "kernelspec": {
   "display_name": "Python 3 (ipykernel)",
   "language": "python",
   "name": "python3"
  },
  "language_info": {
   "codemirror_mode": {
    "name": "ipython",
    "version": 3
   },
   "file_extension": ".py",
   "mimetype": "text/x-python",
   "name": "python",
   "nbconvert_exporter": "python",
   "pygments_lexer": "ipython3",
   "version": "3.8.10"
  }
 },
 "nbformat": 4,
 "nbformat_minor": 5
}