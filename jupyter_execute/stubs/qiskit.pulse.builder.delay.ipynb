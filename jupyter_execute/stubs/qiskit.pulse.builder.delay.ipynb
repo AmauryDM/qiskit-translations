{
 "cells": [
  {
   "cell_type": "code",
   "execution_count": 1,
   "id": "10a983c1",
   "metadata": {
    "execution": {
     "iopub.execute_input": "2021-06-24T10:08:17.942481Z",
     "iopub.status.busy": "2021-06-24T10:08:17.941952Z",
     "iopub.status.idle": "2021-06-24T10:08:18.650275Z",
     "shell.execute_reply": "2021-06-24T10:08:18.651078Z"
    }
   },
   "outputs": [],
   "source": [
    "from qiskit import pulse\n",
    "\n",
    "d0 = pulse.DriveChannel(0)\n",
    "\n",
    "with pulse.build() as pulse_prog:\n",
    "    pulse.delay(10, d0)"
   ]
  }
 ],
 "metadata": {
  "kernelspec": {
   "display_name": "Python 3",
   "language": "python",
   "name": "python3"
  },
  "language_info": {
   "codemirror_mode": {
    "name": "ipython",
    "version": 3
   },
   "file_extension": ".py",
   "mimetype": "text/x-python",
   "name": "python",
   "nbconvert_exporter": "python",
   "pygments_lexer": "ipython3",
   "version": "3.8.10"
  }
 },
 "nbformat": 4,
 "nbformat_minor": 5
}