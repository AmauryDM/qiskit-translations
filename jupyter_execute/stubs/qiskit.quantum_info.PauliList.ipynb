{
 "cells": [
  {
   "cell_type": "code",
   "execution_count": 1,
   "id": "de0d32be",
   "metadata": {
    "execution": {
     "iopub.execute_input": "2021-07-28T13:27:20.093380Z",
     "iopub.status.busy": "2021-07-28T13:27:20.092858Z",
     "iopub.status.idle": "2021-07-28T13:27:20.914233Z",
     "shell.execute_reply": "2021-07-28T13:27:20.913681Z"
    }
   },
   "outputs": [
    {
     "name": "stdout",
     "output_type": "stream",
     "text": [
      "1.  ['II', 'ZI', '-iYY']\n",
      "2.  ['iXI']\n",
      "3.  ['iXI', 'iZZ']\n",
      "4.  ['YZ', 'IX']\n"
     ]
    }
   ],
   "source": [
    "import numpy as np\n",
    "\n",
    "from qiskit.quantum_info import Pauli, PauliList\n",
    "\n",
    "# 1. init from list[str]\n",
    "pauli_list = PauliList([\"II\", \"+ZI\", \"-iYY\"])\n",
    "print(\"1. \", pauli_list)\n",
    "\n",
    "pauli1 = Pauli(\"iXI\")\n",
    "pauli2 = Pauli(\"iZZ\")\n",
    "\n",
    "# 2. init from Pauli\n",
    "print(\"2. \", PauliList(pauli1))\n",
    "\n",
    "# 3. init from list[Pauli]\n",
    "print(\"3. \", PauliList([pauli1, pauli2]))\n",
    "\n",
    "# 4. init from np.ndarray\n",
    "z = np.array([[True, True], [False, False]])\n",
    "x = np.array([[False, True], [True, False]])\n",
    "phase = np.array([0, 1])\n",
    "pauli_list = PauliList.from_symplectic(z, x)\n",
    "print(\"4. \", pauli_list)"
   ]
  },
  {
   "cell_type": "code",
   "execution_count": 2,
   "id": "b24b0ef2",
   "metadata": {
    "execution": {
     "iopub.execute_input": "2021-07-28T13:27:20.919381Z",
     "iopub.status.busy": "2021-07-28T13:27:20.918874Z",
     "iopub.status.idle": "2021-07-28T13:27:20.922494Z",
     "shell.execute_reply": "2021-07-28T13:27:20.922106Z"
    }
   },
   "outputs": [
    {
     "name": "stdout",
     "output_type": "stream",
     "text": [
      "Integer:  Pauli('ZZ')\n",
      "List:  PauliList(['XX', 'IZ'])\n",
      "Slice:  PauliList(['XX', 'ZZ'])\n"
     ]
    }
   ],
   "source": [
    "pauli_list = PauliList([\"XX\", \"ZZ\", \"IZ\"])\n",
    "print(\"Integer: \", repr(pauli_list[1]))\n",
    "print(\"List: \", repr(pauli_list[[0, 2]]))\n",
    "print(\"Slice: \", repr(pauli_list[0:2]))"
   ]
  },
  {
   "cell_type": "code",
   "execution_count": 3,
   "id": "fbf41f78",
   "metadata": {
    "execution": {
     "iopub.execute_input": "2021-07-28T13:27:20.930117Z",
     "iopub.status.busy": "2021-07-28T13:27:20.928215Z",
     "iopub.status.idle": "2021-07-28T13:27:20.932574Z",
     "shell.execute_reply": "2021-07-28T13:27:20.932109Z"
    }
   },
   "outputs": [
    {
     "name": "stdout",
     "output_type": "stream",
     "text": [
      "Initial Ordering\n",
      "['ZY', 'YX', 'YY', 'ZI', 'IZ', 'XY', 'ZZ', 'II', 'XX', 'XZ', 'XI', 'IY',\n",
      " 'IX', 'ZX', 'YI', 'YZ']\n",
      "Lexicographically sorted\n",
      "['II', 'IX', 'IY', 'IZ', 'XI', 'XX', 'XY', 'XZ', 'YI', 'YX', 'YY', 'YZ',\n",
      " 'ZI', 'ZX', 'ZY', 'ZZ']\n",
      "Weight sorted\n",
      "['II', 'IX', 'IY', 'IZ', 'XI', 'YI', 'ZI', 'XX', 'XY', 'XZ', 'YX', 'YY',\n",
      " 'YZ', 'ZX', 'ZY', 'ZZ']\n"
     ]
    }
   ],
   "source": [
    "from numpy.random import shuffle\n",
    "from qiskit.quantum_info.operators import PauliList\n",
    "\n",
    "# 2-qubit labels\n",
    "labels = ['II', 'IX', 'IY', 'IZ', 'XI', 'XX', 'XY', 'XZ',\n",
    "          'YI', 'YX', 'YY', 'YZ', 'ZI', 'ZX', 'ZY', 'ZZ']\n",
    "# Shuffle Labels\n",
    "shuffle(labels)\n",
    "pt = PauliList(labels)\n",
    "print('Initial Ordering')\n",
    "print(pt)\n",
    "\n",
    "# Lexicographic Ordering\n",
    "srt = pt.sort()\n",
    "print('Lexicographically sorted')\n",
    "print(srt)\n",
    "\n",
    "# Weight Ordering\n",
    "srt = pt.sort(weight=True)\n",
    "print('Weight sorted')\n",
    "print(srt)"
   ]
  },
  {
   "cell_type": "code",
   "execution_count": 4,
   "id": "0ff0f900",
   "metadata": {
    "execution": {
     "iopub.execute_input": "2021-07-28T13:27:20.938044Z",
     "iopub.status.busy": "2021-07-28T13:27:20.937036Z",
     "iopub.status.idle": "2021-07-28T13:27:20.939618Z",
     "shell.execute_reply": "2021-07-28T13:27:20.939180Z"
    }
   },
   "outputs": [
    {
     "name": "stdout",
     "output_type": "stream",
     "text": [
      "['X', 'Y', '-X', 'I', 'Z', 'iZ']\n"
     ]
    }
   ],
   "source": [
    "from qiskit.quantum_info.operators import PauliList\n",
    "\n",
    "pt = PauliList(['X', 'Y', '-X', 'I', 'I', 'Z', 'X', 'iZ'])\n",
    "unique = pt.unique()\n",
    "print(unique)"
   ]
  }
 ],
 "metadata": {
  "kernelspec": {
   "display_name": "Python 3 (ipykernel)",
   "language": "python",
   "name": "python3"
  },
  "language_info": {
   "codemirror_mode": {
    "name": "ipython",
    "version": 3
   },
   "file_extension": ".py",
   "mimetype": "text/x-python",
   "name": "python",
   "nbconvert_exporter": "python",
   "pygments_lexer": "ipython3",
   "version": "3.8.11"
  }
 },
 "nbformat": 4,
 "nbformat_minor": 5
}