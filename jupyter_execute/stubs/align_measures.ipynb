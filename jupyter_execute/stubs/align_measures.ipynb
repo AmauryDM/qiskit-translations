{
 "cells": [
  {
   "cell_type": "code",
   "execution_count": 1,
   "id": "f5d0c21c",
   "metadata": {
    "execution": {
     "iopub.execute_input": "2021-06-24T07:38:20.668431Z",
     "iopub.status.busy": "2021-06-24T07:38:20.667889Z",
     "iopub.status.idle": "2021-06-24T07:38:21.389715Z",
     "shell.execute_reply": "2021-06-24T07:38:21.389032Z"
    }
   },
   "outputs": [],
   "source": [
    "from qiskit import pulse\n",
    "from qiskit.pulse import transforms\n",
    "\n",
    "with pulse.build() as sched:\n",
    "    with pulse.align_sequential():\n",
    "        pulse.play(pulse.Constant(10, 0.5), pulse.DriveChannel(0))\n",
    "        pulse.play(pulse.Constant(10, 1.), pulse.MeasureChannel(0))\n",
    "        pulse.acquire(20, pulse.AcquireChannel(0), pulse.MemorySlot(0))\n",
    "\n",
    "sched_shifted = sched << 20\n",
    "\n",
    "aligned_sched, aligned_sched_shifted = transforms.align_measures([sched, sched_shifted])\n",
    "\n",
    "assert aligned_sched == aligned_sched_shifted"
   ]
  },
  {
   "cell_type": "code",
   "execution_count": 2,
   "id": "0658b400",
   "metadata": {
    "execution": {
     "iopub.execute_input": "2021-06-24T07:38:21.395327Z",
     "iopub.status.busy": "2021-06-24T07:38:21.394548Z",
     "iopub.status.idle": "2021-06-24T07:38:21.398102Z",
     "shell.execute_reply": "2021-06-24T07:38:21.398912Z"
    }
   },
   "outputs": [],
   "source": [
    "aligned_sched, aligned_sched_shifted = transforms.align_measures(\n",
    "    [sched, sched_shifted],\n",
    "    align_all=False,\n",
    ")\n",
    "\n",
    "assert aligned_sched != aligned_sched_shifted"
   ]
  }
 ],
 "metadata": {
  "kernelspec": {
   "display_name": "Python 3",
   "language": "python",
   "name": "python3"
  },
  "language_info": {
   "codemirror_mode": {
    "name": "ipython",
    "version": 3
   },
   "file_extension": ".py",
   "mimetype": "text/x-python",
   "name": "python",
   "nbconvert_exporter": "python",
   "pygments_lexer": "ipython3",
   "version": "3.8.10"
  }
 },
 "nbformat": 4,
 "nbformat_minor": 5
}