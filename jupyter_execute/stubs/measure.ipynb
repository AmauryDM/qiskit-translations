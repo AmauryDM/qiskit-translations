{
 "cells": [
  {
   "cell_type": "code",
   "execution_count": 1,
   "id": "6f16742c",
   "metadata": {
    "execution": {
     "iopub.execute_input": "2021-06-22T21:45:15.695789Z",
     "iopub.status.busy": "2021-06-22T21:45:15.695152Z",
     "iopub.status.idle": "2021-06-22T21:45:16.981707Z",
     "shell.execute_reply": "2021-06-22T21:45:16.981050Z"
    }
   },
   "outputs": [],
   "source": [
    "from qiskit import pulse\n",
    "from qiskit.test.mock import FakeOpenPulse2Q\n",
    "\n",
    "backend = FakeOpenPulse2Q()\n",
    "\n",
    "qubit = 0\n",
    "\n",
    "with pulse.build(backend) as pulse_prog:\n",
    "    # Do something to the qubit.\n",
    "    qubit_drive_chan = pulse.drive_channel(0)\n",
    "    pulse.play(pulse.Constant(100, 1.0), qubit_drive_chan)\n",
    "    # Measure the qubit.\n",
    "    reg = pulse.measure(qubit)"
   ]
  },
  {
   "cell_type": "code",
   "execution_count": 2,
   "id": "74b10f8a",
   "metadata": {
    "execution": {
     "iopub.execute_input": "2021-06-22T21:45:16.986959Z",
     "iopub.status.busy": "2021-06-22T21:45:16.986290Z",
     "iopub.status.idle": "2021-06-22T21:45:16.990690Z",
     "shell.execute_reply": "2021-06-22T21:45:16.990123Z"
    }
   },
   "outputs": [],
   "source": [
    "with pulse.build(backend) as pulse_prog:\n",
    "    pulse.play(pulse.Constant(100, 1.0), qubit_drive_chan)\n",
    "    # Measure the qubit.\n",
    "    mem0 = pulse.MemorySlot(0)\n",
    "    reg = pulse.measure(qubit, mem0)\n",
    "\n",
    "assert reg == mem0"
   ]
  }
 ],
 "metadata": {
  "kernelspec": {
   "display_name": "Python 3",
   "language": "python",
   "name": "python3"
  },
  "language_info": {
   "codemirror_mode": {
    "name": "ipython",
    "version": 3
   },
   "file_extension": ".py",
   "mimetype": "text/x-python",
   "name": "python",
   "nbconvert_exporter": "python",
   "pygments_lexer": "ipython3",
   "version": "3.8.10"
  }
 },
 "nbformat": 4,
 "nbformat_minor": 5
}