{
 "cells": [
  {
   "cell_type": "code",
   "execution_count": 1,
   "id": "9d43e7a7",
   "metadata": {
    "execution": {
     "iopub.execute_input": "2021-06-23T16:53:43.706370Z",
     "iopub.status.busy": "2021-06-23T16:53:43.705765Z",
     "iopub.status.idle": "2021-06-23T16:53:53.640653Z",
     "shell.execute_reply": "2021-06-23T16:53:53.640028Z"
    }
   },
   "outputs": [
    {
     "name": "stdout",
     "output_type": "stream",
     "text": [
      "{0: {'cx': 1.5234285714285714,\n",
      "     'id': 0.0,\n",
      "     'u1': 0.12,\n",
      "     'u2': 1.6605714285714286,\n",
      "     'u3': 0.18514285714285714},\n",
      " 1: {'cx': 1.5234285714285714,\n",
      "     'id': 0.0,\n",
      "     'u1': 0.144,\n",
      "     'u2': 1.6662857142857144,\n",
      "     'u3': 0.19085714285714286}}\n"
     ]
    }
   ],
   "source": [
    "import pprint\n",
    "import qiskit\n",
    "import qiskit.ignis.verification.randomized_benchmarking as rb\n",
    "from qiskit.test.mock.backends import FakeAlmaden\n",
    "\n",
    "rb_circs_list, xdata = rb.randomized_benchmarking_seq(\n",
    "    nseeds=5,\n",
    "    length_vector=[1, 20, 50, 100],\n",
    "    rb_pattern=[[0, 1]])\n",
    "basis = FakeAlmaden().configuration().basis_gates\n",
    "\n",
    "# transpile\n",
    "transpiled_circuits_list = []\n",
    "for rb_circs in rb_circs_list:\n",
    "    rb_circs_transpiled = qiskit.transpile(rb_circs, basis_gates=basis)\n",
    "    transpiled_circuits_list.append(rb_circs_transpiled)\n",
    "\n",
    "# count gate per Clifford\n",
    "ngates = rb.rb_utils.gates_per_clifford(\n",
    "    transpiled_circuits_list=transpiled_circuits_list,\n",
    "    clifford_lengths=xdata[0],\n",
    "    basis=basis, qubits=[0, 1])\n",
    "\n",
    "pprint.pprint(ngates)"
   ]
  }
 ],
 "metadata": {
  "kernelspec": {
   "display_name": "Python 3",
   "language": "python",
   "name": "python3"
  },
  "language_info": {
   "codemirror_mode": {
    "name": "ipython",
    "version": 3
   },
   "file_extension": ".py",
   "mimetype": "text/x-python",
   "name": "python",
   "nbconvert_exporter": "python",
   "pygments_lexer": "ipython3",
   "version": "3.8.10"
  }
 },
 "nbformat": 4,
 "nbformat_minor": 5
}