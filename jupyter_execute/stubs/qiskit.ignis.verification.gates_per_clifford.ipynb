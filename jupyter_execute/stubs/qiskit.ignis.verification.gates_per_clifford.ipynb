{
 "cells": [
  {
   "cell_type": "code",
   "execution_count": 1,
   "id": "746cc444",
   "metadata": {
    "execution": {
     "iopub.execute_input": "2021-06-24T07:35:04.744101Z",
     "iopub.status.busy": "2021-06-24T07:35:04.743305Z",
     "iopub.status.idle": "2021-06-24T07:35:14.118734Z",
     "shell.execute_reply": "2021-06-24T07:35:14.117185Z"
    }
   },
   "outputs": [
    {
     "name": "stdout",
     "output_type": "stream",
     "text": [
      "{0: {'cx': 1.5165714285714287,\n",
      "     'id': 0.0,\n",
      "     'u1': 0.11428571428571428,\n",
      "     'u2': 1.6697142857142857,\n",
      "     'u3': 0.17485714285714285},\n",
      " 1: {'cx': 1.5165714285714287,\n",
      "     'id': 0.0,\n",
      "     'u1': 0.15314285714285714,\n",
      "     'u2': 1.6514285714285715,\n",
      "     'u3': 0.14971428571428572}}\n"
     ]
    }
   ],
   "source": [
    "import pprint\n",
    "import qiskit\n",
    "import qiskit.ignis.verification.randomized_benchmarking as rb\n",
    "from qiskit.test.mock.backends import FakeAlmaden\n",
    "\n",
    "rb_circs_list, xdata = rb.randomized_benchmarking_seq(\n",
    "    nseeds=5,\n",
    "    length_vector=[1, 20, 50, 100],\n",
    "    rb_pattern=[[0, 1]])\n",
    "basis = FakeAlmaden().configuration().basis_gates\n",
    "\n",
    "# transpile\n",
    "transpiled_circuits_list = []\n",
    "for rb_circs in rb_circs_list:\n",
    "    rb_circs_transpiled = qiskit.transpile(rb_circs, basis_gates=basis)\n",
    "    transpiled_circuits_list.append(rb_circs_transpiled)\n",
    "\n",
    "# count gate per Clifford\n",
    "ngates = rb.rb_utils.gates_per_clifford(\n",
    "    transpiled_circuits_list=transpiled_circuits_list,\n",
    "    clifford_lengths=xdata[0],\n",
    "    basis=basis, qubits=[0, 1])\n",
    "\n",
    "pprint.pprint(ngates)"
   ]
  }
 ],
 "metadata": {
  "kernelspec": {
   "display_name": "Python 3",
   "language": "python",
   "name": "python3"
  },
  "language_info": {
   "codemirror_mode": {
    "name": "ipython",
    "version": 3
   },
   "file_extension": ".py",
   "mimetype": "text/x-python",
   "name": "python",
   "nbconvert_exporter": "python",
   "pygments_lexer": "ipython3",
   "version": "3.8.10"
  }
 },
 "nbformat": 4,
 "nbformat_minor": 5
}