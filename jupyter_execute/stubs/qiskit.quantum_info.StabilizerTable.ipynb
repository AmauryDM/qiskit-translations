{
 "cells": [
  {
   "cell_type": "code",
   "execution_count": 1,
   "id": "8c178609",
   "metadata": {
    "execution": {
     "iopub.execute_input": "2021-07-27T13:51:45.332078Z",
     "iopub.status.busy": "2021-07-27T13:51:45.331174Z",
     "iopub.status.idle": "2021-07-27T13:51:46.299861Z",
     "shell.execute_reply": "2021-07-27T13:51:46.299308Z"
    }
   },
   "outputs": [
    {
     "name": "stdout",
     "output_type": "stream",
     "text": [
      "StabilizerTable: ['+X', '-Z', '-I', '-Y']\n"
     ]
    }
   ],
   "source": [
    "from qiskit.quantum_info.operators import StabilizerTable\n",
    "\n",
    "current = StabilizerTable.from_labels(['+I', '-X'])\n",
    "other =  StabilizerTable.from_labels(['+X', '-Z'])\n",
    "print(current.compose(other))"
   ]
  },
  {
   "cell_type": "code",
   "execution_count": 2,
   "id": "afda5eb8",
   "metadata": {
    "execution": {
     "iopub.execute_input": "2021-07-27T13:51:46.305635Z",
     "iopub.status.busy": "2021-07-27T13:51:46.305083Z",
     "iopub.status.idle": "2021-07-27T13:51:46.307186Z",
     "shell.execute_reply": "2021-07-27T13:51:46.307613Z"
    }
   },
   "outputs": [
    {
     "name": "stdout",
     "output_type": "stream",
     "text": [
      "StabilizerTable: ['+X', '-Z', '-I', '+Y']\n"
     ]
    }
   ],
   "source": [
    "from qiskit.quantum_info.operators import StabilizerTable\n",
    "\n",
    "current = StabilizerTable.from_labels(['+I', '-X'])\n",
    "other =  StabilizerTable.from_labels(['+X', '-Z'])\n",
    "print(current.dot(other))"
   ]
  },
  {
   "cell_type": "code",
   "execution_count": 3,
   "id": "7cd1f67d",
   "metadata": {
    "execution": {
     "iopub.execute_input": "2021-07-27T13:51:46.313761Z",
     "iopub.status.busy": "2021-07-27T13:51:46.312344Z",
     "iopub.status.idle": "2021-07-27T13:51:46.315585Z",
     "shell.execute_reply": "2021-07-27T13:51:46.315126Z"
    }
   },
   "outputs": [
    {
     "name": "stdout",
     "output_type": "stream",
     "text": [
      "StabilizerTable: ['-YI', '+YX', '+ZI', '-ZX']\n"
     ]
    }
   ],
   "source": [
    "from qiskit.quantum_info.operators import StabilizerTable\n",
    "\n",
    "current = StabilizerTable.from_labels(['+I', '-X'])\n",
    "other =  StabilizerTable.from_labels(['-Y', '+Z'])\n",
    "print(current.expand(other))"
   ]
  },
  {
   "cell_type": "code",
   "execution_count": 4,
   "id": "44b9b0a0",
   "metadata": {
    "execution": {
     "iopub.execute_input": "2021-07-27T13:51:46.322232Z",
     "iopub.status.busy": "2021-07-27T13:51:46.321039Z",
     "iopub.status.idle": "2021-07-27T13:51:46.325908Z",
     "shell.execute_reply": "2021-07-27T13:51:46.325411Z"
    }
   },
   "outputs": [
    {
     "name": "stdout",
     "output_type": "stream",
     "text": [
      "Initial Ordering\n",
      "StabilizerTable: ['-IY', '-IX', '-ZZ', '+YX', '-XY', '-ZI', '-YX', '+XI', '+ZY', '-II', '-ZY', '+ZZ', '-YZ', '-ZX', '-IZ', '-XZ', '+ZI', '+XZ', '+IY', '+IX', '+YZ', '+II', '-YI', '+XY', '+XX', '+ZX', '-XI', '+IZ', '-XX', '-YY', '+YI', '+YY']\n",
      "Lexicographically sorted\n",
      "StabilizerTable: ['-II', '+II', '-IX', '+IX', '-IY', '+IY', '-IZ', '+IZ', '+XI', '-XI', '+XX', '-XX', '-XY', '+XY', '-XZ', '+XZ', '-YI', '+YI', '+YX', '-YX', '-YY', '+YY', '-YZ', '+YZ', '-ZI', '+ZI', '-ZX', '+ZX', '+ZY', '-ZY', '-ZZ', '+ZZ']\n",
      "Weight sorted\n",
      "StabilizerTable: ['-II', '+II', '-IX', '+IX', '-IY', '+IY', '-IZ', '+IZ', '+XI', '-XI', '-YI', '+YI', '-ZI', '+ZI', '+XX', '-XX', '-XY', '+XY', '-XZ', '+XZ', '+YX', '-YX', '-YY', '+YY', '-YZ', '+YZ', '-ZX', '+ZX', '+ZY', '-ZY', '-ZZ', '+ZZ']\n"
     ]
    }
   ],
   "source": [
    "from numpy.random import shuffle\n",
    "from qiskit.quantum_info.operators import StabilizerTable\n",
    "\n",
    "# 2-qubit labels\n",
    "labels = ['+II', '+IX', '+IY', '+IZ', '+XI', '+XX', '+XY', '+XZ',\n",
    "          '+YI', '+YX', '+YY', '+YZ', '+ZI', '+ZX', '+ZY', '+ZZ',\n",
    "          '-II', '-IX', '-IY', '-IZ', '-XI', '-XX', '-XY', '-XZ',\n",
    "          '-YI', '-YX', '-YY', '-YZ', '-ZI', '-ZX', '-ZY', '-ZZ']\n",
    "# Shuffle Labels\n",
    "shuffle(labels)\n",
    "st = StabilizerTable.from_labels(labels)\n",
    "print('Initial Ordering')\n",
    "print(st)\n",
    "\n",
    "# Lexicographic Ordering\n",
    "srt = st.sort()\n",
    "print('Lexicographically sorted')\n",
    "print(srt)\n",
    "\n",
    "# Weight Ordering\n",
    "srt = st.sort(weight=True)\n",
    "print('Weight sorted')\n",
    "print(srt)"
   ]
  },
  {
   "cell_type": "code",
   "execution_count": 5,
   "id": "3eb4b096",
   "metadata": {
    "execution": {
     "iopub.execute_input": "2021-07-27T13:51:46.330885Z",
     "iopub.status.busy": "2021-07-27T13:51:46.330300Z",
     "iopub.status.idle": "2021-07-27T13:51:46.332778Z",
     "shell.execute_reply": "2021-07-27T13:51:46.333197Z"
    }
   },
   "outputs": [
    {
     "name": "stdout",
     "output_type": "stream",
     "text": [
      "StabilizerTable: ['-IY', '+IZ', '+XY', '-XZ']\n"
     ]
    }
   ],
   "source": [
    "from qiskit.quantum_info.operators import StabilizerTable\n",
    "\n",
    "current = StabilizerTable.from_labels(['+I', '-X'])\n",
    "other =  StabilizerTable.from_labels(['-Y', '+Z'])\n",
    "print(current.tensor(other))"
   ]
  },
  {
   "cell_type": "code",
   "execution_count": 6,
   "id": "db3ee6ef",
   "metadata": {
    "execution": {
     "iopub.execute_input": "2021-07-27T13:51:46.338648Z",
     "iopub.status.busy": "2021-07-27T13:51:46.337688Z",
     "iopub.status.idle": "2021-07-27T13:51:46.340706Z",
     "shell.execute_reply": "2021-07-27T13:51:46.340271Z"
    }
   },
   "outputs": [
    {
     "name": "stdout",
     "output_type": "stream",
     "text": [
      "StabilizerTable: ['+X', '+I', '-I', '-X']\n"
     ]
    }
   ],
   "source": [
    "from qiskit.quantum_info.operators import StabilizerTable\n",
    "\n",
    "st = StabilizerTable.from_labels(['+X', '+I', '-I', '-X', '+X', '-X', '+I'])\n",
    "unique = st.unique()\n",
    "print(unique)"
   ]
  }
 ],
 "metadata": {
  "kernelspec": {
   "display_name": "Python 3 (ipykernel)",
   "language": "python",
   "name": "python3"
  },
  "language_info": {
   "codemirror_mode": {
    "name": "ipython",
    "version": 3
   },
   "file_extension": ".py",
   "mimetype": "text/x-python",
   "name": "python",
   "nbconvert_exporter": "python",
   "pygments_lexer": "ipython3",
   "version": "3.8.11"
  }
 },
 "nbformat": 4,
 "nbformat_minor": 5
}