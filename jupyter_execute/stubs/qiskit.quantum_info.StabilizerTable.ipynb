{
 "cells": [
  {
   "cell_type": "code",
   "execution_count": 1,
   "id": "35f28e06",
   "metadata": {
    "execution": {
     "iopub.execute_input": "2021-06-30T21:55:30.942601Z",
     "iopub.status.busy": "2021-06-30T21:55:30.942052Z",
     "iopub.status.idle": "2021-06-30T21:55:31.621769Z",
     "shell.execute_reply": "2021-06-30T21:55:31.621177Z"
    }
   },
   "outputs": [
    {
     "name": "stdout",
     "output_type": "stream",
     "text": [
      "StabilizerTable: ['+X', '-Z', '-I', '-Y']\n"
     ]
    }
   ],
   "source": [
    "from qiskit.quantum_info.operators import StabilizerTable\n",
    "\n",
    "current = StabilizerTable.from_labels(['+I', '-X'])\n",
    "other =  StabilizerTable.from_labels(['+X', '-Z'])\n",
    "print(current.compose(other))"
   ]
  },
  {
   "cell_type": "code",
   "execution_count": 2,
   "id": "a6c58785",
   "metadata": {
    "execution": {
     "iopub.execute_input": "2021-06-30T21:55:31.627176Z",
     "iopub.status.busy": "2021-06-30T21:55:31.626619Z",
     "iopub.status.idle": "2021-06-30T21:55:31.629978Z",
     "shell.execute_reply": "2021-06-30T21:55:31.629567Z"
    }
   },
   "outputs": [
    {
     "name": "stdout",
     "output_type": "stream",
     "text": [
      "StabilizerTable: ['+X', '-Z', '-I', '+Y']\n"
     ]
    }
   ],
   "source": [
    "from qiskit.quantum_info.operators import StabilizerTable\n",
    "\n",
    "current = StabilizerTable.from_labels(['+I', '-X'])\n",
    "other =  StabilizerTable.from_labels(['+X', '-Z'])\n",
    "print(current.dot(other))"
   ]
  },
  {
   "cell_type": "code",
   "execution_count": 3,
   "id": "f52e23e3",
   "metadata": {
    "execution": {
     "iopub.execute_input": "2021-06-30T21:55:31.632470Z",
     "iopub.status.busy": "2021-06-30T21:55:31.631921Z",
     "iopub.status.idle": "2021-06-30T21:55:31.637424Z",
     "shell.execute_reply": "2021-06-30T21:55:31.636988Z"
    }
   },
   "outputs": [
    {
     "name": "stdout",
     "output_type": "stream",
     "text": [
      "StabilizerTable: ['-YI', '+YX', '+ZI', '-ZX']\n"
     ]
    }
   ],
   "source": [
    "from qiskit.quantum_info.operators import StabilizerTable\n",
    "\n",
    "current = StabilizerTable.from_labels(['+I', '-X'])\n",
    "other =  StabilizerTable.from_labels(['-Y', '+Z'])\n",
    "print(current.expand(other))"
   ]
  },
  {
   "cell_type": "code",
   "execution_count": 4,
   "id": "d0f8efa9",
   "metadata": {
    "execution": {
     "iopub.execute_input": "2021-06-30T21:55:31.644103Z",
     "iopub.status.busy": "2021-06-30T21:55:31.643004Z",
     "iopub.status.idle": "2021-06-30T21:55:31.649229Z",
     "shell.execute_reply": "2021-06-30T21:55:31.648749Z"
    }
   },
   "outputs": [
    {
     "name": "stdout",
     "output_type": "stream",
     "text": [
      "Initial Ordering\n",
      "StabilizerTable: ['+YI', '+IY', '+XX', '-ZX', '-ZZ', '-ZI', '+YZ', '+ZZ', '+YY', '-XY', '-YY', '+YX', '+XI', '-XZ', '-IX', '-IY', '+XY', '-YX', '-II', '+XZ', '+II', '-YI', '+ZX', '-XI', '-IZ', '+IX', '-YZ', '+ZI', '-XX', '+IZ', '+ZY', '-ZY']\n",
      "Lexicographically sorted\n",
      "StabilizerTable: ['-II', '+II', '-IX', '+IX', '+IY', '-IY', '-IZ', '+IZ', '+XI', '-XI', '+XX', '-XX', '-XY', '+XY', '-XZ', '+XZ', '+YI', '-YI', '+YX', '-YX', '+YY', '-YY', '+YZ', '-YZ', '-ZI', '+ZI', '-ZX', '+ZX', '+ZY', '-ZY', '-ZZ', '+ZZ']\n",
      "Weight sorted\n",
      "StabilizerTable: ['-II', '+II', '-IX', '+IX', '+IY', '-IY', '-IZ', '+IZ', '+XI', '-XI', '+YI', '-YI', '-ZI', '+ZI', '+XX', '-XX', '-XY', '+XY', '-XZ', '+XZ', '+YX', '-YX', '+YY', '-YY', '+YZ', '-YZ', '-ZX', '+ZX', '+ZY', '-ZY', '-ZZ', '+ZZ']\n"
     ]
    }
   ],
   "source": [
    "from numpy.random import shuffle\n",
    "from qiskit.quantum_info.operators import StabilizerTable\n",
    "\n",
    "# 2-qubit labels\n",
    "labels = ['+II', '+IX', '+IY', '+IZ', '+XI', '+XX', '+XY', '+XZ',\n",
    "          '+YI', '+YX', '+YY', '+YZ', '+ZI', '+ZX', '+ZY', '+ZZ',\n",
    "          '-II', '-IX', '-IY', '-IZ', '-XI', '-XX', '-XY', '-XZ',\n",
    "          '-YI', '-YX', '-YY', '-YZ', '-ZI', '-ZX', '-ZY', '-ZZ']\n",
    "# Shuffle Labels\n",
    "shuffle(labels)\n",
    "st = StabilizerTable.from_labels(labels)\n",
    "print('Initial Ordering')\n",
    "print(st)\n",
    "\n",
    "# Lexicographic Ordering\n",
    "srt = st.sort()\n",
    "print('Lexicographically sorted')\n",
    "print(srt)\n",
    "\n",
    "# Weight Ordering\n",
    "srt = st.sort(weight=True)\n",
    "print('Weight sorted')\n",
    "print(srt)"
   ]
  },
  {
   "cell_type": "code",
   "execution_count": 5,
   "id": "bc5aea4d",
   "metadata": {
    "execution": {
     "iopub.execute_input": "2021-06-30T21:55:31.653894Z",
     "iopub.status.busy": "2021-06-30T21:55:31.653410Z",
     "iopub.status.idle": "2021-06-30T21:55:31.657512Z",
     "shell.execute_reply": "2021-06-30T21:55:31.657056Z"
    }
   },
   "outputs": [
    {
     "name": "stdout",
     "output_type": "stream",
     "text": [
      "StabilizerTable: ['-IY', '+IZ', '+XY', '-XZ']\n"
     ]
    }
   ],
   "source": [
    "from qiskit.quantum_info.operators import StabilizerTable\n",
    "\n",
    "current = StabilizerTable.from_labels(['+I', '-X'])\n",
    "other =  StabilizerTable.from_labels(['-Y', '+Z'])\n",
    "print(current.tensor(other))"
   ]
  },
  {
   "cell_type": "code",
   "execution_count": 6,
   "id": "c9a15a64",
   "metadata": {
    "execution": {
     "iopub.execute_input": "2021-06-30T21:55:31.661502Z",
     "iopub.status.busy": "2021-06-30T21:55:31.659626Z",
     "iopub.status.idle": "2021-06-30T21:55:31.664466Z",
     "shell.execute_reply": "2021-06-30T21:55:31.664872Z"
    }
   },
   "outputs": [
    {
     "name": "stdout",
     "output_type": "stream",
     "text": [
      "StabilizerTable: ['+X', '+I', '-I', '-X']\n"
     ]
    }
   ],
   "source": [
    "from qiskit.quantum_info.operators import StabilizerTable\n",
    "\n",
    "st = StabilizerTable.from_labels(['+X', '+I', '-I', '-X', '+X', '-X', '+I'])\n",
    "unique = st.unique()\n",
    "print(unique)"
   ]
  }
 ],
 "metadata": {
  "kernelspec": {
   "display_name": "Python 3 (ipykernel)",
   "language": "python",
   "name": "python3"
  },
  "language_info": {
   "codemirror_mode": {
    "name": "ipython",
    "version": 3
   },
   "file_extension": ".py",
   "mimetype": "text/x-python",
   "name": "python",
   "nbconvert_exporter": "python",
   "pygments_lexer": "ipython3",
   "version": "3.8.10"
  }
 },
 "nbformat": 4,
 "nbformat_minor": 5
}