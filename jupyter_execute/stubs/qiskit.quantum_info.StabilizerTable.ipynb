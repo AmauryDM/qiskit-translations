{
 "cells": [
  {
   "cell_type": "code",
   "execution_count": 1,
   "id": "0b456e72",
   "metadata": {
    "execution": {
     "iopub.execute_input": "2021-06-24T10:09:36.973238Z",
     "iopub.status.busy": "2021-06-24T10:09:36.972717Z",
     "iopub.status.idle": "2021-06-24T10:09:37.653013Z",
     "shell.execute_reply": "2021-06-24T10:09:37.652158Z"
    }
   },
   "outputs": [
    {
     "name": "stdout",
     "output_type": "stream",
     "text": [
      "StabilizerTable: ['+X', '-Z', '-I', '-Y']\n"
     ]
    }
   ],
   "source": [
    "from qiskit.quantum_info.operators import StabilizerTable\n",
    "\n",
    "current = StabilizerTable.from_labels(['+I', '-X'])\n",
    "other =  StabilizerTable.from_labels(['+X', '-Z'])\n",
    "print(current.compose(other))"
   ]
  },
  {
   "cell_type": "code",
   "execution_count": 2,
   "id": "335db853",
   "metadata": {
    "execution": {
     "iopub.execute_input": "2021-06-24T10:09:37.658401Z",
     "iopub.status.busy": "2021-06-24T10:09:37.657861Z",
     "iopub.status.idle": "2021-06-24T10:09:37.661309Z",
     "shell.execute_reply": "2021-06-24T10:09:37.660772Z"
    }
   },
   "outputs": [
    {
     "name": "stdout",
     "output_type": "stream",
     "text": [
      "StabilizerTable: ['+X', '-Z', '-I', '+Y']\n"
     ]
    }
   ],
   "source": [
    "from qiskit.quantum_info.operators import StabilizerTable\n",
    "\n",
    "current = StabilizerTable.from_labels(['+I', '-X'])\n",
    "other =  StabilizerTable.from_labels(['+X', '-Z'])\n",
    "print(current.dot(other))"
   ]
  },
  {
   "cell_type": "code",
   "execution_count": 3,
   "id": "6890f389",
   "metadata": {
    "execution": {
     "iopub.execute_input": "2021-06-24T10:09:37.666941Z",
     "iopub.status.busy": "2021-06-24T10:09:37.665616Z",
     "iopub.status.idle": "2021-06-24T10:09:37.668688Z",
     "shell.execute_reply": "2021-06-24T10:09:37.668209Z"
    }
   },
   "outputs": [
    {
     "name": "stdout",
     "output_type": "stream",
     "text": [
      "StabilizerTable: ['-YI', '+YX', '+ZI', '-ZX']\n"
     ]
    }
   ],
   "source": [
    "from qiskit.quantum_info.operators import StabilizerTable\n",
    "\n",
    "current = StabilizerTable.from_labels(['+I', '-X'])\n",
    "other =  StabilizerTable.from_labels(['-Y', '+Z'])\n",
    "print(current.expand(other))"
   ]
  },
  {
   "cell_type": "code",
   "execution_count": 4,
   "id": "44e8e569",
   "metadata": {
    "execution": {
     "iopub.execute_input": "2021-06-24T10:09:37.676586Z",
     "iopub.status.busy": "2021-06-24T10:09:37.674663Z",
     "iopub.status.idle": "2021-06-24T10:09:37.679025Z",
     "shell.execute_reply": "2021-06-24T10:09:37.678589Z"
    }
   },
   "outputs": [
    {
     "name": "stdout",
     "output_type": "stream",
     "text": [
      "Initial Ordering\n",
      "StabilizerTable: ['+XI', '+XY', '-ZZ', '+XX', '+II', '-YY', '+YI', '+YY', '-YX', '+ZI', '-YZ', '+IX', '-IZ', '+ZY', '-YI', '+ZX', '-ZX', '+YZ', '+XZ', '+YX', '-II', '-IX', '+IY', '-IY', '-ZI', '+IZ', '-XX', '-XY', '+ZZ', '-XI', '-ZY', '-XZ']\n",
      "Lexicographically sorted\n",
      "StabilizerTable: ['+II', '-II', '+IX', '-IX', '+IY', '-IY', '-IZ', '+IZ', '+XI', '-XI', '+XX', '-XX', '+XY', '-XY', '+XZ', '-XZ', '+YI', '-YI', '-YX', '+YX', '-YY', '+YY', '-YZ', '+YZ', '+ZI', '-ZI', '+ZX', '-ZX', '+ZY', '-ZY', '-ZZ', '+ZZ']\n",
      "Weight sorted\n",
      "StabilizerTable: ['+II', '-II', '+IX', '-IX', '+IY', '-IY', '-IZ', '+IZ', '+XI', '-XI', '+YI', '-YI', '+ZI', '-ZI', '+XX', '-XX', '+XY', '-XY', '+XZ', '-XZ', '-YX', '+YX', '-YY', '+YY', '-YZ', '+YZ', '+ZX', '-ZX', '+ZY', '-ZY', '-ZZ', '+ZZ']\n"
     ]
    }
   ],
   "source": [
    "from numpy.random import shuffle\n",
    "from qiskit.quantum_info.operators import StabilizerTable\n",
    "\n",
    "# 2-qubit labels\n",
    "labels = ['+II', '+IX', '+IY', '+IZ', '+XI', '+XX', '+XY', '+XZ',\n",
    "          '+YI', '+YX', '+YY', '+YZ', '+ZI', '+ZX', '+ZY', '+ZZ',\n",
    "          '-II', '-IX', '-IY', '-IZ', '-XI', '-XX', '-XY', '-XZ',\n",
    "          '-YI', '-YX', '-YY', '-YZ', '-ZI', '-ZX', '-ZY', '-ZZ']\n",
    "# Shuffle Labels\n",
    "shuffle(labels)\n",
    "st = StabilizerTable.from_labels(labels)\n",
    "print('Initial Ordering')\n",
    "print(st)\n",
    "\n",
    "# Lexicographic Ordering\n",
    "srt = st.sort()\n",
    "print('Lexicographically sorted')\n",
    "print(srt)\n",
    "\n",
    "# Weight Ordering\n",
    "srt = st.sort(weight=True)\n",
    "print('Weight sorted')\n",
    "print(srt)"
   ]
  },
  {
   "cell_type": "code",
   "execution_count": 5,
   "id": "34d17b5b",
   "metadata": {
    "execution": {
     "iopub.execute_input": "2021-06-24T10:09:37.683766Z",
     "iopub.status.busy": "2021-06-24T10:09:37.683226Z",
     "iopub.status.idle": "2021-06-24T10:09:37.685809Z",
     "shell.execute_reply": "2021-06-24T10:09:37.686252Z"
    }
   },
   "outputs": [
    {
     "name": "stdout",
     "output_type": "stream",
     "text": [
      "StabilizerTable: ['-IY', '+IZ', '+XY', '-XZ']\n"
     ]
    }
   ],
   "source": [
    "from qiskit.quantum_info.operators import StabilizerTable\n",
    "\n",
    "current = StabilizerTable.from_labels(['+I', '-X'])\n",
    "other =  StabilizerTable.from_labels(['-Y', '+Z'])\n",
    "print(current.tensor(other))"
   ]
  },
  {
   "cell_type": "code",
   "execution_count": 6,
   "id": "0c25aef6",
   "metadata": {
    "execution": {
     "iopub.execute_input": "2021-06-24T10:09:37.692360Z",
     "iopub.status.busy": "2021-06-24T10:09:37.691057Z",
     "iopub.status.idle": "2021-06-24T10:09:37.694077Z",
     "shell.execute_reply": "2021-06-24T10:09:37.693616Z"
    }
   },
   "outputs": [
    {
     "name": "stdout",
     "output_type": "stream",
     "text": [
      "StabilizerTable: ['+X', '+I', '-I', '-X']\n"
     ]
    }
   ],
   "source": [
    "from qiskit.quantum_info.operators import StabilizerTable\n",
    "\n",
    "st = StabilizerTable.from_labels(['+X', '+I', '-I', '-X', '+X', '-X', '+I'])\n",
    "unique = st.unique()\n",
    "print(unique)"
   ]
  }
 ],
 "metadata": {
  "kernelspec": {
   "display_name": "Python 3",
   "language": "python",
   "name": "python3"
  },
  "language_info": {
   "codemirror_mode": {
    "name": "ipython",
    "version": 3
   },
   "file_extension": ".py",
   "mimetype": "text/x-python",
   "name": "python",
   "nbconvert_exporter": "python",
   "pygments_lexer": "ipython3",
   "version": "3.8.10"
  }
 },
 "nbformat": 4,
 "nbformat_minor": 5
}