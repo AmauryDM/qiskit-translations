{
 "cells": [
  {
   "cell_type": "code",
   "execution_count": 1,
   "id": "ae6eaac2",
   "metadata": {
    "execution": {
     "iopub.execute_input": "2021-07-06T16:37:11.956567Z",
     "iopub.status.busy": "2021-07-06T16:37:11.956088Z",
     "iopub.status.idle": "2021-07-06T16:37:12.598449Z",
     "shell.execute_reply": "2021-07-06T16:37:12.597783Z"
    }
   },
   "outputs": [
    {
     "name": "stdout",
     "output_type": "stream",
     "text": [
      "StabilizerTable: ['+X', '-Z', '-I', '-Y']\n"
     ]
    }
   ],
   "source": [
    "from qiskit.quantum_info.operators import StabilizerTable\n",
    "\n",
    "current = StabilizerTable.from_labels(['+I', '-X'])\n",
    "other =  StabilizerTable.from_labels(['+X', '-Z'])\n",
    "print(current.compose(other))"
   ]
  },
  {
   "cell_type": "code",
   "execution_count": 2,
   "id": "c3669c17",
   "metadata": {
    "execution": {
     "iopub.execute_input": "2021-07-06T16:37:12.604214Z",
     "iopub.status.busy": "2021-07-06T16:37:12.602512Z",
     "iopub.status.idle": "2021-07-06T16:37:12.607763Z",
     "shell.execute_reply": "2021-07-06T16:37:12.608153Z"
    }
   },
   "outputs": [
    {
     "name": "stdout",
     "output_type": "stream",
     "text": [
      "StabilizerTable: ['+X', '-Z', '-I', '+Y']\n"
     ]
    }
   ],
   "source": [
    "from qiskit.quantum_info.operators import StabilizerTable\n",
    "\n",
    "current = StabilizerTable.from_labels(['+I', '-X'])\n",
    "other =  StabilizerTable.from_labels(['+X', '-Z'])\n",
    "print(current.dot(other))"
   ]
  },
  {
   "cell_type": "code",
   "execution_count": 3,
   "id": "05beb15f",
   "metadata": {
    "execution": {
     "iopub.execute_input": "2021-07-06T16:37:12.613069Z",
     "iopub.status.busy": "2021-07-06T16:37:12.611985Z",
     "iopub.status.idle": "2021-07-06T16:37:12.617047Z",
     "shell.execute_reply": "2021-07-06T16:37:12.616575Z"
    }
   },
   "outputs": [
    {
     "name": "stdout",
     "output_type": "stream",
     "text": [
      "StabilizerTable: ['-YI', '+YX', '+ZI', '-ZX']\n"
     ]
    }
   ],
   "source": [
    "from qiskit.quantum_info.operators import StabilizerTable\n",
    "\n",
    "current = StabilizerTable.from_labels(['+I', '-X'])\n",
    "other =  StabilizerTable.from_labels(['-Y', '+Z'])\n",
    "print(current.expand(other))"
   ]
  },
  {
   "cell_type": "code",
   "execution_count": 4,
   "id": "ae64ea70",
   "metadata": {
    "execution": {
     "iopub.execute_input": "2021-07-06T16:37:12.624025Z",
     "iopub.status.busy": "2021-07-06T16:37:12.622667Z",
     "iopub.status.idle": "2021-07-06T16:37:12.629518Z",
     "shell.execute_reply": "2021-07-06T16:37:12.629032Z"
    }
   },
   "outputs": [
    {
     "name": "stdout",
     "output_type": "stream",
     "text": [
      "Initial Ordering\n",
      "StabilizerTable: ['+II', '+XI', '-XY', '-IY', '+YX', '-ZY', '-XX', '-YY', '-XZ', '-YZ', '-ZX', '+IX', '-IZ', '-ZI', '+ZZ', '+XX', '+YI', '-IX', '-XI', '-YX', '+ZI', '-YI', '+IY', '+YY', '+XZ', '+XY', '+ZX', '+YZ', '+ZY', '-ZZ', '+IZ', '-II']\n",
      "Lexicographically sorted\n",
      "StabilizerTable: ['+II', '-II', '+IX', '-IX', '-IY', '+IY', '-IZ', '+IZ', '+XI', '-XI', '-XX', '+XX', '-XY', '+XY', '-XZ', '+XZ', '+YI', '-YI', '+YX', '-YX', '-YY', '+YY', '-YZ', '+YZ', '-ZI', '+ZI', '-ZX', '+ZX', '-ZY', '+ZY', '+ZZ', '-ZZ']\n",
      "Weight sorted\n",
      "StabilizerTable: ['+II', '-II', '+IX', '-IX', '-IY', '+IY', '-IZ', '+IZ', '+XI', '-XI', '+YI', '-YI', '-ZI', '+ZI', '-XX', '+XX', '-XY', '+XY', '-XZ', '+XZ', '+YX', '-YX', '-YY', '+YY', '-YZ', '+YZ', '-ZX', '+ZX', '-ZY', '+ZY', '+ZZ', '-ZZ']\n"
     ]
    }
   ],
   "source": [
    "from numpy.random import shuffle\n",
    "from qiskit.quantum_info.operators import StabilizerTable\n",
    "\n",
    "# 2-qubit labels\n",
    "labels = ['+II', '+IX', '+IY', '+IZ', '+XI', '+XX', '+XY', '+XZ',\n",
    "          '+YI', '+YX', '+YY', '+YZ', '+ZI', '+ZX', '+ZY', '+ZZ',\n",
    "          '-II', '-IX', '-IY', '-IZ', '-XI', '-XX', '-XY', '-XZ',\n",
    "          '-YI', '-YX', '-YY', '-YZ', '-ZI', '-ZX', '-ZY', '-ZZ']\n",
    "# Shuffle Labels\n",
    "shuffle(labels)\n",
    "st = StabilizerTable.from_labels(labels)\n",
    "print('Initial Ordering')\n",
    "print(st)\n",
    "\n",
    "# Lexicographic Ordering\n",
    "srt = st.sort()\n",
    "print('Lexicographically sorted')\n",
    "print(srt)\n",
    "\n",
    "# Weight Ordering\n",
    "srt = st.sort(weight=True)\n",
    "print('Weight sorted')\n",
    "print(srt)"
   ]
  },
  {
   "cell_type": "code",
   "execution_count": 5,
   "id": "3acdea51",
   "metadata": {
    "execution": {
     "iopub.execute_input": "2021-07-06T16:37:12.634156Z",
     "iopub.status.busy": "2021-07-06T16:37:12.631376Z",
     "iopub.status.idle": "2021-07-06T16:37:12.637822Z",
     "shell.execute_reply": "2021-07-06T16:37:12.637371Z"
    }
   },
   "outputs": [
    {
     "name": "stdout",
     "output_type": "stream",
     "text": [
      "StabilizerTable: ['-IY', '+IZ', '+XY', '-XZ']\n"
     ]
    }
   ],
   "source": [
    "from qiskit.quantum_info.operators import StabilizerTable\n",
    "\n",
    "current = StabilizerTable.from_labels(['+I', '-X'])\n",
    "other =  StabilizerTable.from_labels(['-Y', '+Z'])\n",
    "print(current.tensor(other))"
   ]
  },
  {
   "cell_type": "code",
   "execution_count": 6,
   "id": "f4e85cf6",
   "metadata": {
    "execution": {
     "iopub.execute_input": "2021-07-06T16:37:12.641937Z",
     "iopub.status.busy": "2021-07-06T16:37:12.641017Z",
     "iopub.status.idle": "2021-07-06T16:37:12.645709Z",
     "shell.execute_reply": "2021-07-06T16:37:12.645272Z"
    }
   },
   "outputs": [
    {
     "name": "stdout",
     "output_type": "stream",
     "text": [
      "StabilizerTable: ['+X', '+I', '-I', '-X']\n"
     ]
    }
   ],
   "source": [
    "from qiskit.quantum_info.operators import StabilizerTable\n",
    "\n",
    "st = StabilizerTable.from_labels(['+X', '+I', '-I', '-X', '+X', '-X', '+I'])\n",
    "unique = st.unique()\n",
    "print(unique)"
   ]
  }
 ],
 "metadata": {
  "kernelspec": {
   "display_name": "Python 3 (ipykernel)",
   "language": "python",
   "name": "python3"
  },
  "language_info": {
   "codemirror_mode": {
    "name": "ipython",
    "version": 3
   },
   "file_extension": ".py",
   "mimetype": "text/x-python",
   "name": "python",
   "nbconvert_exporter": "python",
   "pygments_lexer": "ipython3",
   "version": "3.8.10"
  }
 },
 "nbformat": 4,
 "nbformat_minor": 5
}