{
 "cells": [
  {
   "cell_type": "code",
   "execution_count": 1,
   "id": "ee2003f4",
   "metadata": {
    "execution": {
     "iopub.execute_input": "2021-06-24T16:42:47.043769Z",
     "iopub.status.busy": "2021-06-24T16:42:47.043123Z",
     "iopub.status.idle": "2021-06-24T16:42:47.753661Z",
     "shell.execute_reply": "2021-06-24T16:42:47.754330Z"
    }
   },
   "outputs": [
    {
     "name": "stdout",
     "output_type": "stream",
     "text": [
      "StabilizerTable: ['+X', '-Z', '-I', '-Y']\n"
     ]
    }
   ],
   "source": [
    "from qiskit.quantum_info.operators import StabilizerTable\n",
    "\n",
    "current = StabilizerTable.from_labels(['+I', '-X'])\n",
    "other =  StabilizerTable.from_labels(['+X', '-Z'])\n",
    "print(current.compose(other))"
   ]
  },
  {
   "cell_type": "code",
   "execution_count": 2,
   "id": "4dd3400f",
   "metadata": {
    "execution": {
     "iopub.execute_input": "2021-06-24T16:42:47.759842Z",
     "iopub.status.busy": "2021-06-24T16:42:47.759295Z",
     "iopub.status.idle": "2021-06-24T16:42:47.762845Z",
     "shell.execute_reply": "2021-06-24T16:42:47.763407Z"
    }
   },
   "outputs": [
    {
     "name": "stdout",
     "output_type": "stream",
     "text": [
      "StabilizerTable: ['+X', '-Z', '-I', '+Y']\n"
     ]
    }
   ],
   "source": [
    "from qiskit.quantum_info.operators import StabilizerTable\n",
    "\n",
    "current = StabilizerTable.from_labels(['+I', '-X'])\n",
    "other =  StabilizerTable.from_labels(['+X', '-Z'])\n",
    "print(current.dot(other))"
   ]
  },
  {
   "cell_type": "code",
   "execution_count": 3,
   "id": "93e333c9",
   "metadata": {
    "execution": {
     "iopub.execute_input": "2021-06-24T16:42:47.768261Z",
     "iopub.status.busy": "2021-06-24T16:42:47.767708Z",
     "iopub.status.idle": "2021-06-24T16:42:47.769816Z",
     "shell.execute_reply": "2021-06-24T16:42:47.770536Z"
    }
   },
   "outputs": [
    {
     "name": "stdout",
     "output_type": "stream",
     "text": [
      "StabilizerTable: ['-YI', '+YX', '+ZI', '-ZX']\n"
     ]
    }
   ],
   "source": [
    "from qiskit.quantum_info.operators import StabilizerTable\n",
    "\n",
    "current = StabilizerTable.from_labels(['+I', '-X'])\n",
    "other =  StabilizerTable.from_labels(['-Y', '+Z'])\n",
    "print(current.expand(other))"
   ]
  },
  {
   "cell_type": "code",
   "execution_count": 4,
   "id": "94e46ed7",
   "metadata": {
    "execution": {
     "iopub.execute_input": "2021-06-24T16:42:47.777107Z",
     "iopub.status.busy": "2021-06-24T16:42:47.776147Z",
     "iopub.status.idle": "2021-06-24T16:42:47.781853Z",
     "shell.execute_reply": "2021-06-24T16:42:47.781283Z"
    }
   },
   "outputs": [
    {
     "name": "stdout",
     "output_type": "stream",
     "text": [
      "Initial Ordering\n",
      "StabilizerTable: ['+XI', '+XY', '+IX', '-IY', '+ZI', '+IZ', '+ZZ', '+XX', '+YI', '-XI', '+XZ', '-XY', '+IY', '+ZX', '-ZY', '+II', '-ZI', '-YY', '-YX', '-YZ', '-IZ', '-YI', '-XZ', '-ZZ', '+YZ', '-ZX', '-IX', '+YX', '+YY', '-II', '+ZY', '-XX']\n",
      "Lexicographically sorted\n",
      "StabilizerTable: ['+II', '-II', '+IX', '-IX', '-IY', '+IY', '+IZ', '-IZ', '+XI', '-XI', '+XX', '-XX', '+XY', '-XY', '+XZ', '-XZ', '+YI', '-YI', '-YX', '+YX', '-YY', '+YY', '-YZ', '+YZ', '+ZI', '-ZI', '+ZX', '-ZX', '-ZY', '+ZY', '+ZZ', '-ZZ']\n",
      "Weight sorted\n",
      "StabilizerTable: ['+II', '-II', '+IX', '-IX', '-IY', '+IY', '+IZ', '-IZ', '+XI', '-XI', '+YI', '-YI', '+ZI', '-ZI', '+XX', '-XX', '+XY', '-XY', '+XZ', '-XZ', '-YX', '+YX', '-YY', '+YY', '-YZ', '+YZ', '+ZX', '-ZX', '-ZY', '+ZY', '+ZZ', '-ZZ']\n"
     ]
    }
   ],
   "source": [
    "from numpy.random import shuffle\n",
    "from qiskit.quantum_info.operators import StabilizerTable\n",
    "\n",
    "# 2-qubit labels\n",
    "labels = ['+II', '+IX', '+IY', '+IZ', '+XI', '+XX', '+XY', '+XZ',\n",
    "          '+YI', '+YX', '+YY', '+YZ', '+ZI', '+ZX', '+ZY', '+ZZ',\n",
    "          '-II', '-IX', '-IY', '-IZ', '-XI', '-XX', '-XY', '-XZ',\n",
    "          '-YI', '-YX', '-YY', '-YZ', '-ZI', '-ZX', '-ZY', '-ZZ']\n",
    "# Shuffle Labels\n",
    "shuffle(labels)\n",
    "st = StabilizerTable.from_labels(labels)\n",
    "print('Initial Ordering')\n",
    "print(st)\n",
    "\n",
    "# Lexicographic Ordering\n",
    "srt = st.sort()\n",
    "print('Lexicographically sorted')\n",
    "print(srt)\n",
    "\n",
    "# Weight Ordering\n",
    "srt = st.sort(weight=True)\n",
    "print('Weight sorted')\n",
    "print(srt)"
   ]
  },
  {
   "cell_type": "code",
   "execution_count": 5,
   "id": "b778cd61",
   "metadata": {
    "execution": {
     "iopub.execute_input": "2021-06-24T16:42:47.788308Z",
     "iopub.status.busy": "2021-06-24T16:42:47.786799Z",
     "iopub.status.idle": "2021-06-24T16:42:47.790015Z",
     "shell.execute_reply": "2021-06-24T16:42:47.789550Z"
    }
   },
   "outputs": [
    {
     "name": "stdout",
     "output_type": "stream",
     "text": [
      "StabilizerTable: ['-IY', '+IZ', '+XY', '-XZ']\n"
     ]
    }
   ],
   "source": [
    "from qiskit.quantum_info.operators import StabilizerTable\n",
    "\n",
    "current = StabilizerTable.from_labels(['+I', '-X'])\n",
    "other =  StabilizerTable.from_labels(['-Y', '+Z'])\n",
    "print(current.tensor(other))"
   ]
  },
  {
   "cell_type": "code",
   "execution_count": 6,
   "id": "d955e87b",
   "metadata": {
    "execution": {
     "iopub.execute_input": "2021-06-24T16:42:47.796211Z",
     "iopub.status.busy": "2021-06-24T16:42:47.794855Z",
     "iopub.status.idle": "2021-06-24T16:42:47.797930Z",
     "shell.execute_reply": "2021-06-24T16:42:47.797341Z"
    }
   },
   "outputs": [
    {
     "name": "stdout",
     "output_type": "stream",
     "text": [
      "StabilizerTable: ['+X', '+I', '-I', '-X']\n"
     ]
    }
   ],
   "source": [
    "from qiskit.quantum_info.operators import StabilizerTable\n",
    "\n",
    "st = StabilizerTable.from_labels(['+X', '+I', '-I', '-X', '+X', '-X', '+I'])\n",
    "unique = st.unique()\n",
    "print(unique)"
   ]
  }
 ],
 "metadata": {
  "kernelspec": {
   "display_name": "Python 3",
   "language": "python",
   "name": "python3"
  },
  "language_info": {
   "codemirror_mode": {
    "name": "ipython",
    "version": 3
   },
   "file_extension": ".py",
   "mimetype": "text/x-python",
   "name": "python",
   "nbconvert_exporter": "python",
   "pygments_lexer": "ipython3",
   "version": "3.8.10"
  }
 },
 "nbformat": 4,
 "nbformat_minor": 5
}