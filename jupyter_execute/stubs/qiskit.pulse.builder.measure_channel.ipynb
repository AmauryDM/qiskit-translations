{
 "cells": [
  {
   "cell_type": "code",
   "execution_count": 1,
   "id": "3be8996f",
   "metadata": {
    "execution": {
     "iopub.execute_input": "2021-07-28T13:26:18.860701Z",
     "iopub.status.busy": "2021-07-28T13:26:18.860197Z",
     "iopub.status.idle": "2021-07-28T13:26:19.766313Z",
     "shell.execute_reply": "2021-07-28T13:26:19.765706Z"
    }
   },
   "outputs": [],
   "source": [
    "from qiskit import pulse\n",
    "from qiskit.test.mock import FakeOpenPulse2Q\n",
    "\n",
    "backend = FakeOpenPulse2Q()\n",
    "\n",
    "with pulse.build(backend):\n",
    "    assert pulse.measure_channel(0) == pulse.MeasureChannel(0)"
   ]
  }
 ],
 "metadata": {
  "kernelspec": {
   "display_name": "Python 3 (ipykernel)",
   "language": "python",
   "name": "python3"
  },
  "language_info": {
   "codemirror_mode": {
    "name": "ipython",
    "version": 3
   },
   "file_extension": ".py",
   "mimetype": "text/x-python",
   "name": "python",
   "nbconvert_exporter": "python",
   "pygments_lexer": "ipython3",
   "version": "3.8.11"
  }
 },
 "nbformat": 4,
 "nbformat_minor": 5
}