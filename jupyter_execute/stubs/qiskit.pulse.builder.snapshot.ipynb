{
 "cells": [
  {
   "cell_type": "code",
   "execution_count": 1,
   "id": "4c9fe4bb",
   "metadata": {
    "execution": {
     "iopub.execute_input": "2021-06-22T18:13:09.892110Z",
     "iopub.status.busy": "2021-06-22T18:13:09.890087Z",
     "iopub.status.idle": "2021-06-22T18:13:10.593606Z",
     "shell.execute_reply": "2021-06-22T18:13:10.592410Z"
    }
   },
   "outputs": [],
   "source": [
    "from qiskit import pulse\n",
    "\n",
    "with pulse.build() as pulse_prog:\n",
    "    pulse.snapshot('first', 'statevector')"
   ]
  }
 ],
 "metadata": {
  "kernelspec": {
   "display_name": "Python 3",
   "language": "python",
   "name": "python3"
  },
  "language_info": {
   "codemirror_mode": {
    "name": "ipython",
    "version": 3
   },
   "file_extension": ".py",
   "mimetype": "text/x-python",
   "name": "python",
   "nbconvert_exporter": "python",
   "pygments_lexer": "ipython3",
   "version": "3.8.10"
  }
 },
 "nbformat": 4,
 "nbformat_minor": 5
}