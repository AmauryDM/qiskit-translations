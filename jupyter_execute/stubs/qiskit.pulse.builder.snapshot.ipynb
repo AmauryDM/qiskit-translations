{
 "cells": [
  {
   "cell_type": "code",
   "execution_count": 1,
   "id": "9ef3c223",
   "metadata": {
    "execution": {
     "iopub.execute_input": "2021-07-12T16:13:58.351301Z",
     "iopub.status.busy": "2021-07-12T16:13:58.350640Z",
     "iopub.status.idle": "2021-07-12T16:13:59.092888Z",
     "shell.execute_reply": "2021-07-12T16:13:59.092253Z"
    }
   },
   "outputs": [],
   "source": [
    "from qiskit import pulse\n",
    "\n",
    "with pulse.build() as pulse_prog:\n",
    "    pulse.snapshot('first', 'statevector')"
   ]
  }
 ],
 "metadata": {
  "kernelspec": {
   "display_name": "Python 3 (ipykernel)",
   "language": "python",
   "name": "python3"
  },
  "language_info": {
   "codemirror_mode": {
    "name": "ipython",
    "version": 3
   },
   "file_extension": ".py",
   "mimetype": "text/x-python",
   "name": "python",
   "nbconvert_exporter": "python",
   "pygments_lexer": "ipython3",
   "version": "3.8.10"
  }
 },
 "nbformat": 4,
 "nbformat_minor": 5
}