{
 "cells": [
  {
   "cell_type": "code",
   "execution_count": 1,
   "id": "eb8ec4f7",
   "metadata": {
    "execution": {
     "iopub.execute_input": "2021-07-01T16:57:05.836306Z",
     "iopub.status.busy": "2021-07-01T16:57:05.835565Z",
     "iopub.status.idle": "2021-07-01T16:57:06.504259Z",
     "shell.execute_reply": "2021-07-01T16:57:06.503682Z"
    }
   },
   "outputs": [],
   "source": [
    "from qiskit import pulse\n",
    "\n",
    "with pulse.build() as pulse_prog:\n",
    "    pulse.snapshot('first', 'statevector')"
   ]
  }
 ],
 "metadata": {
  "kernelspec": {
   "display_name": "Python 3 (ipykernel)",
   "language": "python",
   "name": "python3"
  },
  "language_info": {
   "codemirror_mode": {
    "name": "ipython",
    "version": 3
   },
   "file_extension": ".py",
   "mimetype": "text/x-python",
   "name": "python",
   "nbconvert_exporter": "python",
   "pygments_lexer": "ipython3",
   "version": "3.8.10"
  }
 },
 "nbformat": 4,
 "nbformat_minor": 5
}