{
 "cells": [
  {
   "cell_type": "code",
   "execution_count": 1,
   "id": "daa73f0a",
   "metadata": {
    "execution": {
     "iopub.execute_input": "2021-06-22T21:45:44.593328Z",
     "iopub.status.busy": "2021-06-22T21:45:44.592685Z",
     "iopub.status.idle": "2021-06-22T21:45:45.359458Z",
     "shell.execute_reply": "2021-06-22T21:45:45.358800Z"
    }
   },
   "outputs": [],
   "source": [
    "from qiskit import pulse\n",
    "\n",
    "with pulse.build() as pulse_prog:\n",
    "    pulse.snapshot('first', 'statevector')"
   ]
  }
 ],
 "metadata": {
  "kernelspec": {
   "display_name": "Python 3",
   "language": "python",
   "name": "python3"
  },
  "language_info": {
   "codemirror_mode": {
    "name": "ipython",
    "version": 3
   },
   "file_extension": ".py",
   "mimetype": "text/x-python",
   "name": "python",
   "nbconvert_exporter": "python",
   "pygments_lexer": "ipython3",
   "version": "3.8.10"
  }
 },
 "nbformat": 4,
 "nbformat_minor": 5
}