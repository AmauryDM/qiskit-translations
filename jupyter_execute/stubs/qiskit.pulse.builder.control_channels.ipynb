{
 "cells": [
  {
   "cell_type": "code",
   "execution_count": 1,
   "id": "dc3f0bd9",
   "metadata": {
    "execution": {
     "iopub.execute_input": "2021-06-24T08:46:05.011239Z",
     "iopub.status.busy": "2021-06-24T08:46:05.010641Z",
     "iopub.status.idle": "2021-06-24T08:46:06.017028Z",
     "shell.execute_reply": "2021-06-24T08:46:06.017411Z"
    }
   },
   "outputs": [],
   "source": [
    "from qiskit import pulse\n",
    "from qiskit.test.mock import FakeOpenPulse2Q\n",
    "\n",
    "backend = FakeOpenPulse2Q()\n",
    "with pulse.build(backend):\n",
    "    assert pulse.control_channels(0, 1) == [pulse.ControlChannel(0)]"
   ]
  }
 ],
 "metadata": {
  "kernelspec": {
   "display_name": "Python 3",
   "language": "python",
   "name": "python3"
  },
  "language_info": {
   "codemirror_mode": {
    "name": "ipython",
    "version": 3
   },
   "file_extension": ".py",
   "mimetype": "text/x-python",
   "name": "python",
   "nbconvert_exporter": "python",
   "pygments_lexer": "ipython3",
   "version": "3.8.10"
  }
 },
 "nbformat": 4,
 "nbformat_minor": 5
}