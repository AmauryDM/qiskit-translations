{
 "cells": [
  {
   "cell_type": "code",
   "execution_count": 1,
   "id": "cfe9632d",
   "metadata": {
    "execution": {
     "iopub.execute_input": "2021-06-24T16:41:20.237206Z",
     "iopub.status.busy": "2021-06-24T16:41:20.235663Z",
     "iopub.status.idle": "2021-06-24T16:41:21.410989Z",
     "shell.execute_reply": "2021-06-24T16:41:21.411703Z"
    }
   },
   "outputs": [],
   "source": [
    "from qiskit import pulse\n",
    "from qiskit.test.mock import FakeOpenPulse2Q\n",
    "\n",
    "backend = FakeOpenPulse2Q()\n",
    "with pulse.build(backend):\n",
    "    assert pulse.control_channels(0, 1) == [pulse.ControlChannel(0)]"
   ]
  }
 ],
 "metadata": {
  "kernelspec": {
   "display_name": "Python 3",
   "language": "python",
   "name": "python3"
  },
  "language_info": {
   "codemirror_mode": {
    "name": "ipython",
    "version": 3
   },
   "file_extension": ".py",
   "mimetype": "text/x-python",
   "name": "python",
   "nbconvert_exporter": "python",
   "pygments_lexer": "ipython3",
   "version": "3.8.10"
  }
 },
 "nbformat": 4,
 "nbformat_minor": 5
}