{
 "cells": [
  {
   "cell_type": "code",
   "execution_count": 1,
   "id": "86a87e9b",
   "metadata": {
    "execution": {
     "iopub.execute_input": "2021-06-23T21:10:34.438720Z",
     "iopub.status.busy": "2021-06-23T21:10:34.435371Z",
     "iopub.status.idle": "2021-06-23T21:10:35.109746Z",
     "shell.execute_reply": "2021-06-23T21:10:35.110519Z"
    }
   },
   "outputs": [],
   "source": [
    "import math\n",
    "\n",
    "from qiskit import pulse\n",
    "\n",
    "d0 = pulse.DriveChannel(0)\n",
    "\n",
    "with pulse.build() as pulse_prog:\n",
    "    pulse.shift_phase(math.pi, d0)"
   ]
  }
 ],
 "metadata": {
  "kernelspec": {
   "display_name": "Python 3",
   "language": "python",
   "name": "python3"
  },
  "language_info": {
   "codemirror_mode": {
    "name": "ipython",
    "version": 3
   },
   "file_extension": ".py",
   "mimetype": "text/x-python",
   "name": "python",
   "nbconvert_exporter": "python",
   "pygments_lexer": "ipython3",
   "version": "3.8.10"
  }
 },
 "nbformat": 4,
 "nbformat_minor": 5
}