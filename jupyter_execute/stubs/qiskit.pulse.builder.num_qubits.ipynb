{
 "cells": [
  {
   "cell_type": "code",
   "execution_count": 1,
   "id": "4ab4cda7",
   "metadata": {
    "execution": {
     "iopub.execute_input": "2021-07-12T16:13:43.296821Z",
     "iopub.status.busy": "2021-07-12T16:13:43.296193Z",
     "iopub.status.idle": "2021-07-12T16:13:44.574829Z",
     "shell.execute_reply": "2021-07-12T16:13:44.575293Z"
    }
   },
   "outputs": [
    {
     "name": "stdout",
     "output_type": "stream",
     "text": [
      "2\n"
     ]
    }
   ],
   "source": [
    "from qiskit import pulse\n",
    "from qiskit.test.mock import FakeOpenPulse2Q\n",
    "\n",
    "backend = FakeOpenPulse2Q()\n",
    "\n",
    "with pulse.build(backend):\n",
    "    print(pulse.num_qubits())"
   ]
  }
 ],
 "metadata": {
  "kernelspec": {
   "display_name": "Python 3 (ipykernel)",
   "language": "python",
   "name": "python3"
  },
  "language_info": {
   "codemirror_mode": {
    "name": "ipython",
    "version": 3
   },
   "file_extension": ".py",
   "mimetype": "text/x-python",
   "name": "python",
   "nbconvert_exporter": "python",
   "pygments_lexer": "ipython3",
   "version": "3.8.10"
  }
 },
 "nbformat": 4,
 "nbformat_minor": 5
}