{
 "cells": [
  {
   "cell_type": "code",
   "execution_count": 1,
   "id": "2c0606d5",
   "metadata": {
    "execution": {
     "iopub.execute_input": "2021-06-22T21:45:24.268271Z",
     "iopub.status.busy": "2021-06-22T21:45:24.267592Z",
     "iopub.status.idle": "2021-06-22T21:45:25.573458Z",
     "shell.execute_reply": "2021-06-22T21:45:25.572846Z"
    }
   },
   "outputs": [
    {
     "name": "stdout",
     "output_type": "stream",
     "text": [
      "2\n"
     ]
    }
   ],
   "source": [
    "from qiskit import pulse\n",
    "from qiskit.test.mock import FakeOpenPulse2Q\n",
    "\n",
    "backend = FakeOpenPulse2Q()\n",
    "\n",
    "with pulse.build(backend):\n",
    "    print(pulse.num_qubits())"
   ]
  }
 ],
 "metadata": {
  "kernelspec": {
   "display_name": "Python 3",
   "language": "python",
   "name": "python3"
  },
  "language_info": {
   "codemirror_mode": {
    "name": "ipython",
    "version": 3
   },
   "file_extension": ".py",
   "mimetype": "text/x-python",
   "name": "python",
   "nbconvert_exporter": "python",
   "pygments_lexer": "ipython3",
   "version": "3.8.10"
  }
 },
 "nbformat": 4,
 "nbformat_minor": 5
}