{
 "cells": [
  {
   "cell_type": "code",
   "execution_count": 1,
   "id": "43273f54",
   "metadata": {
    "execution": {
     "iopub.execute_input": "2021-07-02T14:34:29.463482Z",
     "iopub.status.busy": "2021-07-02T14:34:29.462855Z",
     "iopub.status.idle": "2021-07-02T14:34:30.621456Z",
     "shell.execute_reply": "2021-07-02T14:34:30.620898Z"
    }
   },
   "outputs": [
    {
     "name": "stdout",
     "output_type": "stream",
     "text": [
      "2\n"
     ]
    }
   ],
   "source": [
    "from qiskit import pulse\n",
    "from qiskit.test.mock import FakeOpenPulse2Q\n",
    "\n",
    "backend = FakeOpenPulse2Q()\n",
    "\n",
    "with pulse.build(backend):\n",
    "    print(pulse.num_qubits())"
   ]
  }
 ],
 "metadata": {
  "kernelspec": {
   "display_name": "Python 3 (ipykernel)",
   "language": "python",
   "name": "python3"
  },
  "language_info": {
   "codemirror_mode": {
    "name": "ipython",
    "version": 3
   },
   "file_extension": ".py",
   "mimetype": "text/x-python",
   "name": "python",
   "nbconvert_exporter": "python",
   "pygments_lexer": "ipython3",
   "version": "3.8.10"
  }
 },
 "nbformat": 4,
 "nbformat_minor": 5
}