{
 "cells": [
  {
   "cell_type": "code",
   "execution_count": 1,
   "id": "6b1c5a53",
   "metadata": {
    "execution": {
     "iopub.execute_input": "2021-06-30T21:54:09.124924Z",
     "iopub.status.busy": "2021-06-30T21:54:09.124356Z",
     "iopub.status.idle": "2021-06-30T21:54:10.262619Z",
     "shell.execute_reply": "2021-06-30T21:54:10.261665Z"
    }
   },
   "outputs": [],
   "source": [
    "from qiskit import pulse\n",
    "from qiskit.test.mock import FakeOpenPulse2Q\n",
    "\n",
    "backend = FakeOpenPulse2Q()\n",
    "\n",
    "with pulse.build(backend):\n",
    "    assert pulse.drive_channel(0) == pulse.DriveChannel(0)"
   ]
  }
 ],
 "metadata": {
  "kernelspec": {
   "display_name": "Python 3 (ipykernel)",
   "language": "python",
   "name": "python3"
  },
  "language_info": {
   "codemirror_mode": {
    "name": "ipython",
    "version": 3
   },
   "file_extension": ".py",
   "mimetype": "text/x-python",
   "name": "python",
   "nbconvert_exporter": "python",
   "pygments_lexer": "ipython3",
   "version": "3.8.10"
  }
 },
 "nbformat": 4,
 "nbformat_minor": 5
}