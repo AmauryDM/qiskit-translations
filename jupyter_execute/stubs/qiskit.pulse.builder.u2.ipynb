{
 "cells": [
  {
   "cell_type": "code",
   "execution_count": 1,
   "id": "bb7172d6",
   "metadata": {
    "execution": {
     "iopub.execute_input": "2021-06-22T18:13:17.560375Z",
     "iopub.status.busy": "2021-06-22T18:13:17.559678Z",
     "iopub.status.idle": "2021-06-22T18:13:18.928306Z",
     "shell.execute_reply": "2021-06-22T18:13:18.927236Z"
    }
   },
   "outputs": [],
   "source": [
    "import math\n",
    "\n",
    "from qiskit import pulse\n",
    "from qiskit.test.mock import FakeOpenPulse2Q\n",
    "\n",
    "backend = FakeOpenPulse2Q()\n",
    "\n",
    "with pulse.build(backend) as pulse_prog:\n",
    "    pulse.u2(0, math.pi, 1)"
   ]
  }
 ],
 "metadata": {
  "kernelspec": {
   "display_name": "Python 3",
   "language": "python",
   "name": "python3"
  },
  "language_info": {
   "codemirror_mode": {
    "name": "ipython",
    "version": 3
   },
   "file_extension": ".py",
   "mimetype": "text/x-python",
   "name": "python",
   "nbconvert_exporter": "python",
   "pygments_lexer": "ipython3",
   "version": "3.8.10"
  }
 },
 "nbformat": 4,
 "nbformat_minor": 5
}