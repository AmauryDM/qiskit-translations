{
 "cells": [
  {
   "cell_type": "code",
   "execution_count": 1,
   "id": "4c3d4f52",
   "metadata": {
    "execution": {
     "iopub.execute_input": "2021-07-09T12:53:06.999800Z",
     "iopub.status.busy": "2021-07-09T12:53:06.999268Z",
     "iopub.status.idle": "2021-07-09T12:53:07.887080Z",
     "shell.execute_reply": "2021-07-09T12:53:07.886102Z"
    }
   },
   "outputs": [],
   "source": [
    "import numpy as np\n",
    "from qiskit.algorithms import NumPyLinearSolver\n",
    "from qiskit.algorithms.linear_solvers.matrices import TridiagonalToeplitz\n",
    "from qiskit.algorithms.linear_solvers.observables import MatrixFunctional\n",
    "\n",
    "matrix = TridiagonalToeplitz(2, 1, 1 / 3, trotter_steps=2)\n",
    "right_hand_side = [1.0, -2.1, 3.2, -4.3]\n",
    "observable = MatrixFunctional(1, 1 / 2)\n",
    "rhs = right_hand_side / np.linalg.norm(right_hand_side)\n",
    "\n",
    "np_solver = NumPyLinearSolver()\n",
    "solution = np_solver.solve(matrix, rhs, observable)\n",
    "result = solution.observable"
   ]
  }
 ],
 "metadata": {
  "kernelspec": {
   "display_name": "Python 3 (ipykernel)",
   "language": "python",
   "name": "python3"
  },
  "language_info": {
   "codemirror_mode": {
    "name": "ipython",
    "version": 3
   },
   "file_extension": ".py",
   "mimetype": "text/x-python",
   "name": "python",
   "nbconvert_exporter": "python",
   "pygments_lexer": "ipython3",
   "version": "3.8.10"
  }
 },
 "nbformat": 4,
 "nbformat_minor": 5
}