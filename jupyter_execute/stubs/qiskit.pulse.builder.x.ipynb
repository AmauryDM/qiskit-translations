{
 "cells": [
  {
   "cell_type": "code",
   "execution_count": 1,
   "id": "8ac002d3",
   "metadata": {
    "execution": {
     "iopub.execute_input": "2021-07-28T13:26:53.354700Z",
     "iopub.status.busy": "2021-07-28T13:26:53.354207Z",
     "iopub.status.idle": "2021-07-28T13:26:54.668160Z",
     "shell.execute_reply": "2021-07-28T13:26:54.668575Z"
    }
   },
   "outputs": [],
   "source": [
    "from qiskit import pulse\n",
    "from qiskit.test.mock import FakeOpenPulse2Q\n",
    "\n",
    "backend = FakeOpenPulse2Q()\n",
    "\n",
    "with pulse.build(backend) as pulse_prog:\n",
    "    pulse.x(0)"
   ]
  }
 ],
 "metadata": {
  "kernelspec": {
   "display_name": "Python 3 (ipykernel)",
   "language": "python",
   "name": "python3"
  },
  "language_info": {
   "codemirror_mode": {
    "name": "ipython",
    "version": 3
   },
   "file_extension": ".py",
   "mimetype": "text/x-python",
   "name": "python",
   "nbconvert_exporter": "python",
   "pygments_lexer": "ipython3",
   "version": "3.8.11"
  }
 },
 "nbformat": 4,
 "nbformat_minor": 5
}